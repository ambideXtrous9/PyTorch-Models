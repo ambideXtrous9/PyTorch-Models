{
 "cells": [
  {
   "cell_type": "code",
   "execution_count": 1,
   "metadata": {},
   "outputs": [
    {
     "name": "stderr",
     "output_type": "stream",
     "text": [
      "[nltk_data] Downloading package stopwords to\n",
      "[nltk_data]     /home/student1/sushovan.saha/nltk_data...\n",
      "[nltk_data]   Package stopwords is already up-to-date!\n"
     ]
    }
   ],
   "source": [
    "import numpy as np\n",
    "import pandas as pd\n",
    "from matplotlib import pyplot as plt\n",
    "import torch\n",
    "from torch import nn\n",
    "from sklearn.model_selection import train_test_split\n",
    "import warnings\n",
    "warnings.filterwarnings(action='ignore',category=UserWarning)\n",
    "warnings.filterwarnings(action='ignore',category=FutureWarning)\n",
    "import W2V3\n",
    "from sklearn import metrics"
   ]
  },
  {
   "cell_type": "code",
   "execution_count": 2,
   "metadata": {},
   "outputs": [],
   "source": [
    "glove_path = 'glove.6B.100d.txt'"
   ]
  },
  {
   "cell_type": "code",
   "execution_count": 3,
   "metadata": {},
   "outputs": [
    {
     "name": "stdout",
     "output_type": "stream",
     "text": [
      "number of word in vocabulary 21678\n",
      "word in sentences are replaced with word ID [[    0     0     0 ...    83  3352   403]\n",
      " [    0     0     0 ...   244  5664    30]\n",
      " [    0     0     0 ...  4939    70  3962]\n",
      " ...\n",
      " [    0     0     0 ...   420  8176 21678]\n",
      " [    0     0     0 ...   397   264  1499]\n",
      " [    0     0     0 ...    47   435     1]]\n",
      "The size of vocabulary  21679\n",
      "Loaded 400000 word vectors.\n",
      "(26590, 120, 100)\n",
      "number of word in vocabulary 143699\n",
      "word in sentences are replaced with word ID [[   3    2   24 ...    9  114 1996]\n",
      " [9796  590 2684 ...   61 1065 3100]\n",
      " [1958 2002 7091 ... 7257 2133 1951]\n",
      " ...\n",
      " [   2  900   94 ...  156  882   19]\n",
      " [   2   58 1794 ...   57   47   84]\n",
      " [3262 3233 4319 ...  472  382 2286]]\n",
      "The size of vocabulary  143700\n",
      "Loaded 400000 word vectors.\n",
      "(26590, 120, 100)\n"
     ]
    }
   ],
   "source": [
    "X_head_train,X_body_train,y_train = W2V3.Sentence2Vec(filename='Train.xlsx',glovepath=glove_path, embedding_dim=100, max_length=120)"
   ]
  },
  {
   "cell_type": "code",
   "execution_count": 4,
   "metadata": {},
   "outputs": [
    {
     "name": "stdout",
     "output_type": "stream",
     "text": [
      "number of word in vocabulary 4343\n",
      "word in sentences are replaced with word ID [[   0    0    0 ...    7 1623  645]\n",
      " [   0    0    0 ...   87 1626  646]\n",
      " [   0    0    0 ...  179  202  647]\n",
      " ...\n",
      " [   0    0    0 ...  147 4339   29]\n",
      " [   0    0    0 ... 4342 4343 1261]\n",
      " [   0    0    0 ...  125   22 1619]]\n",
      "The size of vocabulary  4344\n",
      "Loaded 400000 word vectors.\n",
      "(1300, 120, 100)\n",
      "number of word in vocabulary 37490\n",
      "word in sentences are replaced with word ID [[   15  2444  1170 ...  6866  6867   292]\n",
      " [ 1849  1254 17674 ... 10294   477   271]\n",
      " [   66  3773   922 ...   352  1242    17]\n",
      " ...\n",
      " [  252   610  3654 ...  2282  1443   403]\n",
      " [   36    49    73 ...  4708   219   997]\n",
      " [  452   312   956 ...    12   394     6]]\n",
      "The size of vocabulary  37491\n",
      "Loaded 400000 word vectors.\n",
      "(1300, 120, 100)\n"
     ]
    }
   ],
   "source": [
    "X_head_test,X_body_test,y_test = W2V3.Sentence2Vec(filename='Test.xlsx',glovepath=glove_path, embedding_dim=100, max_length=120)"
   ]
  },
  {
   "cell_type": "code",
   "execution_count": 5,
   "metadata": {},
   "outputs": [
    {
     "name": "stdout",
     "output_type": "stream",
     "text": [
      "(1300, 120, 100)\n",
      "(1300, 120, 100)\n"
     ]
    }
   ],
   "source": [
    "print(X_head_test.shape)\n",
    "print(X_body_test.shape)"
   ]
  },
  {
   "cell_type": "code",
   "execution_count": 6,
   "metadata": {},
   "outputs": [
    {
     "data": {
      "text/plain": [
       "1300"
      ]
     },
     "execution_count": 6,
     "metadata": {},
     "output_type": "execute_result"
    }
   ],
   "source": [
    "len(X_body_test)"
   ]
  },
  {
   "cell_type": "code",
   "execution_count": 7,
   "metadata": {},
   "outputs": [
    {
     "data": {
      "text/plain": [
       "2    10241\n",
       "0     8861\n",
       "1     7488\n",
       "dtype: int64"
      ]
     },
     "execution_count": 7,
     "metadata": {},
     "output_type": "execute_result"
    }
   ],
   "source": [
    "pd.Series(y_train).value_counts()"
   ]
  },
  {
   "cell_type": "code",
   "execution_count": 8,
   "metadata": {},
   "outputs": [
    {
     "data": {
      "text/plain": [
       "2    599\n",
       "0    402\n",
       "1    299\n",
       "dtype: int64"
      ]
     },
     "execution_count": 8,
     "metadata": {},
     "output_type": "execute_result"
    }
   ],
   "source": [
    "pd.Series(y_test).value_counts()"
   ]
  },
  {
   "cell_type": "code",
   "execution_count": 9,
   "metadata": {},
   "outputs": [],
   "source": [
    "max_length = X_body_train.shape[1]"
   ]
  },
  {
   "cell_type": "code",
   "execution_count": 10,
   "metadata": {},
   "outputs": [],
   "source": [
    "from torch.autograd import Variable\n",
    "class myLSTM(nn.Module):\n",
    "\n",
    "    def __init__(self, dimension, hidd_dim):\n",
    "        super().__init__()\n",
    "        self.hidd_dim = hidd_dim\n",
    "        self.lstm = nn.LSTM(input_size=dimension,\n",
    "        hidden_size=self.hidd_dim,\n",
    "        num_layers=2,\n",
    "        batch_first=True,\n",
    "        bidirectional=False)\n",
    "        self.drop = nn.Dropout(p=0.5)\n",
    "        self.fc = nn.Linear(hidd_dim**2, 3)\n",
    "        self.act = nn.Softmax()\n",
    "\n",
    "\n",
    "\n",
    "    def forward(self, head,body, batch_size):\n",
    "        np.random.seed(1)\n",
    "        h_0_head = Variable(torch.rand(2, batch_size, self.hidd_dim))\n",
    "        c_0_head = Variable(torch.rand(2, batch_size, self.hidd_dim))\n",
    "        h_0_body = Variable(torch.rand(2, batch_size, self.hidd_dim))\n",
    "        c_0_body = Variable(torch.rand(2, batch_size, self.hidd_dim))\n",
    "        head, (final_hidden_state_head, final_cell_state_head) = self.lstm(head, (h_0_head, c_0_head))\n",
    "        body, (final_hidden_state_body, final_cell_state_body) = self.lstm(body, (h_0_body, c_0_body))\n",
    "        h = final_hidden_state_head[-1]\n",
    "        b = final_hidden_state_body[-1]\n",
    "        x = torch.einsum('bi,bj->bij', h, b)\n",
    "        x = torch.flatten(x,start_dim=1)\n",
    "        x = self.fc(x)\n",
    "        x = self.act(x)\n",
    "        return x\n",
    "\n",
    "\n",
    "            "
   ]
  },
  {
   "cell_type": "code",
   "execution_count": 11,
   "metadata": {},
   "outputs": [],
   "source": [
    "def train(model, head,body, y, loss_fn, optimizer, batch_size=1024):\n",
    "    model.train()\n",
    "    head,body, y = torch.Tensor(head),torch.Tensor(head), torch.Tensor(y)\n",
    "    y = y.type(torch.LongTensor)\n",
    "    net_loss = 0\n",
    "    \n",
    "    for i in range(0, len(head), batch_size):\n",
    "        i_end = i+batch_size\n",
    "        head_batch = head[i:min(i_end, len(head))]\n",
    "        body_batch = body[i:min(i_end, len(body))]\n",
    "        y_batch = y[i:min(i_end, len(head))]\n",
    "        \n",
    "        pred = model(head_batch,body_batch,head_batch.shape[0])\n",
    "        loss = loss_fn(pred, y_batch)\n",
    "        net_loss = net_loss+loss.item()\n",
    "        \n",
    "        optimizer.zero_grad()\n",
    "        loss.backward()\n",
    "        optimizer.step()\n",
    "        \n",
    "    return net_loss\n",
    "\n",
    "def test(model, head,body, yts,batchsize):\n",
    "    model.eval()\n",
    "    with torch.no_grad():\n",
    "        head = torch.Tensor(head)\n",
    "        body = torch.Tensor(body)\n",
    "        pred = model(head,body,batchsize)\n",
    "        loss = loss_fn(pred, torch.Tensor(yts).type(torch.LongTensor))\n",
    "        yhat = np.argmax(pred, axis=1).numpy()\n",
    "        acc = np.sum(yhat==yts)*100/yhat.shape[0]\n",
    "        f1 = metrics.f1_score(yts,yhat,average=None)\n",
    "        return acc, f1,loss"
   ]
  },
  {
   "cell_type": "code",
   "execution_count": 12,
   "metadata": {},
   "outputs": [
    {
     "name": "stdout",
     "output_type": "stream",
     "text": [
      "--- Epoch 1 ---\n",
      "\tCross Entropy Loss (Training) : 55.44005811214447 \n",
      "\tTrain Accuracy : 40.82 % \n",
      "\tTest Accuracy : 44.92 % \n",
      "--- Epoch 2 ---\n",
      "\tCross Entropy Loss (Training) : 53.210767328739166 \n",
      "\tTrain Accuracy : 42.58 % \n",
      "\tTest Accuracy : 44.77 % \n",
      "--- Epoch 3 ---\n",
      "\tCross Entropy Loss (Training) : 52.343453884124756 \n",
      "\tTrain Accuracy : 43.63 % \n",
      "\tTest Accuracy : 45.62 % \n",
      "--- Epoch 4 ---\n",
      "\tCross Entropy Loss (Training) : 51.86027151346207 \n",
      "\tTrain Accuracy : 45.73 % \n",
      "\tTest Accuracy : 45.08 % \n",
      "--- Epoch 5 ---\n",
      "\tCross Entropy Loss (Training) : 51.45372849702835 \n",
      "\tTrain Accuracy : 44.73 % \n",
      "\tTest Accuracy : 45.69 % \n",
      "--- Epoch 6 ---\n",
      "\tCross Entropy Loss (Training) : 50.99092435836792 \n",
      "\tTrain Accuracy : 41.81 % \n",
      "\tTest Accuracy : 46.00 % \n",
      "--- Epoch 7 ---\n",
      "\tCross Entropy Loss (Training) : 50.46536201238632 \n",
      "\tTrain Accuracy : 40.79 % \n",
      "\tTest Accuracy : 45.77 % \n",
      "--- Epoch 8 ---\n",
      "\tCross Entropy Loss (Training) : 50.0136314034462 \n",
      "\tTrain Accuracy : 39.44 % \n",
      "\tTest Accuracy : 45.92 % \n",
      "--- Epoch 9 ---\n",
      "\tCross Entropy Loss (Training) : 49.95064377784729 \n",
      "\tTrain Accuracy : 42.43 % \n",
      "\tTest Accuracy : 46.77 % \n",
      "--- Epoch 10 ---\n",
      "\tCross Entropy Loss (Training) : 49.43701380491257 \n",
      "\tTrain Accuracy : 45.72 % \n",
      "\tTest Accuracy : 45.77 % \n",
      "--- Epoch 11 ---\n",
      "\tCross Entropy Loss (Training) : 48.744717955589294 \n",
      "\tTrain Accuracy : 47.45 % \n",
      "\tTest Accuracy : 45.77 % \n",
      "--- Epoch 12 ---\n",
      "\tCross Entropy Loss (Training) : 48.415701150894165 \n",
      "\tTrain Accuracy : 45.55 % \n",
      "\tTest Accuracy : 45.69 % \n",
      "--- Epoch 13 ---\n",
      "\tCross Entropy Loss (Training) : 48.407221496105194 \n",
      "\tTrain Accuracy : 43.58 % \n",
      "\tTest Accuracy : 46.00 % \n",
      "--- Epoch 14 ---\n",
      "\tCross Entropy Loss (Training) : 47.89837425947189 \n",
      "\tTrain Accuracy : 45.82 % \n",
      "\tTest Accuracy : 46.85 % \n",
      "--- Epoch 15 ---\n",
      "\tCross Entropy Loss (Training) : 48.160221576690674 \n",
      "\tTrain Accuracy : 42.97 % \n",
      "\tTest Accuracy : 45.38 % \n",
      "--- Epoch 16 ---\n",
      "\tCross Entropy Loss (Training) : 47.47747015953064 \n",
      "\tTrain Accuracy : 44.85 % \n",
      "\tTest Accuracy : 45.31 % \n",
      "--- Epoch 17 ---\n",
      "\tCross Entropy Loss (Training) : 47.43125307559967 \n",
      "\tTrain Accuracy : 46.92 % \n",
      "\tTest Accuracy : 45.85 % \n",
      "--- Epoch 18 ---\n",
      "\tCross Entropy Loss (Training) : 46.66469419002533 \n",
      "\tTrain Accuracy : 49.40 % \n",
      "\tTest Accuracy : 45.69 % \n",
      "--- Epoch 19 ---\n",
      "\tCross Entropy Loss (Training) : 46.473537266254425 \n",
      "\tTrain Accuracy : 50.49 % \n",
      "\tTest Accuracy : 43.85 % \n",
      "--- Epoch 20 ---\n",
      "\tCross Entropy Loss (Training) : 46.02421772480011 \n",
      "\tTrain Accuracy : 50.33 % \n",
      "\tTest Accuracy : 43.77 % \n",
      "--- Epoch 21 ---\n",
      "\tCross Entropy Loss (Training) : 46.09574645757675 \n",
      "\tTrain Accuracy : 49.35 % \n",
      "\tTest Accuracy : 43.92 % \n",
      "--- Epoch 22 ---\n",
      "\tCross Entropy Loss (Training) : 45.845809638500214 \n",
      "\tTrain Accuracy : 49.73 % \n",
      "\tTest Accuracy : 43.77 % \n",
      "--- Epoch 23 ---\n",
      "\tCross Entropy Loss (Training) : 45.841821908950806 \n",
      "\tTrain Accuracy : 49.18 % \n",
      "\tTest Accuracy : 45.92 % \n",
      "--- Epoch 24 ---\n",
      "\tCross Entropy Loss (Training) : 46.505049884319305 \n",
      "\tTrain Accuracy : 46.48 % \n",
      "\tTest Accuracy : 44.77 % \n",
      "--- Epoch 25 ---\n",
      "\tCross Entropy Loss (Training) : 45.68878412246704 \n",
      "\tTrain Accuracy : 42.77 % \n",
      "\tTest Accuracy : 44.54 % \n",
      "--- Epoch 26 ---\n",
      "\tCross Entropy Loss (Training) : 45.151170670986176 \n",
      "\tTrain Accuracy : 43.17 % \n",
      "\tTest Accuracy : 45.08 % \n",
      "--- Epoch 27 ---\n",
      "\tCross Entropy Loss (Training) : 44.84267997741699 \n",
      "\tTrain Accuracy : 41.14 % \n",
      "\tTest Accuracy : 45.00 % \n",
      "--- Epoch 28 ---\n",
      "\tCross Entropy Loss (Training) : 44.223035871982574 \n",
      "\tTrain Accuracy : 41.27 % \n",
      "\tTest Accuracy : 44.54 % \n",
      "--- Epoch 29 ---\n",
      "\tCross Entropy Loss (Training) : 44.119068801403046 \n",
      "\tTrain Accuracy : 41.71 % \n",
      "\tTest Accuracy : 45.23 % \n",
      "--- Epoch 30 ---\n",
      "\tCross Entropy Loss (Training) : 43.46995711326599 \n",
      "\tTrain Accuracy : 41.27 % \n",
      "\tTest Accuracy : 45.62 % \n",
      "--- Epoch 31 ---\n",
      "\tCross Entropy Loss (Training) : 43.44665718078613 \n",
      "\tTrain Accuracy : 40.49 % \n",
      "\tTest Accuracy : 45.62 % \n",
      "--- Epoch 32 ---\n",
      "\tCross Entropy Loss (Training) : 43.76728415489197 \n",
      "\tTrain Accuracy : 41.03 % \n",
      "\tTest Accuracy : 46.08 % \n",
      "--- Epoch 33 ---\n",
      "\tCross Entropy Loss (Training) : 43.27841728925705 \n",
      "\tTrain Accuracy : 41.24 % \n",
      "\tTest Accuracy : 45.31 % \n",
      "--- Epoch 34 ---\n",
      "\tCross Entropy Loss (Training) : 42.51334923505783 \n",
      "\tTrain Accuracy : 43.05 % \n",
      "\tTest Accuracy : 44.23 % \n",
      "--- Epoch 35 ---\n",
      "\tCross Entropy Loss (Training) : 41.84968900680542 \n",
      "\tTrain Accuracy : 42.63 % \n",
      "\tTest Accuracy : 44.69 % \n",
      "--- Epoch 36 ---\n",
      "\tCross Entropy Loss (Training) : 41.34663504362106 \n",
      "\tTrain Accuracy : 42.96 % \n",
      "\tTest Accuracy : 45.38 % \n",
      "--- Epoch 37 ---\n",
      "\tCross Entropy Loss (Training) : 41.251057624816895 \n",
      "\tTrain Accuracy : 45.39 % \n",
      "\tTest Accuracy : 44.38 % \n",
      "--- Epoch 38 ---\n",
      "\tCross Entropy Loss (Training) : 41.2563374042511 \n",
      "\tTrain Accuracy : 47.65 % \n",
      "\tTest Accuracy : 43.31 % \n",
      "--- Epoch 39 ---\n",
      "\tCross Entropy Loss (Training) : 41.48820275068283 \n",
      "\tTrain Accuracy : 45.04 % \n",
      "\tTest Accuracy : 43.38 % \n",
      "--- Epoch 40 ---\n",
      "\tCross Entropy Loss (Training) : 41.19569706916809 \n",
      "\tTrain Accuracy : 43.88 % \n",
      "\tTest Accuracy : 43.92 % \n",
      "--- Epoch 41 ---\n",
      "\tCross Entropy Loss (Training) : 40.92197376489639 \n",
      "\tTrain Accuracy : 44.34 % \n",
      "\tTest Accuracy : 44.85 % \n",
      "--- Epoch 42 ---\n",
      "\tCross Entropy Loss (Training) : 40.58738070726395 \n",
      "\tTrain Accuracy : 43.73 % \n",
      "\tTest Accuracy : 45.23 % \n",
      "--- Epoch 43 ---\n",
      "\tCross Entropy Loss (Training) : 41.0078130364418 \n",
      "\tTrain Accuracy : 42.96 % \n",
      "\tTest Accuracy : 45.92 % \n",
      "--- Epoch 44 ---\n",
      "\tCross Entropy Loss (Training) : 40.60070288181305 \n",
      "\tTrain Accuracy : 42.79 % \n",
      "\tTest Accuracy : 45.38 % \n",
      "--- Epoch 45 ---\n",
      "\tCross Entropy Loss (Training) : 40.5953574180603 \n",
      "\tTrain Accuracy : 42.37 % \n",
      "\tTest Accuracy : 44.08 % \n",
      "--- Epoch 46 ---\n",
      "\tCross Entropy Loss (Training) : 40.72871541976929 \n",
      "\tTrain Accuracy : 42.37 % \n",
      "\tTest Accuracy : 45.46 % \n",
      "--- Epoch 47 ---\n",
      "\tCross Entropy Loss (Training) : 41.021272003650665 \n",
      "\tTrain Accuracy : 43.40 % \n",
      "\tTest Accuracy : 45.69 % \n",
      "--- Epoch 48 ---\n",
      "\tCross Entropy Loss (Training) : 40.71709620952606 \n",
      "\tTrain Accuracy : 46.57 % \n",
      "\tTest Accuracy : 45.15 % \n",
      "--- Epoch 49 ---\n",
      "\tCross Entropy Loss (Training) : 40.36577981710434 \n",
      "\tTrain Accuracy : 46.10 % \n",
      "\tTest Accuracy : 44.23 % \n",
      "--- Epoch 50 ---\n",
      "\tCross Entropy Loss (Training) : 40.11838549375534 \n",
      "\tTrain Accuracy : 46.81 % \n",
      "\tTest Accuracy : 44.85 % \n",
      "--- Epoch 51 ---\n",
      "\tCross Entropy Loss (Training) : 39.7174374461174 \n",
      "\tTrain Accuracy : 46.62 % \n",
      "\tTest Accuracy : 45.08 % \n",
      "--- Epoch 52 ---\n",
      "\tCross Entropy Loss (Training) : 39.97622615098953 \n",
      "\tTrain Accuracy : 48.00 % \n",
      "\tTest Accuracy : 44.00 % \n",
      "--- Epoch 53 ---\n",
      "\tCross Entropy Loss (Training) : 40.260145246982574 \n",
      "\tTrain Accuracy : 50.20 % \n",
      "\tTest Accuracy : 42.38 % \n",
      "--- Epoch 54 ---\n",
      "\tCross Entropy Loss (Training) : 40.234202444553375 \n",
      "\tTrain Accuracy : 52.67 % \n",
      "\tTest Accuracy : 39.38 % \n",
      "--- Epoch 55 ---\n",
      "\tCross Entropy Loss (Training) : 39.60056287050247 \n",
      "\tTrain Accuracy : 52.91 % \n",
      "\tTest Accuracy : 39.85 % \n",
      "--- Epoch 56 ---\n",
      "\tCross Entropy Loss (Training) : 39.11146080493927 \n",
      "\tTrain Accuracy : 51.43 % \n",
      "\tTest Accuracy : 41.15 % \n",
      "--- Epoch 57 ---\n",
      "\tCross Entropy Loss (Training) : 38.468938529491425 \n",
      "\tTrain Accuracy : 50.61 % \n",
      "\tTest Accuracy : 40.92 % \n",
      "--- Epoch 58 ---\n",
      "\tCross Entropy Loss (Training) : 37.99626064300537 \n",
      "\tTrain Accuracy : 49.33 % \n",
      "\tTest Accuracy : 43.54 % \n",
      "--- Epoch 59 ---\n",
      "\tCross Entropy Loss (Training) : 37.77688789367676 \n",
      "\tTrain Accuracy : 49.01 % \n",
      "\tTest Accuracy : 42.31 % \n",
      "--- Epoch 60 ---\n",
      "\tCross Entropy Loss (Training) : 37.517403304576874 \n",
      "\tTrain Accuracy : 48.81 % \n",
      "\tTest Accuracy : 41.85 % \n",
      "--- Epoch 61 ---\n",
      "\tCross Entropy Loss (Training) : 37.278785705566406 \n",
      "\tTrain Accuracy : 49.44 % \n",
      "\tTest Accuracy : 41.69 % \n",
      "--- Epoch 62 ---\n",
      "\tCross Entropy Loss (Training) : 37.15340358018875 \n",
      "\tTrain Accuracy : 49.55 % \n",
      "\tTest Accuracy : 42.85 % \n",
      "--- Epoch 63 ---\n",
      "\tCross Entropy Loss (Training) : 37.03004503250122 \n",
      "\tTrain Accuracy : 48.91 % \n",
      "\tTest Accuracy : 42.92 % \n",
      "--- Epoch 64 ---\n",
      "\tCross Entropy Loss (Training) : 37.08145207166672 \n",
      "\tTrain Accuracy : 50.32 % \n",
      "\tTest Accuracy : 42.92 % \n",
      "--- Epoch 65 ---\n",
      "\tCross Entropy Loss (Training) : 36.963168263435364 \n",
      "\tTrain Accuracy : 50.16 % \n",
      "\tTest Accuracy : 42.23 % \n",
      "--- Epoch 66 ---\n",
      "\tCross Entropy Loss (Training) : 36.97922486066818 \n",
      "\tTrain Accuracy : 51.60 % \n",
      "\tTest Accuracy : 42.31 % \n",
      "--- Epoch 67 ---\n",
      "\tCross Entropy Loss (Training) : 36.946704149246216 \n",
      "\tTrain Accuracy : 49.67 % \n",
      "\tTest Accuracy : 42.62 % \n",
      "--- Epoch 68 ---\n"
     ]
    },
    {
     "name": "stdout",
     "output_type": "stream",
     "text": [
      "\tCross Entropy Loss (Training) : 36.88197135925293 \n",
      "\tTrain Accuracy : 49.18 % \n",
      "\tTest Accuracy : 42.31 % \n",
      "--- Epoch 69 ---\n",
      "\tCross Entropy Loss (Training) : 36.81625270843506 \n",
      "\tTrain Accuracy : 51.41 % \n",
      "\tTest Accuracy : 40.77 % \n",
      "--- Epoch 70 ---\n",
      "\tCross Entropy Loss (Training) : 36.778099834918976 \n",
      "\tTrain Accuracy : 50.58 % \n",
      "\tTest Accuracy : 43.38 % \n"
     ]
    }
   ],
   "source": [
    "model = myLSTM(X_body_train.shape[2], hidd_dim=100)\n",
    "loss_fn = nn.CrossEntropyLoss()\n",
    "optimizer = torch.optim.Adam(model.parameters())\n",
    "batch_size = 512\n",
    "epochs = 70\n",
    "train_loss = []\n",
    "test_acc = []\n",
    "train_acc = []\n",
    "test_loss = []\n",
    "\n",
    "for i in range(epochs):\n",
    "    print(\"--- Epoch {} ---\".format(i+1))\n",
    "    epoch_loss = train(model,X_head_train, X_body_train, y_train, loss_fn, optimizer, batch_size)\n",
    "    train_loss.append(epoch_loss)\n",
    "    print(\"\\tCross Entropy Loss (Training) : {} \".format(epoch_loss))\n",
    "\n",
    "    acc, _, __ = test(model, X_head_train, X_body_train, y_train, batchsize=X_body_train.shape[0])\n",
    "    print(\"\\tTrain Accuracy : {:.2f} % \".format(acc))\n",
    "    train_acc.append(acc)\n",
    "    \n",
    "    acc, _, tst_loss = test(model, X_head_test, X_body_test, y_test, batchsize=X_body_test.shape[0])\n",
    "    print(\"\\tTest Accuracy : {:.2f} % \".format(acc))\n",
    "    test_acc.append(acc)\n",
    "    test_loss.append(tst_loss)\n"
   ]
  },
  {
   "cell_type": "code",
   "execution_count": 13,
   "metadata": {},
   "outputs": [
    {
     "data": {
      "image/png": "[encoded data removed]",
      "text/plain": [
       "<Figure size 504x504 with 1 Axes>"
      ]
     },
     "metadata": {
      "needs_background": "light"
     },
     "output_type": "display_data"
    }
   ],
   "source": [
    "plt.figure(figsize=(7,7))\n",
    "plt.plot(range(epochs), train_loss, label=\"train loss\")\n",
    "plt.xlabel(\"epochs\")\n",
    "plt.ylabel(\"loss\")\n",
    "plt.title(\"Loss vs epochs\")\n",
    "plt.legend(loc=\"best\")\n",
    "plt.show()"
   ]
  },
  {
   "cell_type": "code",
   "execution_count": 14,
   "metadata": {},
   "outputs": [
    {
     "data": {
      "image/png": "[encoded data removed]",
      "text/plain": [
       "<Figure size 504x504 with 1 Axes>"
      ]
     },
     "metadata": {
      "needs_background": "light"
     },
     "output_type": "display_data"
    }
   ],
   "source": [
    "plt.figure(figsize=(7,7))\n",
    "plt.plot(range(epochs), test_loss, label=\"test loss\")\n",
    "plt.xlabel(\"epochs\")\n",
    "plt.ylabel(\"loss\")\n",
    "plt.title(\"Loss vs epochs\")\n",
    "plt.legend(loc=\"best\")\n",
    "plt.show()"
   ]
  },
  {
   "cell_type": "code",
   "execution_count": 15,
   "metadata": {},
   "outputs": [
    {
     "data": {
      "image/png": "[encoded data removed]",
      "text/plain": [
       "<Figure size 504x504 with 1 Axes>"
      ]
     },
     "metadata": {
      "needs_background": "light"
     },
     "output_type": "display_data"
    }
   ],
   "source": [
    "plt.figure(figsize=(7,7))\n",
    "plt.plot(range(epochs), train_acc, label=\"train accuracy\")\n",
    "plt.plot(range(epochs), test_acc, label=\"test accuracy\")\n",
    "plt.xlabel(\"epochs\")\n",
    "plt.ylabel(\"acc\")\n",
    "plt.title(\"Accuracy vs Epochs\")\n",
    "plt.legend(loc=\"best\")\n",
    "plt.show()"
   ]
  },
  {
   "cell_type": "code",
   "execution_count": null,
   "metadata": {},
   "outputs": [],
   "source": []
  },
  {
   "cell_type": "code",
   "execution_count": 16,
   "metadata": {},
   "outputs": [
    {
     "name": "stdout",
     "output_type": "stream",
     "text": [
      "Test Accuracy : 43.46 % \n",
      "Test Class-wise F1 Score : \n",
      "[0.22392638 0.21377672 0.58546169]\n"
     ]
    }
   ],
   "source": [
    "acc, f1, _ = test(model, X_head_test,X_body_test, y_test, batchsize=X_body_test.shape[0])\n",
    "print(\"Test Accuracy : {:.2f} % \".format(acc))\n",
    "print(\"Test Class-wise F1 Score : \\n{}\".format(f1))"
   ]
  },
  {
   "cell_type": "code",
   "execution_count": null,
   "metadata": {},
   "outputs": [],
   "source": []
  }
 ],
 "metadata": {
  "interpreter": {
   "hash": "f3cbbd3491d2f6c98b8c3d8ad5891315a0953a3882f43d17a58845e943883b72"
  },
  "kernelspec": {
   "display_name": "Python 3",
   "language": "python",
   "name": "python3"
  },
  "language_info": {
   "codemirror_mode": {
    "name": "ipython",
    "version": 3
   },
   "file_extension": ".py",
   "mimetype": "text/x-python",
   "name": "python",
   "nbconvert_exporter": "python",
   "pygments_lexer": "ipython3",
   "version": "3.8.8"
  }
 },
 "nbformat": 4,
 "nbformat_minor": 2
}
