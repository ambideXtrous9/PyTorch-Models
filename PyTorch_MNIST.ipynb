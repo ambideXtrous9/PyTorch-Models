{
  "nbformat": 4,
  "nbformat_minor": 0,
  "metadata": {
    "colab": {
      "provenance": [],
      "gpuType": "T4",
      "authorship_tag": "ABX9TyMfzDz8YCqytPJzgsvXppMQ",
      "include_colab_link": true
    },
    "kernelspec": {
      "name": "python3",
      "display_name": "Python 3"
    },
    "language_info": {
      "name": "python"
    },
    "accelerator": "GPU"
  },
  "cells": [
    {
      "cell_type": "markdown",
      "metadata": {
        "id": "view-in-github",
        "colab_type": "text"
      },
      "source": [
        "<a href=\"https://colab.research.google.com/github/ambideXtrous9/PyTorch-Models/blob/main/PyTorch_MNIST.ipynb\" target=\"_parent\"><img src=\"https://colab.research.google.com/assets/colab-badge.svg\" alt=\"Open In Colab\"/></a>"
      ]
    },
    {
      "cell_type": "code",
      "execution_count": 137,
      "metadata": {
        "id": "USnfEhL-btD0"
      },
      "outputs": [],
      "source": [
        "import torch\n",
        "from torch import nn"
      ]
    },
    {
      "cell_type": "code",
      "source": [
        "class MNISTNeuralNet(nn.Module):\n",
        "    def __init__(self,config:dict):\n",
        "        super().__init__()\n",
        "\n",
        "        self.conv = nn.Sequential( #1x28x28\n",
        "            nn.Conv2d(in_channels=1,out_channels=8,kernel_size=5), # 8x24x24\n",
        "            nn.Dropout2d(p=0.4,inplace=True),\n",
        "            nn.LeakyReLU(negative_slope=0.02,inplace=True),\n",
        "            nn.BatchNorm2d(num_features=8),\n",
        "            nn.MaxPool2d(2), # 8x12x12\n",
        "            nn.Conv2d(in_channels=8,out_channels=32,kernel_size=3), # 32x10x10\n",
        "            nn.Dropout2d(p=0.4,inplace=True),\n",
        "            nn.LeakyReLU(negative_slope=0.02,inplace=True),\n",
        "            nn.BatchNorm2d(num_features=32),\n",
        "            nn.MaxPool2d(2), #32x5x5\n",
        "            nn.Conv2d(in_channels=32,out_channels=64,kernel_size=2), # 64x4x4\n",
        "            nn.Dropout2d(p=0.4,inplace=True),\n",
        "            nn.BatchNorm2d(64)\n",
        "            )\n",
        "\n",
        "        self.linear = nn.Sequential(\n",
        "            nn.Linear(in_features=64*4*4,out_features=512),\n",
        "            nn.LeakyReLU(negative_slope=0.02,inplace=True),\n",
        "            nn.BatchNorm1d(num_features=512),\n",
        "            nn.Dropout(p=0.4,inplace=True),\n",
        "            nn.Linear(in_features=512,out_features=config['num_classes']),\n",
        "            nn.Softmax(dim=1))\n",
        "\n",
        "    def forward(self,x):\n",
        "        x = self.conv(x)\n",
        "        x = x.view(x.size(0),-1)\n",
        "        x = self.linear(x)\n",
        "        return x\n",
        ""
      ],
      "metadata": {
        "id": "spAzlL75bzvb"
      },
      "execution_count": 138,
      "outputs": []
    },
    {
      "cell_type": "code",
      "source": [
        "config = {'num_classes' : 10}"
      ],
      "metadata": {
        "id": "s_LgU2g5b33w"
      },
      "execution_count": 139,
      "outputs": []
    },
    {
      "cell_type": "code",
      "source": [
        "model = MNISTNeuralNet(config=config)"
      ],
      "metadata": {
        "id": "TAKKGMxdb7l4"
      },
      "execution_count": 140,
      "outputs": []
    },
    {
      "cell_type": "code",
      "source": [
        "model.get_parameter"
      ],
      "metadata": {
        "colab": {
          "base_uri": "https://localhost:8080/",
          "height": 186
        },
        "id": "TKyv8lfCb9Qr",
        "outputId": "6833203f-9c22-4c13-f208-f766fbc2e90a"
      },
      "execution_count": 141,
      "outputs": [
        {
          "output_type": "execute_result",
          "data": {
            "text/plain": [
              "<bound method Module.get_parameter of MNISTNeuralNet(\n",
              "  (conv): Sequential(\n",
              "    (0): Conv2d(1, 8, kernel_size=(5, 5), stride=(1, 1))\n",
              "    (1): Dropout2d(p=0.4, inplace=True)\n",
              "    (2): LeakyReLU(negative_slope=0.02, inplace=True)\n",
              "    (3): BatchNorm2d(8, eps=1e-05, momentum=0.1, affine=True, track_running_stats=True)\n",
              "    (4): MaxPool2d(kernel_size=2, stride=2, padding=0, dilation=1, ceil_mode=False)\n",
              "    (5): Conv2d(8, 32, kernel_size=(3, 3), stride=(1, 1))\n",
              "    (6): Dropout2d(p=0.4, inplace=True)\n",
              "    (7): LeakyReLU(negative_slope=0.02, inplace=True)\n",
              "    (8): BatchNorm2d(32, eps=1e-05, momentum=0.1, affine=True, track_running_stats=True)\n",
              "    (9): MaxPool2d(kernel_size=2, stride=2, padding=0, dilation=1, ceil_mode=False)\n",
              "    (10): Conv2d(32, 64, kernel_size=(2, 2), stride=(1, 1))\n",
              "    (11): Dropout2d(p=0.4, inplace=True)\n",
              "    (12): BatchNorm2d(64, eps=1e-05, momentum=0.1, affine=True, track_running_stats=True)\n",
              "  )\n",
              "  (linear): Sequential(\n",
              "    (0): Linear(in_features=1024, out_features=512, bias=True)\n",
              "    (1): LeakyReLU(negative_slope=0.02, inplace=True)\n",
              "    (2): BatchNorm1d(512, eps=1e-05, momentum=0.1, affine=True, track_running_stats=True)\n",
              "    (3): Dropout(p=0.4, inplace=True)\n",
              "    (4): Linear(in_features=512, out_features=10, bias=True)\n",
              "    (5): Softmax(dim=1)\n",
              "  )\n",
              ")>"
            ],
            "text/html": [
              "<div style=\"max-width:800px; border: 1px solid var(--colab-border-color);\"><style>\n",
              "      pre.function-repr-contents {\n",
              "        overflow-x: auto;\n",
              "        padding: 8px 12px;\n",
              "        max-height: 500px;\n",
              "      }\n",
              "\n",
              "      pre.function-repr-contents.function-repr-contents-collapsed {\n",
              "        cursor: pointer;\n",
              "        max-height: 100px;\n",
              "      }\n",
              "    </style>\n",
              "    <pre style=\"white-space: initial; background:\n",
              "         var(--colab-secondary-surface-color); padding: 8px 12px;\n",
              "         border-bottom: 1px solid var(--colab-border-color);\"><b>torch.nn.modules.module.Module.get_parameter</b><br/>def get_parameter(target: str) -&gt; &#x27;Parameter&#x27;</pre><pre class=\"function-repr-contents function-repr-contents-collapsed\" style=\"\"><a class=\"filepath\" style=\"display:none\" href=\"#\">/usr/local/lib/python3.10/dist-packages/torch/nn/modules/module.py</a>Return the parameter given by ``target`` if it exists, otherwise throw an error.\n",
              "\n",
              "See the docstring for ``get_submodule`` for a more detailed\n",
              "explanation of this method&#x27;s functionality as well as how to\n",
              "correctly specify ``target``.\n",
              "\n",
              "Args:\n",
              "    target: The fully-qualified string name of the Parameter\n",
              "        to look for. (See ``get_submodule`` for how to specify a\n",
              "        fully-qualified string.)\n",
              "\n",
              "Returns:\n",
              "    torch.nn.Parameter: The Parameter referenced by ``target``\n",
              "\n",
              "Raises:\n",
              "    AttributeError: If the target string references an invalid\n",
              "        path or resolves to something that is not an\n",
              "        ``nn.Parameter``</pre>\n",
              "      <script>\n",
              "      if (google.colab.kernel.accessAllowed && google.colab.files && google.colab.files.view) {\n",
              "        for (const element of document.querySelectorAll('.filepath')) {\n",
              "          element.style.display = 'block'\n",
              "          element.onclick = (event) => {\n",
              "            event.preventDefault();\n",
              "            event.stopPropagation();\n",
              "            google.colab.files.view(element.textContent, 692);\n",
              "          };\n",
              "        }\n",
              "      }\n",
              "      for (const element of document.querySelectorAll('.function-repr-contents')) {\n",
              "        element.onclick = (event) => {\n",
              "          event.preventDefault();\n",
              "          event.stopPropagation();\n",
              "          element.classList.toggle('function-repr-contents-collapsed');\n",
              "        };\n",
              "      }\n",
              "      </script>\n",
              "      </div>"
            ]
          },
          "metadata": {},
          "execution_count": 141
        }
      ]
    },
    {
      "cell_type": "code",
      "source": [
        "loss_fnc = nn.CrossEntropyLoss(reduction='mean')\n",
        "optimizer = torch.optim.AdamW(lr=0.001,params=model.parameters())\n",
        ""
      ],
      "metadata": {
        "id": "jwdMHQt5b-en"
      },
      "execution_count": 142,
      "outputs": []
    },
    {
      "cell_type": "code",
      "source": [
        "import torchvision\n",
        "from torchvision import transforms"
      ],
      "metadata": {
        "id": "KmhL0KtEcGxF"
      },
      "execution_count": 143,
      "outputs": []
    },
    {
      "cell_type": "code",
      "source": [
        "transform = transforms.Compose([transforms.ToTensor()])"
      ],
      "metadata": {
        "id": "1RjlCznlcJMR"
      },
      "execution_count": 144,
      "outputs": []
    },
    {
      "cell_type": "code",
      "source": [
        "train = torchvision.datasets.MNIST(root='./',\n",
        "                                   download=True,\n",
        "                                   transform=transform,\n",
        "                                   train=True)\n",
        "\n",
        "test = torchvision.datasets.MNIST(root='./',\n",
        "                                   download=True,\n",
        "                                   transform=transform,\n",
        "                                   train=False)"
      ],
      "metadata": {
        "id": "GPs-8TIDcLQ2"
      },
      "execution_count": 145,
      "outputs": []
    },
    {
      "cell_type": "code",
      "source": [
        "from torch.utils.data import DataLoader"
      ],
      "metadata": {
        "id": "YEGycLTYcNMR"
      },
      "execution_count": 146,
      "outputs": []
    },
    {
      "cell_type": "code",
      "source": [
        "train_dataloader = DataLoader(train,batch_size = 16,shuffle=True,drop_last=True)\n",
        "val_dataloader = DataLoader(test,batch_size = 16,shuffle=False,drop_last=True)"
      ],
      "metadata": {
        "id": "dKJiP3fNcO__"
      },
      "execution_count": 147,
      "outputs": []
    },
    {
      "cell_type": "code",
      "source": [
        "import matplotlib.pyplot as plt"
      ],
      "metadata": {
        "id": "q7HEf0MlcQmO"
      },
      "execution_count": 148,
      "outputs": []
    },
    {
      "cell_type": "code",
      "source": [
        "for i,(data,target) in enumerate(train_dataloader):\n",
        "    model.eval()\n",
        "    print(data[0].shape)\n",
        "    plt.imshow(data[0].permute(1, 2, 0))\n",
        "    plt.show()\n",
        "    pred = model(data[0].unsqueeze(0))\n",
        "    prob,idx = torch.max(pred,dim=1)\n",
        "    print(f\"Pred Prob = {prob[0]} || Pred Elem = {idx[0]}\")\n",
        "\n",
        "    loss = loss_fnc(pred,target[0].unsqueeze(0))\n",
        "\n",
        "    print(f\"Loss = {loss}\")\n",
        "\n",
        "    break"
      ],
      "metadata": {
        "colab": {
          "base_uri": "https://localhost:8080/",
          "height": 502
        },
        "id": "P7M_n8tfcSBX",
        "outputId": "c30321fb-7a38-40ef-d31e-83421e89993d"
      },
      "execution_count": 149,
      "outputs": [
        {
          "output_type": "stream",
          "name": "stdout",
          "text": [
            "torch.Size([1, 28, 28])\n"
          ]
        },
        {
          "output_type": "display_data",
          "data": {
            "text/plain": [
              "<Figure size 640x480 with 1 Axes>"
            ],
            "image/png": "[encoded data removed]"
          },
          "metadata": {}
        },
        {
          "output_type": "stream",
          "name": "stdout",
          "text": [
            "Pred Prob = 0.10586286336183548 || Pred Elem = 0\n",
            "Loss = 2.303502082824707\n"
          ]
        }
      ]
    },
    {
      "cell_type": "code",
      "source": [
        "device = torch.device(\"cuda\" if torch.cuda.is_available() else \"cpu\")\n",
        "print(device)"
      ],
      "metadata": {
        "colab": {
          "base_uri": "https://localhost:8080/"
        },
        "id": "OB1hYtugcTQU",
        "outputId": "b1316392-311f-4ec6-9c34-016b8f39aa2b"
      },
      "execution_count": 150,
      "outputs": [
        {
          "output_type": "stream",
          "name": "stdout",
          "text": [
            "cuda\n"
          ]
        }
      ]
    },
    {
      "cell_type": "code",
      "source": [
        "len(train_dataloader)"
      ],
      "metadata": {
        "colab": {
          "base_uri": "https://localhost:8080/"
        },
        "id": "80DAHbWycW9H",
        "outputId": "979e920a-a852-43a3-c57b-448123d53237"
      },
      "execution_count": 151,
      "outputs": [
        {
          "output_type": "execute_result",
          "data": {
            "text/plain": [
              "3750"
            ]
          },
          "metadata": {},
          "execution_count": 151
        }
      ]
    },
    {
      "cell_type": "code",
      "source": [
        "model.to(device)"
      ],
      "metadata": {
        "colab": {
          "base_uri": "https://localhost:8080/"
        },
        "id": "s6w4BpWTcYns",
        "outputId": "71cfdda9-1ce5-4d27-d73e-b3e3d65ff445"
      },
      "execution_count": 152,
      "outputs": [
        {
          "output_type": "execute_result",
          "data": {
            "text/plain": [
              "MNISTNeuralNet(\n",
              "  (conv): Sequential(\n",
              "    (0): Conv2d(1, 8, kernel_size=(5, 5), stride=(1, 1))\n",
              "    (1): Dropout2d(p=0.4, inplace=True)\n",
              "    (2): LeakyReLU(negative_slope=0.02, inplace=True)\n",
              "    (3): BatchNorm2d(8, eps=1e-05, momentum=0.1, affine=True, track_running_stats=True)\n",
              "    (4): MaxPool2d(kernel_size=2, stride=2, padding=0, dilation=1, ceil_mode=False)\n",
              "    (5): Conv2d(8, 32, kernel_size=(3, 3), stride=(1, 1))\n",
              "    (6): Dropout2d(p=0.4, inplace=True)\n",
              "    (7): LeakyReLU(negative_slope=0.02, inplace=True)\n",
              "    (8): BatchNorm2d(32, eps=1e-05, momentum=0.1, affine=True, track_running_stats=True)\n",
              "    (9): MaxPool2d(kernel_size=2, stride=2, padding=0, dilation=1, ceil_mode=False)\n",
              "    (10): Conv2d(32, 64, kernel_size=(2, 2), stride=(1, 1))\n",
              "    (11): Dropout2d(p=0.4, inplace=True)\n",
              "    (12): BatchNorm2d(64, eps=1e-05, momentum=0.1, affine=True, track_running_stats=True)\n",
              "  )\n",
              "  (linear): Sequential(\n",
              "    (0): Linear(in_features=1024, out_features=512, bias=True)\n",
              "    (1): LeakyReLU(negative_slope=0.02, inplace=True)\n",
              "    (2): BatchNorm1d(512, eps=1e-05, momentum=0.1, affine=True, track_running_stats=True)\n",
              "    (3): Dropout(p=0.4, inplace=True)\n",
              "    (4): Linear(in_features=512, out_features=10, bias=True)\n",
              "    (5): Softmax(dim=1)\n",
              "  )\n",
              ")"
            ]
          },
          "metadata": {},
          "execution_count": 152
        }
      ]
    },
    {
      "cell_type": "code",
      "source": [
        "from tqdm import tqdm"
      ],
      "metadata": {
        "id": "7v3WuvBktqm5"
      },
      "execution_count": 153,
      "outputs": []
    },
    {
      "cell_type": "code",
      "source": [
        "def trainFunc(epoch):\n",
        "    model.train()\n",
        "    epoch_loss = 0\n",
        "    total_correct = 0\n",
        "\n",
        "    for batch_idx,(data,target) in enumerate(tqdm(train_dataloader)):\n",
        "        (data,target) = (data.to(device),target.to(device))\n",
        "\n",
        "        optimizer.zero_grad()\n",
        "\n",
        "        pred = model(data)\n",
        "        loss = loss_fnc(pred,target)\n",
        "\n",
        "        loss.backward()\n",
        "        optimizer.step()\n",
        "\n",
        "        epoch_loss = epoch_loss + (loss.item()*target.shape[0])\n",
        "        _,output = torch.max(pred,dim=1)\n",
        "        total_correct = total_correct + (output==target).sum().item()\n",
        "\n",
        "\n",
        "\n",
        "    epoch_loss = epoch_loss / len(train_dataloader.dataset)\n",
        "    total_correct = total_correct / len(train_dataloader.dataset)\n",
        "\n",
        "    print(f\"Epoch = {epoch} || Train Loss = {epoch_loss} || Train Accuracy = {total_correct}\")\n",
        "    return epoch_loss,total_correct"
      ],
      "metadata": {
        "id": "m_xqad2zcaMw"
      },
      "execution_count": 154,
      "outputs": []
    },
    {
      "cell_type": "code",
      "source": [
        "def valFunc(epoch):\n",
        "    model.eval()\n",
        "    epoch_loss = 0\n",
        "    total_correct = 0\n",
        "    with torch.no_grad():\n",
        "        for batch_idx,(data,target) in enumerate(tqdm(val_dataloader)):\n",
        "            (data,target) = (data.to(device),target.to(device))\n",
        "\n",
        "            pred = model(data)\n",
        "            loss = loss_fnc(pred,target)\n",
        "\n",
        "            epoch_loss = epoch_loss + (loss.item()*target.shape[0])\n",
        "            _,output = torch.max(pred,dim=1)\n",
        "            total_correct = total_correct + (output==target).sum().item()\n",
        "\n",
        "    epoch_loss = epoch_loss / len(val_dataloader.dataset)\n",
        "    total_correct = total_correct / len(val_dataloader.dataset)\n",
        "\n",
        "    print(f\"Epoch = {epoch} || Val Loss = {epoch_loss} || Val Accuracy = {total_correct}\")\n",
        "    return epoch_loss,total_correct"
      ],
      "metadata": {
        "id": "iiQxJe65cfUO"
      },
      "execution_count": 155,
      "outputs": []
    },
    {
      "cell_type": "code",
      "source": [
        "import numpy as np\n"
      ],
      "metadata": {
        "id": "i02ucyQfjNqk"
      },
      "execution_count": 156,
      "outputs": []
    },
    {
      "cell_type": "code",
      "source": [
        "def trainer(epochs):\n",
        "    Train_loss = []\n",
        "    Train_accuracy = []\n",
        "    Val_loss = []\n",
        "    Val_accuracy = []\n",
        "\n",
        "    for i in range(1,epochs+1):\n",
        "        TL,TA = trainFunc(i)\n",
        "        Train_loss.append(TL)\n",
        "        Train_accuracy.append(TA)\n",
        "        VL,VA = valFunc(i)\n",
        "        Val_loss.append(VL)\n",
        "        Val_accuracy.append(VA)\n",
        "        print(\"\\n---------------------------------------------------\\n\")\n",
        "\n",
        "    xx = np.arange(epochs)\n",
        "    plt.style.use(\"fivethirtyeight\")\n",
        "\n",
        "    acctr = torch.Tensor(Train_accuracy).detach().cpu().numpy()\n",
        "    lsstr = torch.Tensor(Train_loss).detach().cpu().numpy()\n",
        "    accte = torch.Tensor(Val_accuracy).detach().cpu().numpy()\n",
        "    lsste = torch.Tensor(Val_loss).detach().cpu().numpy()\n",
        "\n",
        "    fig, (ax1, ax2) = plt.subplots(1, 2,figsize=(12,6))\n",
        "    fig.suptitle('ACC vs LOSS')\n",
        "    ax1.plot(xx, acctr,label='Train')\n",
        "    ax1.plot(xx,accte,label='Val')\n",
        "    ax1.legend(loc=\"best\")\n",
        "    ax2.plot(xx, lsstr,label='Train')\n",
        "    ax2.plot(xx, lsste,label='Val')\n",
        "    ax2.legend(loc=\"best\")\n",
        "    plt.show()\n",
        "\n",
        ""
      ],
      "metadata": {
        "id": "SqG8xKTajQuv"
      },
      "execution_count": 157,
      "outputs": []
    },
    {
      "cell_type": "code",
      "source": [
        "trainer(epochs=50)"
      ],
      "metadata": {
        "colab": {
          "base_uri": "https://localhost:8080/",
          "height": 1000
        },
        "id": "JXElq2Gujek9",
        "outputId": "0cd10310-f6de-44ff-a3ec-19b22768ea59"
      },
      "execution_count": 158,
      "outputs": [
        {
          "metadata": {
            "tags": null
          },
          "name": "stderr",
          "output_type": "stream",
          "text": [
            "100%|██████████| 3750/3750 [00:22<00:00, 163.81it/s]\n"
          ]
        },
        {
          "metadata": {
            "tags": null
          },
          "name": "stdout",
          "output_type": "stream",
          "text": [
            "Epoch = 1 || Train Loss = 1.5910031572024028 || Train Accuracy = 0.8774333333333333\n"
          ]
        },
        {
          "metadata": {
            "tags": null
          },
          "name": "stderr",
          "output_type": "stream",
          "text": [
            "100%|██████████| 625/625 [00:01<00:00, 342.18it/s]\n"
          ]
        },
        {
          "metadata": {
            "tags": null
          },
          "name": "stdout",
          "output_type": "stream",
          "text": [
            "Epoch = 1 || Val Loss = 1.4946909334182739 || Val Accuracy = 0.967\n",
            "\n",
            "---------------------------------------------------\n",
            "\n"
          ]
        },
        {
          "metadata": {
            "tags": null
          },
          "name": "stderr",
          "output_type": "stream",
          "text": [
            "100%|██████████| 3750/3750 [00:21<00:00, 170.53it/s]\n"
          ]
        },
        {
          "metadata": {
            "tags": null
          },
          "name": "stdout",
          "output_type": "stream",
          "text": [
            "Epoch = 2 || Train Loss = 1.5366194093704224 || Train Accuracy = 0.9267333333333333\n"
          ]
        },
        {
          "metadata": {
            "tags": null
          },
          "name": "stderr",
          "output_type": "stream",
          "text": [
            "100%|██████████| 625/625 [00:01<00:00, 342.27it/s]\n"
          ]
        },
        {
          "metadata": {
            "tags": null
          },
          "name": "stdout",
          "output_type": "stream",
          "text": [
            "Epoch = 2 || Val Loss = 1.4852806024551393 || Val Accuracy = 0.977\n",
            "\n",
            "---------------------------------------------------\n",
            "\n"
          ]
        },
        {
          "metadata": {
            "tags": null
          },
          "name": "stderr",
          "output_type": "stream",
          "text": [
            "100%|██████████| 3750/3750 [00:22<00:00, 166.26it/s]\n"
          ]
        },
        {
          "metadata": {
            "tags": null
          },
          "name": "stdout",
          "output_type": "stream",
          "text": [
            "Epoch = 3 || Train Loss = 1.5276788925806681 || Train Accuracy = 0.9346333333333333\n"
          ]
        },
        {
          "metadata": {
            "tags": null
          },
          "name": "stderr",
          "output_type": "stream",
          "text": [
            "100%|██████████| 625/625 [00:01<00:00, 334.60it/s]\n"
          ]
        },
        {
          "metadata": {
            "tags": null
          },
          "name": "stdout",
          "output_type": "stream",
          "text": [
            "Epoch = 3 || Val Loss = 1.4837564975738526 || Val Accuracy = 0.9786\n",
            "\n",
            "---------------------------------------------------\n",
            "\n"
          ]
        },
        {
          "metadata": {
            "tags": null
          },
          "name": "stderr",
          "output_type": "stream",
          "text": [
            "100%|██████████| 3750/3750 [00:22<00:00, 170.04it/s]\n"
          ]
        },
        {
          "metadata": {
            "tags": null
          },
          "name": "stdout",
          "output_type": "stream",
          "text": [
            "Epoch = 4 || Train Loss = 1.522307399336497 || Train Accuracy = 0.9396\n"
          ]
        },
        {
          "metadata": {
            "tags": null
          },
          "name": "stderr",
          "output_type": "stream",
          "text": [
            "100%|██████████| 625/625 [00:01<00:00, 333.46it/s]\n"
          ]
        },
        {
          "metadata": {
            "tags": null
          },
          "name": "stdout",
          "output_type": "stream",
          "text": [
            "Epoch = 4 || Val Loss = 1.4806860067367553 || Val Accuracy = 0.9807\n",
            "\n",
            "---------------------------------------------------\n",
            "\n"
          ]
        },
        {
          "metadata": {
            "tags": null
          },
          "name": "stderr",
          "output_type": "stream",
          "text": [
            "100%|██████████| 3750/3750 [00:22<00:00, 169.49it/s]\n"
          ]
        },
        {
          "metadata": {
            "tags": null
          },
          "name": "stdout",
          "output_type": "stream",
          "text": [
            "Epoch = 5 || Train Loss = 1.51967762854894 || Train Accuracy = 0.9417\n"
          ]
        },
        {
          "metadata": {
            "tags": null
          },
          "name": "stderr",
          "output_type": "stream",
          "text": [
            "100%|██████████| 625/625 [00:01<00:00, 337.45it/s]\n"
          ]
        },
        {
          "metadata": {
            "tags": null
          },
          "name": "stdout",
          "output_type": "stream",
          "text": [
            "Epoch = 5 || Val Loss = 1.4790981576919555 || Val Accuracy = 0.9822\n",
            "\n",
            "---------------------------------------------------\n",
            "\n"
          ]
        },
        {
          "metadata": {
            "tags": null
          },
          "name": "stderr",
          "output_type": "stream",
          "text": [
            "100%|██████████| 3750/3750 [00:21<00:00, 170.64it/s]\n"
          ]
        },
        {
          "metadata": {
            "tags": null
          },
          "name": "stdout",
          "output_type": "stream",
          "text": [
            "Epoch = 6 || Train Loss = 1.5163879453023275 || Train Accuracy = 0.9454333333333333\n"
          ]
        },
        {
          "metadata": {
            "tags": null
          },
          "name": "stderr",
          "output_type": "stream",
          "text": [
            "100%|██████████| 625/625 [00:01<00:00, 342.48it/s]\n"
          ]
        },
        {
          "metadata": {
            "tags": null
          },
          "name": "stdout",
          "output_type": "stream",
          "text": [
            "Epoch = 6 || Val Loss = 1.48014693069458 || Val Accuracy = 0.9814\n",
            "\n",
            "---------------------------------------------------\n",
            "\n"
          ]
        },
        {
          "metadata": {
            "tags": null
          },
          "name": "stderr",
          "output_type": "stream",
          "text": [
            "100%|██████████| 3750/3750 [00:21<00:00, 171.40it/s]\n"
          ]
        },
        {
          "metadata": {
            "tags": null
          },
          "name": "stdout",
          "output_type": "stream",
          "text": [
            "Epoch = 7 || Train Loss = 1.5133341682751973 || Train Accuracy = 0.9481166666666667\n"
          ]
        },
        {
          "metadata": {
            "tags": null
          },
          "name": "stderr",
          "output_type": "stream",
          "text": [
            "100%|██████████| 625/625 [00:01<00:00, 335.51it/s]\n"
          ]
        },
        {
          "metadata": {
            "tags": null
          },
          "name": "stdout",
          "output_type": "stream",
          "text": [
            "Epoch = 7 || Val Loss = 1.4775344638824464 || Val Accuracy = 0.984\n",
            "\n",
            "---------------------------------------------------\n",
            "\n"
          ]
        },
        {
          "metadata": {
            "tags": null
          },
          "name": "stderr",
          "output_type": "stream",
          "text": [
            "100%|██████████| 3750/3750 [00:22<00:00, 170.40it/s]\n"
          ]
        },
        {
          "metadata": {
            "tags": null
          },
          "name": "stdout",
          "output_type": "stream",
          "text": [
            "Epoch = 8 || Train Loss = 1.5122069012006123 || Train Accuracy = 0.94945\n"
          ]
        },
        {
          "metadata": {
            "tags": null
          },
          "name": "stderr",
          "output_type": "stream",
          "text": [
            "100%|██████████| 625/625 [00:01<00:00, 342.50it/s]\n"
          ]
        },
        {
          "metadata": {
            "tags": null
          },
          "name": "stdout",
          "output_type": "stream",
          "text": [
            "Epoch = 8 || Val Loss = 1.4769498208999634 || Val Accuracy = 0.9847\n",
            "\n",
            "---------------------------------------------------\n",
            "\n"
          ]
        },
        {
          "metadata": {
            "tags": null
          },
          "name": "stderr",
          "output_type": "stream",
          "text": [
            "100%|██████████| 3750/3750 [00:21<00:00, 170.58it/s]\n"
          ]
        },
        {
          "metadata": {
            "tags": null
          },
          "name": "stdout",
          "output_type": "stream",
          "text": [
            "Epoch = 9 || Train Loss = 1.510177134068807 || Train Accuracy = 0.9514\n"
          ]
        },
        {
          "metadata": {
            "tags": null
          },
          "name": "stderr",
          "output_type": "stream",
          "text": [
            "100%|██████████| 625/625 [00:01<00:00, 336.68it/s]\n"
          ]
        },
        {
          "metadata": {
            "tags": null
          },
          "name": "stdout",
          "output_type": "stream",
          "text": [
            "Epoch = 9 || Val Loss = 1.4787980827331544 || Val Accuracy = 0.9822\n",
            "\n",
            "---------------------------------------------------\n",
            "\n"
          ]
        },
        {
          "metadata": {
            "tags": null
          },
          "name": "stderr",
          "output_type": "stream",
          "text": [
            "100%|██████████| 3750/3750 [00:22<00:00, 170.44it/s]\n"
          ]
        },
        {
          "metadata": {
            "tags": null
          },
          "name": "stdout",
          "output_type": "stream",
          "text": [
            "Epoch = 10 || Train Loss = 1.5106599644978842 || Train Accuracy = 0.9509\n"
          ]
        },
        {
          "metadata": {
            "tags": null
          },
          "name": "stderr",
          "output_type": "stream",
          "text": [
            "100%|██████████| 625/625 [00:01<00:00, 334.54it/s]\n"
          ]
        },
        {
          "metadata": {
            "tags": null
          },
          "name": "stdout",
          "output_type": "stream",
          "text": [
            "Epoch = 10 || Val Loss = 1.4759995294570922 || Val Accuracy = 0.985\n",
            "\n",
            "---------------------------------------------------\n",
            "\n"
          ]
        },
        {
          "metadata": {
            "tags": null
          },
          "name": "stderr",
          "output_type": "stream",
          "text": [
            "100%|██████████| 3750/3750 [00:21<00:00, 171.33it/s]\n"
          ]
        },
        {
          "metadata": {
            "tags": null
          },
          "name": "stdout",
          "output_type": "stream",
          "text": [
            "Epoch = 11 || Train Loss = 1.5063037643114725 || Train Accuracy = 0.95525\n"
          ]
        },
        {
          "metadata": {
            "tags": null
          },
          "name": "stderr",
          "output_type": "stream",
          "text": [
            "100%|██████████| 625/625 [00:01<00:00, 329.55it/s]\n"
          ]
        },
        {
          "metadata": {
            "tags": null
          },
          "name": "stdout",
          "output_type": "stream",
          "text": [
            "Epoch = 11 || Val Loss = 1.4758477369308471 || Val Accuracy = 0.9854\n",
            "\n",
            "---------------------------------------------------\n",
            "\n"
          ]
        },
        {
          "metadata": {
            "tags": null
          },
          "name": "stderr",
          "output_type": "stream",
          "text": [
            "100%|██████████| 3750/3750 [00:22<00:00, 169.88it/s]\n"
          ]
        },
        {
          "metadata": {
            "tags": null
          },
          "name": "stdout",
          "output_type": "stream",
          "text": [
            "Epoch = 12 || Train Loss = 1.5069963938713073 || Train Accuracy = 0.9541833333333334\n"
          ]
        },
        {
          "metadata": {
            "tags": null
          },
          "name": "stderr",
          "output_type": "stream",
          "text": [
            "100%|██████████| 625/625 [00:01<00:00, 328.03it/s]\n"
          ]
        },
        {
          "metadata": {
            "tags": null
          },
          "name": "stdout",
          "output_type": "stream",
          "text": [
            "Epoch = 12 || Val Loss = 1.4751623807907104 || Val Accuracy = 0.9869\n",
            "\n",
            "---------------------------------------------------\n",
            "\n"
          ]
        },
        {
          "metadata": {
            "tags": null
          },
          "name": "stderr",
          "output_type": "stream",
          "text": [
            "100%|██████████| 3750/3750 [00:21<00:00, 171.69it/s]\n"
          ]
        },
        {
          "metadata": {
            "tags": null
          },
          "name": "stdout",
          "output_type": "stream",
          "text": [
            "Epoch = 13 || Train Loss = 1.5059518106460572 || Train Accuracy = 0.9558\n"
          ]
        },
        {
          "metadata": {
            "tags": null
          },
          "name": "stderr",
          "output_type": "stream",
          "text": [
            "100%|██████████| 625/625 [00:01<00:00, 320.56it/s]\n"
          ]
        },
        {
          "metadata": {
            "tags": null
          },
          "name": "stdout",
          "output_type": "stream",
          "text": [
            "Epoch = 13 || Val Loss = 1.4742722551345826 || Val Accuracy = 0.9873\n",
            "\n",
            "---------------------------------------------------\n",
            "\n"
          ]
        },
        {
          "metadata": {
            "tags": null
          },
          "name": "stderr",
          "output_type": "stream",
          "text": [
            "100%|██████████| 3750/3750 [00:21<00:00, 171.40it/s]\n"
          ]
        },
        {
          "metadata": {
            "tags": null
          },
          "name": "stdout",
          "output_type": "stream",
          "text": [
            "Epoch = 14 || Train Loss = 1.5059669097264607 || Train Accuracy = 0.9559833333333333\n"
          ]
        },
        {
          "metadata": {
            "tags": null
          },
          "name": "stderr",
          "output_type": "stream",
          "text": [
            "100%|██████████| 625/625 [00:02<00:00, 311.00it/s]\n"
          ]
        },
        {
          "metadata": {
            "tags": null
          },
          "name": "stdout",
          "output_type": "stream",
          "text": [
            "Epoch = 14 || Val Loss = 1.474561897087097 || Val Accuracy = 0.9865\n",
            "\n",
            "---------------------------------------------------\n",
            "\n"
          ]
        },
        {
          "metadata": {
            "tags": null
          },
          "name": "stderr",
          "output_type": "stream",
          "text": [
            "100%|██████████| 3750/3750 [00:22<00:00, 167.00it/s]\n"
          ]
        },
        {
          "metadata": {
            "tags": null
          },
          "name": "stdout",
          "output_type": "stream",
          "text": [
            "Epoch = 15 || Train Loss = 1.504215055878957 || Train Accuracy = 0.9575166666666667\n"
          ]
        },
        {
          "metadata": {
            "tags": null
          },
          "name": "stderr",
          "output_type": "stream",
          "text": [
            "100%|██████████| 625/625 [00:02<00:00, 283.21it/s]\n"
          ]
        },
        {
          "metadata": {
            "tags": null
          },
          "name": "stdout",
          "output_type": "stream",
          "text": [
            "Epoch = 15 || Val Loss = 1.4762635080337525 || Val Accuracy = 0.9846\n",
            "\n",
            "---------------------------------------------------\n",
            "\n"
          ]
        },
        {
          "metadata": {
            "tags": null
          },
          "name": "stderr",
          "output_type": "stream",
          "text": [
            "100%|██████████| 3750/3750 [00:21<00:00, 173.47it/s]\n"
          ]
        },
        {
          "metadata": {
            "tags": null
          },
          "name": "stdout",
          "output_type": "stream",
          "text": [
            "Epoch = 16 || Train Loss = 1.504692429447174 || Train Accuracy = 0.9568\n"
          ]
        },
        {
          "metadata": {
            "tags": null
          },
          "name": "stderr",
          "output_type": "stream",
          "text": [
            "100%|██████████| 625/625 [00:02<00:00, 274.20it/s]\n"
          ]
        },
        {
          "metadata": {
            "tags": null
          },
          "name": "stdout",
          "output_type": "stream",
          "text": [
            "Epoch = 16 || Val Loss = 1.4752963764190674 || Val Accuracy = 0.9859\n",
            "\n",
            "---------------------------------------------------\n",
            "\n"
          ]
        },
        {
          "metadata": {
            "tags": null
          },
          "name": "stderr",
          "output_type": "stream",
          "text": [
            "100%|██████████| 3750/3750 [00:21<00:00, 173.79it/s]\n"
          ]
        },
        {
          "metadata": {
            "tags": null
          },
          "name": "stdout",
          "output_type": "stream",
          "text": [
            "Epoch = 17 || Train Loss = 1.5044262220382691 || Train Accuracy = 0.9577666666666667\n"
          ]
        },
        {
          "metadata": {
            "tags": null
          },
          "name": "stderr",
          "output_type": "stream",
          "text": [
            "100%|██████████| 625/625 [00:02<00:00, 266.41it/s]\n"
          ]
        },
        {
          "metadata": {
            "tags": null
          },
          "name": "stdout",
          "output_type": "stream",
          "text": [
            "Epoch = 17 || Val Loss = 1.4747663200378418 || Val Accuracy = 0.9867\n",
            "\n",
            "---------------------------------------------------\n",
            "\n"
          ]
        },
        {
          "metadata": {
            "tags": null
          },
          "name": "stderr",
          "output_type": "stream",
          "text": [
            "100%|██████████| 3750/3750 [00:21<00:00, 175.10it/s]\n"
          ]
        },
        {
          "metadata": {
            "tags": null
          },
          "name": "stdout",
          "output_type": "stream",
          "text": [
            "Epoch = 18 || Train Loss = 1.5021901492118837 || Train Accuracy = 0.9594166666666667\n"
          ]
        },
        {
          "metadata": {
            "tags": null
          },
          "name": "stderr",
          "output_type": "stream",
          "text": [
            "100%|██████████| 625/625 [00:02<00:00, 256.42it/s]\n"
          ]
        },
        {
          "metadata": {
            "tags": null
          },
          "name": "stdout",
          "output_type": "stream",
          "text": [
            "Epoch = 18 || Val Loss = 1.4746837608337402 || Val Accuracy = 0.987\n",
            "\n",
            "---------------------------------------------------\n",
            "\n"
          ]
        },
        {
          "metadata": {
            "tags": null
          },
          "name": "stderr",
          "output_type": "stream",
          "text": [
            "100%|██████████| 3750/3750 [00:21<00:00, 175.54it/s]\n"
          ]
        },
        {
          "metadata": {
            "tags": null
          },
          "name": "stdout",
          "output_type": "stream",
          "text": [
            "Epoch = 19 || Train Loss = 1.5019518244425456 || Train Accuracy = 0.96\n"
          ]
        },
        {
          "metadata": {
            "tags": null
          },
          "name": "stderr",
          "output_type": "stream",
          "text": [
            "100%|██████████| 625/625 [00:02<00:00, 258.72it/s]\n"
          ]
        },
        {
          "metadata": {
            "tags": null
          },
          "name": "stdout",
          "output_type": "stream",
          "text": [
            "Epoch = 19 || Val Loss = 1.4749107988357544 || Val Accuracy = 0.9864\n",
            "\n",
            "---------------------------------------------------\n",
            "\n"
          ]
        },
        {
          "metadata": {
            "tags": null
          },
          "name": "stderr",
          "output_type": "stream",
          "text": [
            "100%|██████████| 3750/3750 [00:21<00:00, 175.10it/s]\n"
          ]
        },
        {
          "metadata": {
            "tags": null
          },
          "name": "stdout",
          "output_type": "stream",
          "text": [
            "Epoch = 20 || Train Loss = 1.501890740966797 || Train Accuracy = 0.9599\n"
          ]
        },
        {
          "metadata": {
            "tags": null
          },
          "name": "stderr",
          "output_type": "stream",
          "text": [
            "100%|██████████| 625/625 [00:02<00:00, 259.14it/s]\n"
          ]
        },
        {
          "metadata": {
            "tags": null
          },
          "name": "stdout",
          "output_type": "stream",
          "text": [
            "Epoch = 20 || Val Loss = 1.4749541681289673 || Val Accuracy = 0.9866\n",
            "\n",
            "---------------------------------------------------\n",
            "\n"
          ]
        },
        {
          "metadata": {
            "tags": null
          },
          "name": "stderr",
          "output_type": "stream",
          "text": [
            "100%|██████████| 3750/3750 [00:21<00:00, 174.01it/s]\n"
          ]
        },
        {
          "metadata": {
            "tags": null
          },
          "name": "stdout",
          "output_type": "stream",
          "text": [
            "Epoch = 21 || Train Loss = 1.5008648680686951 || Train Accuracy = 0.9609\n"
          ]
        },
        {
          "metadata": {
            "tags": null
          },
          "name": "stderr",
          "output_type": "stream",
          "text": [
            "100%|██████████| 625/625 [00:02<00:00, 254.92it/s]\n"
          ]
        },
        {
          "metadata": {
            "tags": null
          },
          "name": "stdout",
          "output_type": "stream",
          "text": [
            "Epoch = 21 || Val Loss = 1.4741904752731323 || Val Accuracy = 0.9876\n",
            "\n",
            "---------------------------------------------------\n",
            "\n"
          ]
        },
        {
          "metadata": {
            "tags": null
          },
          "name": "stderr",
          "output_type": "stream",
          "text": [
            "100%|██████████| 3750/3750 [00:21<00:00, 174.20it/s]\n"
          ]
        },
        {
          "metadata": {
            "tags": null
          },
          "name": "stdout",
          "output_type": "stream",
          "text": [
            "Epoch = 22 || Train Loss = 1.5021700479189555 || Train Accuracy = 0.9597166666666667\n"
          ]
        },
        {
          "metadata": {
            "tags": null
          },
          "name": "stderr",
          "output_type": "stream",
          "text": [
            "100%|██████████| 625/625 [00:02<00:00, 257.18it/s]\n"
          ]
        },
        {
          "metadata": {
            "tags": null
          },
          "name": "stdout",
          "output_type": "stream",
          "text": [
            "Epoch = 22 || Val Loss = 1.4735126922607422 || Val Accuracy = 0.988\n",
            "\n",
            "---------------------------------------------------\n",
            "\n"
          ]
        },
        {
          "metadata": {
            "tags": null
          },
          "name": "stderr",
          "output_type": "stream",
          "text": [
            "100%|██████████| 3750/3750 [00:21<00:00, 174.28it/s]\n"
          ]
        },
        {
          "metadata": {
            "tags": null
          },
          "name": "stdout",
          "output_type": "stream",
          "text": [
            "Epoch = 23 || Train Loss = 1.5008078893025716 || Train Accuracy = 0.9607833333333333\n"
          ]
        },
        {
          "metadata": {
            "tags": null
          },
          "name": "stderr",
          "output_type": "stream",
          "text": [
            "100%|██████████| 625/625 [00:02<00:00, 261.00it/s]\n"
          ]
        },
        {
          "metadata": {
            "tags": null
          },
          "name": "stdout",
          "output_type": "stream",
          "text": [
            "Epoch = 23 || Val Loss = 1.4731813722610474 || Val Accuracy = 0.9883\n",
            "\n",
            "---------------------------------------------------\n",
            "\n"
          ]
        },
        {
          "metadata": {
            "tags": null
          },
          "name": "stderr",
          "output_type": "stream",
          "text": [
            "100%|██████████| 3750/3750 [00:21<00:00, 174.49it/s]\n"
          ]
        },
        {
          "metadata": {
            "tags": null
          },
          "name": "stdout",
          "output_type": "stream",
          "text": [
            "Epoch = 24 || Train Loss = 1.4998359875361125 || Train Accuracy = 0.9618666666666666\n"
          ]
        },
        {
          "metadata": {
            "tags": null
          },
          "name": "stderr",
          "output_type": "stream",
          "text": [
            "100%|██████████| 625/625 [00:02<00:00, 264.27it/s]\n"
          ]
        },
        {
          "metadata": {
            "tags": null
          },
          "name": "stdout",
          "output_type": "stream",
          "text": [
            "Epoch = 24 || Val Loss = 1.4744174722671508 || Val Accuracy = 0.9864\n",
            "\n",
            "---------------------------------------------------\n",
            "\n"
          ]
        },
        {
          "metadata": {
            "tags": null
          },
          "name": "stderr",
          "output_type": "stream",
          "text": [
            "100%|██████████| 3750/3750 [00:21<00:00, 173.06it/s]\n"
          ]
        },
        {
          "metadata": {
            "tags": null
          },
          "name": "stdout",
          "output_type": "stream",
          "text": [
            "Epoch = 25 || Train Loss = 1.4995704593022665 || Train Accuracy = 0.9623333333333334\n"
          ]
        },
        {
          "metadata": {
            "tags": null
          },
          "name": "stderr",
          "output_type": "stream",
          "text": [
            "100%|██████████| 625/625 [00:02<00:00, 280.56it/s]\n"
          ]
        },
        {
          "metadata": {
            "tags": null
          },
          "name": "stdout",
          "output_type": "stream",
          "text": [
            "Epoch = 25 || Val Loss = 1.4737930864334106 || Val Accuracy = 0.9877\n",
            "\n",
            "---------------------------------------------------\n",
            "\n"
          ]
        },
        {
          "metadata": {
            "tags": null
          },
          "name": "stderr",
          "output_type": "stream",
          "text": [
            "100%|██████████| 3750/3750 [00:21<00:00, 172.67it/s]\n"
          ]
        },
        {
          "metadata": {
            "tags": null
          },
          "name": "stdout",
          "output_type": "stream",
          "text": [
            "Epoch = 26 || Train Loss = 1.4989295758565266 || Train Accuracy = 0.9628666666666666\n"
          ]
        },
        {
          "metadata": {
            "tags": null
          },
          "name": "stderr",
          "output_type": "stream",
          "text": [
            "100%|██████████| 625/625 [00:02<00:00, 281.69it/s]\n"
          ]
        },
        {
          "metadata": {
            "tags": null
          },
          "name": "stdout",
          "output_type": "stream",
          "text": [
            "Epoch = 26 || Val Loss = 1.4738083772659303 || Val Accuracy = 0.9875\n",
            "\n",
            "---------------------------------------------------\n",
            "\n"
          ]
        },
        {
          "metadata": {
            "tags": null
          },
          "name": "stderr",
          "output_type": "stream",
          "text": [
            "100%|██████████| 3750/3750 [00:21<00:00, 170.69it/s]\n"
          ]
        },
        {
          "metadata": {
            "tags": null
          },
          "name": "stdout",
          "output_type": "stream",
          "text": [
            "Epoch = 27 || Train Loss = 1.4985837199529013 || Train Accuracy = 0.9630833333333333\n"
          ]
        },
        {
          "metadata": {
            "tags": null
          },
          "name": "stderr",
          "output_type": "stream",
          "text": [
            "100%|██████████| 625/625 [00:01<00:00, 326.84it/s]\n"
          ]
        },
        {
          "metadata": {
            "tags": null
          },
          "name": "stdout",
          "output_type": "stream",
          "text": [
            "Epoch = 27 || Val Loss = 1.4750702285766601 || Val Accuracy = 0.9865\n",
            "\n",
            "---------------------------------------------------\n",
            "\n"
          ]
        },
        {
          "metadata": {
            "tags": null
          },
          "name": "stderr",
          "output_type": "stream",
          "text": [
            "100%|██████████| 3750/3750 [00:21<00:00, 172.00it/s]\n"
          ]
        },
        {
          "metadata": {
            "tags": null
          },
          "name": "stdout",
          "output_type": "stream",
          "text": [
            "Epoch = 28 || Train Loss = 1.4988434810638427 || Train Accuracy = 0.9630666666666666\n"
          ]
        },
        {
          "metadata": {
            "tags": null
          },
          "name": "stderr",
          "output_type": "stream",
          "text": [
            "100%|██████████| 625/625 [00:01<00:00, 339.24it/s]\n"
          ]
        },
        {
          "metadata": {
            "tags": null
          },
          "name": "stdout",
          "output_type": "stream",
          "text": [
            "Epoch = 28 || Val Loss = 1.4734919078826905 || Val Accuracy = 0.9876\n",
            "\n",
            "---------------------------------------------------\n",
            "\n"
          ]
        },
        {
          "metadata": {
            "tags": null
          },
          "name": "stderr",
          "output_type": "stream",
          "text": [
            "100%|██████████| 3750/3750 [00:21<00:00, 171.54it/s]\n"
          ]
        },
        {
          "metadata": {
            "tags": null
          },
          "name": "stdout",
          "output_type": "stream",
          "text": [
            "Epoch = 29 || Train Loss = 1.4994910242080688 || Train Accuracy = 0.9622\n"
          ]
        },
        {
          "metadata": {
            "tags": null
          },
          "name": "stderr",
          "output_type": "stream",
          "text": [
            "100%|██████████| 625/625 [00:01<00:00, 340.32it/s]\n"
          ]
        },
        {
          "metadata": {
            "tags": null
          },
          "name": "stdout",
          "output_type": "stream",
          "text": [
            "Epoch = 29 || Val Loss = 1.4734966039657593 || Val Accuracy = 0.9878\n",
            "\n",
            "---------------------------------------------------\n",
            "\n"
          ]
        },
        {
          "metadata": {
            "tags": null
          },
          "name": "stderr",
          "output_type": "stream",
          "text": [
            "100%|██████████| 3750/3750 [00:21<00:00, 170.87it/s]\n"
          ]
        },
        {
          "metadata": {
            "tags": null
          },
          "name": "stdout",
          "output_type": "stream",
          "text": [
            "Epoch = 30 || Train Loss = 1.498990505250295 || Train Accuracy = 0.9627\n"
          ]
        },
        {
          "metadata": {
            "tags": null
          },
          "name": "stderr",
          "output_type": "stream",
          "text": [
            "100%|██████████| 625/625 [00:01<00:00, 343.74it/s]\n"
          ]
        },
        {
          "metadata": {
            "tags": null
          },
          "name": "stdout",
          "output_type": "stream",
          "text": [
            "Epoch = 30 || Val Loss = 1.4729271484375 || Val Accuracy = 0.9881\n",
            "\n",
            "---------------------------------------------------\n",
            "\n"
          ]
        },
        {
          "metadata": {
            "tags": null
          },
          "name": "stderr",
          "output_type": "stream",
          "text": [
            "100%|██████████| 3750/3750 [00:21<00:00, 171.04it/s]\n"
          ]
        },
        {
          "metadata": {
            "tags": null
          },
          "name": "stdout",
          "output_type": "stream",
          "text": [
            "Epoch = 31 || Train Loss = 1.4984234493255615 || Train Accuracy = 0.9634833333333334\n"
          ]
        },
        {
          "metadata": {
            "tags": null
          },
          "name": "stderr",
          "output_type": "stream",
          "text": [
            "100%|██████████| 625/625 [00:01<00:00, 334.66it/s]\n"
          ]
        },
        {
          "metadata": {
            "tags": null
          },
          "name": "stdout",
          "output_type": "stream",
          "text": [
            "Epoch = 31 || Val Loss = 1.475114640045166 || Val Accuracy = 0.9861\n",
            "\n",
            "---------------------------------------------------\n",
            "\n"
          ]
        },
        {
          "metadata": {
            "tags": null
          },
          "name": "stderr",
          "output_type": "stream",
          "text": [
            "100%|██████████| 3750/3750 [00:21<00:00, 171.36it/s]\n"
          ]
        },
        {
          "metadata": {
            "tags": null
          },
          "name": "stdout",
          "output_type": "stream",
          "text": [
            "Epoch = 32 || Train Loss = 1.4987314521153767 || Train Accuracy = 0.9630333333333333\n"
          ]
        },
        {
          "metadata": {
            "tags": null
          },
          "name": "stderr",
          "output_type": "stream",
          "text": [
            "100%|██████████| 625/625 [00:01<00:00, 341.09it/s]\n"
          ]
        },
        {
          "metadata": {
            "tags": null
          },
          "name": "stdout",
          "output_type": "stream",
          "text": [
            "Epoch = 32 || Val Loss = 1.473611474609375 || Val Accuracy = 0.9876\n",
            "\n",
            "---------------------------------------------------\n",
            "\n"
          ]
        },
        {
          "metadata": {
            "tags": null
          },
          "name": "stderr",
          "output_type": "stream",
          "text": [
            "100%|██████████| 3750/3750 [00:21<00:00, 170.88it/s]\n"
          ]
        },
        {
          "metadata": {
            "tags": null
          },
          "name": "stdout",
          "output_type": "stream",
          "text": [
            "Epoch = 33 || Train Loss = 1.497532168229421 || Train Accuracy = 0.96405\n"
          ]
        },
        {
          "metadata": {
            "tags": null
          },
          "name": "stderr",
          "output_type": "stream",
          "text": [
            "100%|██████████| 625/625 [00:01<00:00, 343.48it/s]\n"
          ]
        },
        {
          "metadata": {
            "tags": null
          },
          "name": "stdout",
          "output_type": "stream",
          "text": [
            "Epoch = 33 || Val Loss = 1.4735187902450562 || Val Accuracy = 0.9875\n",
            "\n",
            "---------------------------------------------------\n",
            "\n"
          ]
        },
        {
          "metadata": {
            "tags": null
          },
          "name": "stderr",
          "output_type": "stream",
          "text": [
            "100%|██████████| 3750/3750 [00:21<00:00, 171.77it/s]\n"
          ]
        },
        {
          "metadata": {
            "tags": null
          },
          "name": "stdout",
          "output_type": "stream",
          "text": [
            "Epoch = 34 || Train Loss = 1.497634361044566 || Train Accuracy = 0.9643\n"
          ]
        },
        {
          "metadata": {
            "tags": null
          },
          "name": "stderr",
          "output_type": "stream",
          "text": [
            "100%|██████████| 625/625 [00:01<00:00, 342.16it/s]\n"
          ]
        },
        {
          "metadata": {
            "tags": null
          },
          "name": "stdout",
          "output_type": "stream",
          "text": [
            "Epoch = 34 || Val Loss = 1.4736552560806275 || Val Accuracy = 0.9875\n",
            "\n",
            "---------------------------------------------------\n",
            "\n"
          ]
        },
        {
          "metadata": {
            "tags": null
          },
          "name": "stderr",
          "output_type": "stream",
          "text": [
            "100%|██████████| 3750/3750 [00:21<00:00, 170.53it/s]\n"
          ]
        },
        {
          "metadata": {
            "tags": null
          },
          "name": "stdout",
          "output_type": "stream",
          "text": [
            "Epoch = 35 || Train Loss = 1.4977104125022889 || Train Accuracy = 0.964\n"
          ]
        },
        {
          "metadata": {
            "tags": null
          },
          "name": "stderr",
          "output_type": "stream",
          "text": [
            "100%|██████████| 625/625 [00:01<00:00, 340.65it/s]\n"
          ]
        },
        {
          "metadata": {
            "tags": null
          },
          "name": "stdout",
          "output_type": "stream",
          "text": [
            "Epoch = 35 || Val Loss = 1.4722172218322753 || Val Accuracy = 0.9895\n",
            "\n",
            "---------------------------------------------------\n",
            "\n"
          ]
        },
        {
          "metadata": {
            "tags": null
          },
          "name": "stderr",
          "output_type": "stream",
          "text": [
            "100%|██████████| 3750/3750 [00:21<00:00, 171.64it/s]\n"
          ]
        },
        {
          "metadata": {
            "tags": null
          },
          "name": "stdout",
          "output_type": "stream",
          "text": [
            "Epoch = 36 || Train Loss = 1.4975593918164571 || Train Accuracy = 0.964\n"
          ]
        },
        {
          "metadata": {
            "tags": null
          },
          "name": "stderr",
          "output_type": "stream",
          "text": [
            "100%|██████████| 625/625 [00:01<00:00, 341.45it/s]\n"
          ]
        },
        {
          "metadata": {
            "tags": null
          },
          "name": "stdout",
          "output_type": "stream",
          "text": [
            "Epoch = 36 || Val Loss = 1.4728418809890746 || Val Accuracy = 0.9884\n",
            "\n",
            "---------------------------------------------------\n",
            "\n"
          ]
        },
        {
          "metadata": {
            "tags": null
          },
          "name": "stderr",
          "output_type": "stream",
          "text": [
            "100%|██████████| 3750/3750 [00:21<00:00, 170.51it/s]\n"
          ]
        },
        {
          "metadata": {
            "tags": null
          },
          "name": "stdout",
          "output_type": "stream",
          "text": [
            "Epoch = 37 || Train Loss = 1.4976669397672018 || Train Accuracy = 0.9642333333333334\n"
          ]
        },
        {
          "metadata": {
            "tags": null
          },
          "name": "stderr",
          "output_type": "stream",
          "text": [
            "100%|██████████| 625/625 [00:01<00:00, 331.69it/s]\n"
          ]
        },
        {
          "metadata": {
            "tags": null
          },
          "name": "stdout",
          "output_type": "stream",
          "text": [
            "Epoch = 37 || Val Loss = 1.4735145259857179 || Val Accuracy = 0.9879\n",
            "\n",
            "---------------------------------------------------\n",
            "\n"
          ]
        },
        {
          "metadata": {
            "tags": null
          },
          "name": "stderr",
          "output_type": "stream",
          "text": [
            "100%|██████████| 3750/3750 [00:21<00:00, 171.64it/s]\n"
          ]
        },
        {
          "metadata": {
            "tags": null
          },
          "name": "stdout",
          "output_type": "stream",
          "text": [
            "Epoch = 38 || Train Loss = 1.4976368279457093 || Train Accuracy = 0.9642833333333334\n"
          ]
        },
        {
          "metadata": {
            "tags": null
          },
          "name": "stderr",
          "output_type": "stream",
          "text": [
            "100%|██████████| 625/625 [00:01<00:00, 340.57it/s]\n"
          ]
        },
        {
          "metadata": {
            "tags": null
          },
          "name": "stdout",
          "output_type": "stream",
          "text": [
            "Epoch = 38 || Val Loss = 1.4717967428207397 || Val Accuracy = 0.9893\n",
            "\n",
            "---------------------------------------------------\n",
            "\n"
          ]
        },
        {
          "metadata": {
            "tags": null
          },
          "name": "stderr",
          "output_type": "stream",
          "text": [
            "100%|██████████| 3750/3750 [00:21<00:00, 171.58it/s]\n"
          ]
        },
        {
          "metadata": {
            "tags": null
          },
          "name": "stdout",
          "output_type": "stream",
          "text": [
            "Epoch = 39 || Train Loss = 1.4969015101750691 || Train Accuracy = 0.9650666666666666\n"
          ]
        },
        {
          "metadata": {
            "tags": null
          },
          "name": "stderr",
          "output_type": "stream",
          "text": [
            "100%|██████████| 625/625 [00:01<00:00, 343.46it/s]\n"
          ]
        },
        {
          "metadata": {
            "tags": null
          },
          "name": "stdout",
          "output_type": "stream",
          "text": [
            "Epoch = 39 || Val Loss = 1.4726678058624267 || Val Accuracy = 0.9888\n",
            "\n",
            "---------------------------------------------------\n",
            "\n"
          ]
        },
        {
          "metadata": {
            "tags": null
          },
          "name": "stderr",
          "output_type": "stream",
          "text": [
            "100%|██████████| 3750/3750 [00:21<00:00, 171.77it/s]\n"
          ]
        },
        {
          "metadata": {
            "tags": null
          },
          "name": "stdout",
          "output_type": "stream",
          "text": [
            "Epoch = 40 || Train Loss = 1.49738079551061 || Train Accuracy = 0.96485\n"
          ]
        },
        {
          "metadata": {
            "tags": null
          },
          "name": "stderr",
          "output_type": "stream",
          "text": [
            "100%|██████████| 625/625 [00:01<00:00, 338.98it/s]\n"
          ]
        },
        {
          "metadata": {
            "tags": null
          },
          "name": "stdout",
          "output_type": "stream",
          "text": [
            "Epoch = 40 || Val Loss = 1.4751889207839965 || Val Accuracy = 0.986\n",
            "\n",
            "---------------------------------------------------\n",
            "\n"
          ]
        },
        {
          "metadata": {
            "tags": null
          },
          "name": "stderr",
          "output_type": "stream",
          "text": [
            "100%|██████████| 3750/3750 [00:21<00:00, 171.53it/s]\n"
          ]
        },
        {
          "metadata": {
            "tags": null
          },
          "name": "stdout",
          "output_type": "stream",
          "text": [
            "Epoch = 41 || Train Loss = 1.496727614180247 || Train Accuracy = 0.9649833333333333\n"
          ]
        },
        {
          "metadata": {
            "tags": null
          },
          "name": "stderr",
          "output_type": "stream",
          "text": [
            "100%|██████████| 625/625 [00:01<00:00, 339.91it/s]\n"
          ]
        },
        {
          "metadata": {
            "tags": null
          },
          "name": "stdout",
          "output_type": "stream",
          "text": [
            "Epoch = 41 || Val Loss = 1.4731530122756957 || Val Accuracy = 0.9884\n",
            "\n",
            "---------------------------------------------------\n",
            "\n"
          ]
        },
        {
          "metadata": {
            "tags": null
          },
          "name": "stderr",
          "output_type": "stream",
          "text": [
            "100%|██████████| 3750/3750 [00:21<00:00, 170.61it/s]\n"
          ]
        },
        {
          "metadata": {
            "tags": null
          },
          "name": "stdout",
          "output_type": "stream",
          "text": [
            "Epoch = 42 || Train Loss = 1.4976165228525797 || Train Accuracy = 0.9643166666666667\n"
          ]
        },
        {
          "metadata": {
            "tags": null
          },
          "name": "stderr",
          "output_type": "stream",
          "text": [
            "100%|██████████| 625/625 [00:01<00:00, 330.76it/s]\n"
          ]
        },
        {
          "metadata": {
            "tags": null
          },
          "name": "stdout",
          "output_type": "stream",
          "text": [
            "Epoch = 42 || Val Loss = 1.4715465599060058 || Val Accuracy = 0.9898\n",
            "\n",
            "---------------------------------------------------\n",
            "\n"
          ]
        },
        {
          "output_type": "stream",
          "name": "stderr",
          "text": [
            "100%|██████████| 3750/3750 [00:21<00:00, 170.82it/s]\n"
          ]
        },
        {
          "output_type": "stream",
          "name": "stdout",
          "text": [
            "Epoch = 43 || Train Loss = 1.4973848745028178 || Train Accuracy = 0.96435\n"
          ]
        },
        {
          "output_type": "stream",
          "name": "stderr",
          "text": [
            "100%|██████████| 625/625 [00:01<00:00, 341.54it/s]\n"
          ]
        },
        {
          "output_type": "stream",
          "name": "stdout",
          "text": [
            "Epoch = 43 || Val Loss = 1.4721572206497193 || Val Accuracy = 0.9898\n",
            "\n",
            "---------------------------------------------------\n",
            "\n"
          ]
        },
        {
          "output_type": "stream",
          "name": "stderr",
          "text": [
            "100%|██████████| 3750/3750 [00:21<00:00, 171.18it/s]\n"
          ]
        },
        {
          "output_type": "stream",
          "name": "stdout",
          "text": [
            "Epoch = 44 || Train Loss = 1.4977757803599039 || Train Accuracy = 0.96385\n"
          ]
        },
        {
          "output_type": "stream",
          "name": "stderr",
          "text": [
            "100%|██████████| 625/625 [00:01<00:00, 339.19it/s]\n"
          ]
        },
        {
          "output_type": "stream",
          "name": "stdout",
          "text": [
            "Epoch = 44 || Val Loss = 1.4720283430099488 || Val Accuracy = 0.9895\n",
            "\n",
            "---------------------------------------------------\n",
            "\n"
          ]
        },
        {
          "output_type": "stream",
          "name": "stderr",
          "text": [
            "100%|██████████| 3750/3750 [00:21<00:00, 171.23it/s]\n"
          ]
        },
        {
          "output_type": "stream",
          "name": "stdout",
          "text": [
            "Epoch = 45 || Train Loss = 1.496999995326996 || Train Accuracy = 0.9647\n"
          ]
        },
        {
          "output_type": "stream",
          "name": "stderr",
          "text": [
            "100%|██████████| 625/625 [00:01<00:00, 337.04it/s]\n"
          ]
        },
        {
          "output_type": "stream",
          "name": "stdout",
          "text": [
            "Epoch = 45 || Val Loss = 1.4733651103973389 || Val Accuracy = 0.9879\n",
            "\n",
            "---------------------------------------------------\n",
            "\n"
          ]
        },
        {
          "output_type": "stream",
          "name": "stderr",
          "text": [
            "100%|██████████| 3750/3750 [00:21<00:00, 172.12it/s]\n"
          ]
        },
        {
          "output_type": "stream",
          "name": "stdout",
          "text": [
            "Epoch = 46 || Train Loss = 1.4975928224245707 || Train Accuracy = 0.96405\n"
          ]
        },
        {
          "output_type": "stream",
          "name": "stderr",
          "text": [
            "100%|██████████| 625/625 [00:01<00:00, 337.96it/s]\n"
          ]
        },
        {
          "output_type": "stream",
          "name": "stdout",
          "text": [
            "Epoch = 46 || Val Loss = 1.4735392221450805 || Val Accuracy = 0.9878\n",
            "\n",
            "---------------------------------------------------\n",
            "\n"
          ]
        },
        {
          "output_type": "stream",
          "name": "stderr",
          "text": [
            "100%|██████████| 3750/3750 [00:21<00:00, 171.42it/s]\n"
          ]
        },
        {
          "output_type": "stream",
          "name": "stdout",
          "text": [
            "Epoch = 47 || Train Loss = 1.4976908349990845 || Train Accuracy = 0.9641333333333333\n"
          ]
        },
        {
          "output_type": "stream",
          "name": "stderr",
          "text": [
            "100%|██████████| 625/625 [00:01<00:00, 335.96it/s]\n"
          ]
        },
        {
          "output_type": "stream",
          "name": "stdout",
          "text": [
            "Epoch = 47 || Val Loss = 1.472770578956604 || Val Accuracy = 0.9884\n",
            "\n",
            "---------------------------------------------------\n",
            "\n"
          ]
        },
        {
          "output_type": "stream",
          "name": "stderr",
          "text": [
            "100%|██████████| 3750/3750 [00:21<00:00, 170.52it/s]\n"
          ]
        },
        {
          "output_type": "stream",
          "name": "stdout",
          "text": [
            "Epoch = 48 || Train Loss = 1.4981539269765218 || Train Accuracy = 0.9636833333333333\n"
          ]
        },
        {
          "output_type": "stream",
          "name": "stderr",
          "text": [
            "100%|██████████| 625/625 [00:01<00:00, 320.85it/s]\n"
          ]
        },
        {
          "output_type": "stream",
          "name": "stdout",
          "text": [
            "Epoch = 48 || Val Loss = 1.4721836772918702 || Val Accuracy = 0.9889\n",
            "\n",
            "---------------------------------------------------\n",
            "\n"
          ]
        },
        {
          "output_type": "stream",
          "name": "stderr",
          "text": [
            "100%|██████████| 3750/3750 [00:21<00:00, 172.02it/s]\n"
          ]
        },
        {
          "output_type": "stream",
          "name": "stdout",
          "text": [
            "Epoch = 49 || Train Loss = 1.496351320807139 || Train Accuracy = 0.9655666666666667\n"
          ]
        },
        {
          "output_type": "stream",
          "name": "stderr",
          "text": [
            "100%|██████████| 625/625 [00:02<00:00, 305.76it/s]\n"
          ]
        },
        {
          "output_type": "stream",
          "name": "stdout",
          "text": [
            "Epoch = 49 || Val Loss = 1.4730297311782836 || Val Accuracy = 0.9884\n",
            "\n",
            "---------------------------------------------------\n",
            "\n"
          ]
        },
        {
          "output_type": "stream",
          "name": "stderr",
          "text": [
            "100%|██████████| 3750/3750 [00:21<00:00, 172.11it/s]\n"
          ]
        },
        {
          "output_type": "stream",
          "name": "stdout",
          "text": [
            "Epoch = 50 || Train Loss = 1.497090540599823 || Train Accuracy = 0.9648666666666667\n"
          ]
        },
        {
          "output_type": "stream",
          "name": "stderr",
          "text": [
            "100%|██████████| 625/625 [00:02<00:00, 263.43it/s]\n"
          ]
        },
        {
          "output_type": "stream",
          "name": "stdout",
          "text": [
            "Epoch = 50 || Val Loss = 1.472283805847168 || Val Accuracy = 0.9894\n",
            "\n",
            "---------------------------------------------------\n",
            "\n"
          ]
        },
        {
          "output_type": "display_data",
          "data": {
            "text/plain": [
              "<Figure size 1200x600 with 2 Axes>"
            ],
            "image/png": "[encoded data removed]"
          },
          "metadata": {}
        }
      ]
    },
    {
      "cell_type": "code",
      "source": [
        "val_dataloader = DataLoader(test,batch_size = 16,shuffle=True)"
      ],
      "metadata": {
        "id": "4CR1KLFYtehM"
      },
      "execution_count": 159,
      "outputs": []
    },
    {
      "cell_type": "code",
      "source": [
        "data = next(iter(val_dataloader))[0]\n",
        "with torch.no_grad():\n",
        "  model.eval()\n",
        "  print(data[0].shape)\n",
        "  plt.imshow(data[0].permute(1, 2, 0))\n",
        "  plt.show()\n",
        "  pred = model(data[0].unsqueeze(0).to(device))\n",
        "  prob,idx = torch.max(pred,dim=1)\n",
        "  print(f\"Pred Prob = {prob[0]} || Pred Elem = {idx[0]}\")"
      ],
      "metadata": {
        "colab": {
          "base_uri": "https://localhost:8080/",
          "height": 485
        },
        "id": "NWWTVItDjjSW",
        "outputId": "1796a027-fa76-4c6c-feed-b139fff55b34"
      },
      "execution_count": 160,
      "outputs": [
        {
          "output_type": "stream",
          "name": "stdout",
          "text": [
            "torch.Size([1, 28, 28])\n"
          ]
        },
        {
          "output_type": "display_data",
          "data": {
            "text/plain": [
              "<Figure size 640x480 with 1 Axes>"
            ],
            "image/png": "[encoded data removed]"
          },
          "metadata": {}
        },
        {
          "output_type": "stream",
          "name": "stdout",
          "text": [
            "Pred Prob = 1.0 || Pred Elem = 4\n"
          ]
        }
      ]
    },
    {
      "cell_type": "code",
      "source": [],
      "metadata": {
        "id": "JoFjOvWhtLwT"
      },
      "execution_count": 160,
      "outputs": []
    }
  ]
}