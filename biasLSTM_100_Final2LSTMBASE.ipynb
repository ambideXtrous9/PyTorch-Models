{
 "cells": [
  {
   "cell_type": "code",
   "execution_count": 1,
   "metadata": {},
   "outputs": [
    {
     "name": "stderr",
     "output_type": "stream",
     "text": [
      "[nltk_data] Downloading package stopwords to\n",
      "[nltk_data]     /home/student1/sushovan.saha/nltk_data...\n",
      "[nltk_data]   Package stopwords is already up-to-date!\n"
     ]
    }
   ],
   "source": [
    "import numpy as np\n",
    "import pandas as pd\n",
    "from matplotlib import pyplot as plt\n",
    "import torch\n",
    "from torch import nn\n",
    "from sklearn.model_selection import train_test_split\n",
    "import warnings\n",
    "warnings.filterwarnings(action='ignore',category=UserWarning)\n",
    "warnings.filterwarnings(action='ignore',category=FutureWarning)\n",
    "import W2V2\n",
    "from sklearn import metrics"
   ]
  },
  {
   "cell_type": "code",
   "execution_count": 2,
   "metadata": {},
   "outputs": [],
   "source": [
    "glove_path = 'glove.6B.100d.txt'"
   ]
  },
  {
   "cell_type": "code",
   "execution_count": 3,
   "metadata": {},
   "outputs": [
    {
     "name": "stdout",
     "output_type": "stream",
     "text": [
      "number of word in vocabulary 143699\n",
      "word in sentences are replaced with word ID [[   3    2   24 ...    9  114 1996]\n",
      " [9796  590 2684 ...   61 1065 3100]\n",
      " [1958 2002 7091 ... 7257 2133 1951]\n",
      " ...\n",
      " [   2  900   94 ...  156  882   19]\n",
      " [   2   58 1794 ...   57   47   84]\n",
      " [3262 3233 4319 ...  472  382 2286]]\n",
      "The size of vocabulary  143700\n",
      "Loaded 400000 word vectors.\n",
      "(26590, 120, 100)\n"
     ]
    }
   ],
   "source": [
    "X_train,y_train = W2V2.Sentence2Vec(filename='Train.xlsx',glovepath=glove_path, embedding_dim=100, max_length=120)"
   ]
  },
  {
   "cell_type": "code",
   "execution_count": 4,
   "metadata": {},
   "outputs": [
    {
     "name": "stdout",
     "output_type": "stream",
     "text": [
      "number of word in vocabulary 37490\n",
      "word in sentences are replaced with word ID [[   15  2444  1170 ...  6866  6867   292]\n",
      " [ 1849  1254 17674 ... 10294   477   271]\n",
      " [   66  3773   922 ...   352  1242    17]\n",
      " ...\n",
      " [  252   610  3654 ...  2282  1443   403]\n",
      " [   36    49    73 ...  4708   219   997]\n",
      " [  452   312   956 ...    12   394     6]]\n",
      "The size of vocabulary  37491\n",
      "Loaded 400000 word vectors.\n",
      "(1300, 120, 100)\n"
     ]
    }
   ],
   "source": [
    "X_test,y_test = W2V2.Sentence2Vec(filename='Test.xlsx',glovepath=glove_path)"
   ]
  },
  {
   "cell_type": "code",
   "execution_count": 5,
   "metadata": {},
   "outputs": [
    {
     "name": "stdout",
     "output_type": "stream",
     "text": [
      "number of word in vocabulary 41258\n",
      "word in sentences are replaced with word ID [[  678   762  2405 ...   156  1774 13380]\n",
      " [20298  1337  3805 ...  7151   474   819]\n",
      " [  529   263   409 ...   967    43  2739]\n",
      " ...\n",
      " [ 1097  1201  1228 ...  1433 25652  8927]\n",
      " [  509  1503  2792 ...  8678  1904  8830]\n",
      " [  130  1361  9149 ...  2951   613   385]]\n",
      "The size of vocabulary  41259\n",
      "Loaded 400000 word vectors.\n",
      "(2355, 120, 100)\n"
     ]
    }
   ],
   "source": [
    "X_valid,y_valid = W2V2.Sentence2Vec(filename='Valid.xlsx',glovepath=glove_path)"
   ]
  },
  {
   "cell_type": "code",
   "execution_count": 6,
   "metadata": {},
   "outputs": [
    {
     "data": {
      "text/plain": [
       "(26590, 120, 100)"
      ]
     },
     "execution_count": 6,
     "metadata": {},
     "output_type": "execute_result"
    }
   ],
   "source": [
    "X_train.shape"
   ]
  },
  {
   "cell_type": "code",
   "execution_count": 7,
   "metadata": {},
   "outputs": [
    {
     "data": {
      "text/plain": [
       "2    10241\n",
       "0     8861\n",
       "1     7488\n",
       "dtype: int64"
      ]
     },
     "execution_count": 7,
     "metadata": {},
     "output_type": "execute_result"
    }
   ],
   "source": [
    "pd.Series(y_train).value_counts()"
   ]
  },
  {
   "cell_type": "code",
   "execution_count": 8,
   "metadata": {},
   "outputs": [
    {
     "data": {
      "text/plain": [
       "0    1639\n",
       "1     618\n",
       "2      98\n",
       "dtype: int64"
      ]
     },
     "execution_count": 8,
     "metadata": {},
     "output_type": "execute_result"
    }
   ],
   "source": [
    "pd.Series(y_valid).value_counts()"
   ]
  },
  {
   "cell_type": "code",
   "execution_count": 9,
   "metadata": {},
   "outputs": [
    {
     "data": {
      "text/plain": [
       "2    599\n",
       "0    402\n",
       "1    299\n",
       "dtype: int64"
      ]
     },
     "execution_count": 9,
     "metadata": {},
     "output_type": "execute_result"
    }
   ],
   "source": [
    "pd.Series(y_test).value_counts()"
   ]
  },
  {
   "cell_type": "code",
   "execution_count": 10,
   "metadata": {},
   "outputs": [],
   "source": [
    "max_length = X_train.shape[1]"
   ]
  },
  {
   "cell_type": "code",
   "execution_count": 11,
   "metadata": {},
   "outputs": [],
   "source": [
    "from torch.autograd import Variable\n",
    "class myLSTM(nn.Module):\n",
    "\n",
    "    def __init__(self, dimension, hidd_dim):\n",
    "        super().__init__()\n",
    "        self.hidd_dim = hidd_dim\n",
    "        self.lstm = nn.LSTM(input_size=dimension,\n",
    "        hidden_size=self.hidd_dim,\n",
    "        num_layers=2,\n",
    "        batch_first=True,\n",
    "        bidirectional=False)\n",
    "        self.drop = nn.Dropout(p=0.5)\n",
    "        self.fc = nn.Linear(self.hidd_dim, 3)\n",
    "        self.act = nn.Softmax()\n",
    "\n",
    "\n",
    "\n",
    "    def forward(self, x, batch_size):\n",
    "        np.random.seed(1)\n",
    "        h_0 = Variable(torch.rand(2, batch_size, self.hidd_dim))\n",
    "        c_0 = Variable(torch.rand(2, batch_size, self.hidd_dim))\n",
    "\n",
    "        x, (final_hidden_state, final_cell_state) = self.lstm(x, (h_0, c_0))\n",
    "        #print(x.shape)\n",
    "        x = self.fc(final_hidden_state[-1])\n",
    "        #print(x.shape)\n",
    "        x = self.act(x)\n",
    "        return x\n",
    "            "
   ]
  },
  {
   "cell_type": "code",
   "execution_count": 12,
   "metadata": {},
   "outputs": [],
   "source": [
    "def train(model, x, y, loss_fn, optimizer, batch_size=1024):\n",
    "    model.train()\n",
    "    x, y = torch.Tensor(x), torch.Tensor(y)\n",
    "    y = y.type(torch.LongTensor)\n",
    "    net_loss = 0\n",
    "    \n",
    "    for i in range(0, len(x), batch_size):\n",
    "        i_end = i+batch_size\n",
    "        x_batch = x[i:min(i_end, len(x))]\n",
    "        y_batch = y[i:min(i_end, len(x))]\n",
    "        \n",
    "        pred = model(x_batch,x_batch.shape[0])\n",
    "        loss = loss_fn(pred, y_batch)\n",
    "        net_loss = net_loss+loss.item()\n",
    "        \n",
    "        optimizer.zero_grad()\n",
    "        loss.backward()\n",
    "        optimizer.step()\n",
    "        \n",
    "    return net_loss\n",
    "\n",
    "def test(model, xts, yts,batchsize):\n",
    "    model.eval()\n",
    "    with torch.no_grad():\n",
    "        xts = torch.Tensor(xts)\n",
    "        pred = model(xts,batchsize)\n",
    "        loss = loss_fn(pred, torch.Tensor(yts).type(torch.LongTensor))\n",
    "        yhat = np.argmax(pred, axis=1).numpy()\n",
    "        acc = np.sum(yhat==yts)*100/yhat.shape[0]\n",
    "        f1 = metrics.f1_score(yts,yhat,average=None)\n",
    "        return acc, f1,loss"
   ]
  },
  {
   "cell_type": "code",
   "execution_count": 13,
   "metadata": {},
   "outputs": [
    {
     "name": "stdout",
     "output_type": "stream",
     "text": [
      "--- Epoch 1 ---\n",
      "\tCross Entropy Loss (Training) : 56.582316875457764 \n",
      "\tTrain Accuracy : 42.85 % \n",
      "\tTest Accuracy : 42.62 % \n",
      "--- Epoch 2 ---\n",
      "\tCross Entropy Loss (Training) : 55.692245960235596 \n",
      "\tTrain Accuracy : 44.91 % \n",
      "\tTest Accuracy : 45.31 % \n",
      "--- Epoch 3 ---\n",
      "\tCross Entropy Loss (Training) : 56.52547478675842 \n",
      "\tTrain Accuracy : 38.51 % \n",
      "\tTest Accuracy : 46.08 % \n",
      "--- Epoch 4 ---\n",
      "\tCross Entropy Loss (Training) : 56.71272659301758 \n",
      "\tTrain Accuracy : 38.51 % \n",
      "\tTest Accuracy : 46.08 % \n",
      "--- Epoch 5 ---\n",
      "\tCross Entropy Loss (Training) : 56.70584166049957 \n",
      "\tTrain Accuracy : 38.51 % \n",
      "\tTest Accuracy : 46.08 % \n",
      "--- Epoch 6 ---\n",
      "\tCross Entropy Loss (Training) : 56.656453013420105 \n",
      "\tTrain Accuracy : 38.51 % \n",
      "\tTest Accuracy : 46.08 % \n",
      "--- Epoch 7 ---\n",
      "\tCross Entropy Loss (Training) : 56.57155394554138 \n",
      "\tTrain Accuracy : 38.51 % \n",
      "\tTest Accuracy : 46.08 % \n",
      "--- Epoch 8 ---\n",
      "\tCross Entropy Loss (Training) : 56.64681351184845 \n",
      "\tTrain Accuracy : 39.64 % \n",
      "\tTest Accuracy : 46.31 % \n",
      "--- Epoch 9 ---\n",
      "\tCross Entropy Loss (Training) : 55.795369148254395 \n",
      "\tTrain Accuracy : 44.78 % \n",
      "\tTest Accuracy : 39.62 % \n",
      "--- Epoch 10 ---\n",
      "\tCross Entropy Loss (Training) : 53.585255563259125 \n",
      "\tTrain Accuracy : 54.77 % \n",
      "\tTest Accuracy : 47.85 % \n",
      "--- Epoch 11 ---\n",
      "\tCross Entropy Loss (Training) : 52.02182334661484 \n",
      "\tTrain Accuracy : 57.47 % \n",
      "\tTest Accuracy : 46.62 % \n",
      "--- Epoch 12 ---\n",
      "\tCross Entropy Loss (Training) : 50.01034480333328 \n",
      "\tTrain Accuracy : 60.02 % \n",
      "\tTest Accuracy : 45.92 % \n",
      "--- Epoch 13 ---\n",
      "\tCross Entropy Loss (Training) : 49.15236794948578 \n",
      "\tTrain Accuracy : 60.83 % \n",
      "\tTest Accuracy : 45.54 % \n",
      "--- Epoch 14 ---\n",
      "\tCross Entropy Loss (Training) : 49.09650230407715 \n",
      "\tTrain Accuracy : 62.52 % \n",
      "\tTest Accuracy : 48.15 % \n",
      "--- Epoch 15 ---\n",
      "\tCross Entropy Loss (Training) : 47.84040451049805 \n",
      "\tTrain Accuracy : 63.92 % \n",
      "\tTest Accuracy : 47.31 % \n",
      "--- Epoch 16 ---\n",
      "\tCross Entropy Loss (Training) : 46.67222434282303 \n",
      "\tTrain Accuracy : 64.52 % \n",
      "\tTest Accuracy : 47.31 % \n",
      "--- Epoch 17 ---\n",
      "\tCross Entropy Loss (Training) : 46.70472973585129 \n",
      "\tTrain Accuracy : 64.07 % \n",
      "\tTest Accuracy : 50.23 % \n",
      "--- Epoch 18 ---\n",
      "\tCross Entropy Loss (Training) : 46.13617891073227 \n",
      "\tTrain Accuracy : 65.40 % \n",
      "\tTest Accuracy : 47.23 % \n",
      "--- Epoch 19 ---\n",
      "\tCross Entropy Loss (Training) : 46.006467401981354 \n",
      "\tTrain Accuracy : 65.25 % \n",
      "\tTest Accuracy : 47.54 % \n",
      "--- Epoch 20 ---\n",
      "\tCross Entropy Loss (Training) : 45.32856607437134 \n",
      "\tTrain Accuracy : 66.05 % \n",
      "\tTest Accuracy : 44.62 % \n",
      "--- Epoch 21 ---\n",
      "\tCross Entropy Loss (Training) : 44.84752798080444 \n",
      "\tTrain Accuracy : 69.45 % \n",
      "\tTest Accuracy : 45.92 % \n",
      "--- Epoch 22 ---\n",
      "\tCross Entropy Loss (Training) : 44.054674208164215 \n",
      "\tTrain Accuracy : 69.50 % \n",
      "\tTest Accuracy : 47.15 % \n",
      "--- Epoch 23 ---\n",
      "\tCross Entropy Loss (Training) : 44.00281894207001 \n",
      "\tTrain Accuracy : 65.16 % \n",
      "\tTest Accuracy : 46.15 % \n",
      "--- Epoch 24 ---\n",
      "\tCross Entropy Loss (Training) : 44.227130115032196 \n",
      "\tTrain Accuracy : 69.60 % \n",
      "\tTest Accuracy : 47.23 % \n",
      "--- Epoch 25 ---\n",
      "\tCross Entropy Loss (Training) : 43.4008013010025 \n",
      "\tTrain Accuracy : 71.64 % \n",
      "\tTest Accuracy : 45.00 % \n",
      "--- Epoch 26 ---\n",
      "\tCross Entropy Loss (Training) : 42.763455629348755 \n",
      "\tTrain Accuracy : 73.22 % \n",
      "\tTest Accuracy : 46.62 % \n",
      "--- Epoch 27 ---\n",
      "\tCross Entropy Loss (Training) : 49.798894345760345 \n",
      "\tTrain Accuracy : 56.13 % \n",
      "\tTest Accuracy : 41.69 % \n",
      "--- Epoch 28 ---\n",
      "\tCross Entropy Loss (Training) : 50.28055864572525 \n",
      "\tTrain Accuracy : 57.28 % \n",
      "\tTest Accuracy : 41.54 % \n",
      "--- Epoch 29 ---\n",
      "\tCross Entropy Loss (Training) : 49.87964105606079 \n",
      "\tTrain Accuracy : 57.51 % \n",
      "\tTest Accuracy : 40.85 % \n",
      "--- Epoch 30 ---\n",
      "\tCross Entropy Loss (Training) : 48.95106601715088 \n",
      "\tTrain Accuracy : 60.84 % \n",
      "\tTest Accuracy : 39.38 % \n",
      "--- Epoch 31 ---\n",
      "\tCross Entropy Loss (Training) : 47.60590261220932 \n",
      "\tTrain Accuracy : 63.40 % \n",
      "\tTest Accuracy : 44.15 % \n",
      "--- Epoch 32 ---\n",
      "\tCross Entropy Loss (Training) : 46.32759493589401 \n",
      "\tTrain Accuracy : 66.91 % \n",
      "\tTest Accuracy : 47.38 % \n",
      "--- Epoch 33 ---\n",
      "\tCross Entropy Loss (Training) : 51.32221436500549 \n",
      "\tTrain Accuracy : 65.39 % \n",
      "\tTest Accuracy : 49.23 % \n",
      "--- Epoch 34 ---\n",
      "\tCross Entropy Loss (Training) : 46.62370032072067 \n",
      "\tTrain Accuracy : 67.18 % \n",
      "\tTest Accuracy : 47.69 % \n",
      "--- Epoch 35 ---\n",
      "\tCross Entropy Loss (Training) : 46.748579621315 \n",
      "\tTrain Accuracy : 69.00 % \n",
      "\tTest Accuracy : 45.08 % \n",
      "--- Epoch 36 ---\n",
      "\tCross Entropy Loss (Training) : 43.974204897880554 \n",
      "\tTrain Accuracy : 70.34 % \n",
      "\tTest Accuracy : 45.92 % \n",
      "--- Epoch 37 ---\n",
      "\tCross Entropy Loss (Training) : 43.45958834886551 \n",
      "\tTrain Accuracy : 71.05 % \n",
      "\tTest Accuracy : 46.31 % \n",
      "--- Epoch 38 ---\n",
      "\tCross Entropy Loss (Training) : 43.16957288980484 \n",
      "\tTrain Accuracy : 71.41 % \n",
      "\tTest Accuracy : 47.46 % \n",
      "--- Epoch 39 ---\n",
      "\tCross Entropy Loss (Training) : 42.898238480091095 \n",
      "\tTrain Accuracy : 71.51 % \n",
      "\tTest Accuracy : 47.77 % \n",
      "--- Epoch 40 ---\n",
      "\tCross Entropy Loss (Training) : 42.67000961303711 \n",
      "\tTrain Accuracy : 72.73 % \n",
      "\tTest Accuracy : 48.23 % \n",
      "--- Epoch 41 ---\n",
      "\tCross Entropy Loss (Training) : 42.40719848871231 \n",
      "\tTrain Accuracy : 73.35 % \n",
      "\tTest Accuracy : 47.46 % \n",
      "--- Epoch 42 ---\n",
      "\tCross Entropy Loss (Training) : 42.18350386619568 \n",
      "\tTrain Accuracy : 73.78 % \n",
      "\tTest Accuracy : 48.46 % \n",
      "--- Epoch 43 ---\n",
      "\tCross Entropy Loss (Training) : 42.015838265419006 \n",
      "\tTrain Accuracy : 73.60 % \n",
      "\tTest Accuracy : 48.46 % \n",
      "--- Epoch 44 ---\n",
      "\tCross Entropy Loss (Training) : 41.84141355752945 \n",
      "\tTrain Accuracy : 74.19 % \n",
      "\tTest Accuracy : 49.08 % \n",
      "--- Epoch 45 ---\n",
      "\tCross Entropy Loss (Training) : 42.09409028291702 \n",
      "\tTrain Accuracy : 74.48 % \n",
      "\tTest Accuracy : 49.77 % \n",
      "--- Epoch 46 ---\n",
      "\tCross Entropy Loss (Training) : 41.45937407016754 \n",
      "\tTrain Accuracy : 75.26 % \n",
      "\tTest Accuracy : 48.15 % \n",
      "--- Epoch 47 ---\n",
      "\tCross Entropy Loss (Training) : 41.36831480264664 \n",
      "\tTrain Accuracy : 75.74 % \n",
      "\tTest Accuracy : 49.00 % \n",
      "--- Epoch 48 ---\n",
      "\tCross Entropy Loss (Training) : 40.986100018024445 \n",
      "\tTrain Accuracy : 75.45 % \n",
      "\tTest Accuracy : 50.54 % \n",
      "--- Epoch 49 ---\n",
      "\tCross Entropy Loss (Training) : 40.895965218544006 \n",
      "\tTrain Accuracy : 75.48 % \n",
      "\tTest Accuracy : 52.15 % \n",
      "--- Epoch 50 ---\n",
      "\tCross Entropy Loss (Training) : 40.58842521905899 \n",
      "\tTrain Accuracy : 76.37 % \n",
      "\tTest Accuracy : 52.31 % \n",
      "--- Epoch 51 ---\n",
      "\tCross Entropy Loss (Training) : 40.60351490974426 \n",
      "\tTrain Accuracy : 77.30 % \n",
      "\tTest Accuracy : 51.85 % \n",
      "--- Epoch 52 ---\n",
      "\tCross Entropy Loss (Training) : 40.33472102880478 \n",
      "\tTrain Accuracy : 75.51 % \n",
      "\tTest Accuracy : 49.38 % \n",
      "--- Epoch 53 ---\n",
      "\tCross Entropy Loss (Training) : 40.26372528076172 \n",
      "\tTrain Accuracy : 77.09 % \n",
      "\tTest Accuracy : 51.54 % \n",
      "--- Epoch 54 ---\n",
      "\tCross Entropy Loss (Training) : 40.041502594947815 \n",
      "\tTrain Accuracy : 76.15 % \n",
      "\tTest Accuracy : 54.08 % \n",
      "--- Epoch 55 ---\n",
      "\tCross Entropy Loss (Training) : 39.930407643318176 \n",
      "\tTrain Accuracy : 76.76 % \n",
      "\tTest Accuracy : 51.77 % \n",
      "--- Epoch 56 ---\n",
      "\tCross Entropy Loss (Training) : 39.76926100254059 \n",
      "\tTrain Accuracy : 76.26 % \n",
      "\tTest Accuracy : 53.54 % \n",
      "--- Epoch 57 ---\n",
      "\tCross Entropy Loss (Training) : 39.52588593959808 \n",
      "\tTrain Accuracy : 77.24 % \n",
      "\tTest Accuracy : 54.00 % \n",
      "--- Epoch 58 ---\n",
      "\tCross Entropy Loss (Training) : 39.546771466732025 \n",
      "\tTrain Accuracy : 76.65 % \n",
      "\tTest Accuracy : 53.54 % \n",
      "--- Epoch 59 ---\n",
      "\tCross Entropy Loss (Training) : 39.66695559024811 \n",
      "\tTrain Accuracy : 77.58 % \n",
      "\tTest Accuracy : 54.62 % \n",
      "--- Epoch 60 ---\n",
      "\tCross Entropy Loss (Training) : 39.65230345726013 \n",
      "\tTrain Accuracy : 79.02 % \n",
      "\tTest Accuracy : 54.77 % \n",
      "--- Epoch 61 ---\n",
      "\tCross Entropy Loss (Training) : 39.45664703845978 \n",
      "\tTrain Accuracy : 79.33 % \n",
      "\tTest Accuracy : 53.77 % \n",
      "--- Epoch 62 ---\n",
      "\tCross Entropy Loss (Training) : 39.36826854944229 \n",
      "\tTrain Accuracy : 79.83 % \n",
      "\tTest Accuracy : 53.15 % \n",
      "--- Epoch 63 ---\n",
      "\tCross Entropy Loss (Training) : 38.9595582485199 \n",
      "\tTrain Accuracy : 80.45 % \n",
      "\tTest Accuracy : 53.08 % \n",
      "--- Epoch 64 ---\n",
      "\tCross Entropy Loss (Training) : 38.73846757411957 \n",
      "\tTrain Accuracy : 80.16 % \n",
      "\tTest Accuracy : 53.62 % \n",
      "--- Epoch 65 ---\n",
      "\tCross Entropy Loss (Training) : 38.721197962760925 \n",
      "\tTrain Accuracy : 79.94 % \n",
      "\tTest Accuracy : 53.77 % \n",
      "--- Epoch 66 ---\n",
      "\tCross Entropy Loss (Training) : 38.96709352731705 \n",
      "\tTrain Accuracy : 78.50 % \n",
      "\tTest Accuracy : 55.54 % \n",
      "--- Epoch 67 ---\n",
      "\tCross Entropy Loss (Training) : 39.135730147361755 \n",
      "\tTrain Accuracy : 81.33 % \n",
      "\tTest Accuracy : 51.92 % \n",
      "--- Epoch 68 ---\n"
     ]
    },
    {
     "name": "stdout",
     "output_type": "stream",
     "text": [
      "\tCross Entropy Loss (Training) : 38.510271310806274 \n",
      "\tTrain Accuracy : 80.78 % \n",
      "\tTest Accuracy : 52.69 % \n",
      "--- Epoch 69 ---\n",
      "\tCross Entropy Loss (Training) : 38.33208191394806 \n",
      "\tTrain Accuracy : 80.78 % \n",
      "\tTest Accuracy : 53.38 % \n",
      "--- Epoch 70 ---\n",
      "\tCross Entropy Loss (Training) : 38.452551901340485 \n",
      "\tTrain Accuracy : 81.58 % \n",
      "\tTest Accuracy : 53.69 % \n"
     ]
    }
   ],
   "source": [
    "model = myLSTM(X_train.shape[2],hidd_dim=100)\n",
    "loss_fn = nn.CrossEntropyLoss()\n",
    "optimizer = torch.optim.Adam(model.parameters())\n",
    "batch_size = 512\n",
    "epochs = 70\n",
    "train_loss = []\n",
    "test_acc = []\n",
    "train_acc = []\n",
    "test_loss = []\n",
    "\n",
    "for i in range(epochs):\n",
    "    print(\"--- Epoch {} ---\".format(i+1))\n",
    "    epoch_loss = train(model, X_train, y_train, loss_fn, optimizer, batch_size)\n",
    "    train_loss.append(epoch_loss)\n",
    "    print(\"\\tCross Entropy Loss (Training) : {} \".format(epoch_loss))\n",
    "\n",
    "    acc, _, __ = test(model, X_train, y_train, batchsize=X_train.shape[0])\n",
    "    print(\"\\tTrain Accuracy : {:.2f} % \".format(acc))\n",
    "    train_acc.append(acc)\n",
    "    \n",
    "    acc, _, tst_loss = test(model, X_test, y_test, batchsize=X_test.shape[0])\n",
    "    print(\"\\tTest Accuracy : {:.2f} % \".format(acc))\n",
    "    test_acc.append(acc)\n",
    "    test_loss.append(tst_loss)\n"
   ]
  },
  {
   "cell_type": "code",
   "execution_count": 14,
   "metadata": {},
   "outputs": [
    {
     "data": {
      "image/png": "[encoded data removed]",
      "text/plain": [
       "<Figure size 504x504 with 1 Axes>"
      ]
     },
     "metadata": {
      "needs_background": "light"
     },
     "output_type": "display_data"
    }
   ],
   "source": [
    "plt.figure(figsize=(7,7))\n",
    "plt.plot(range(epochs), train_loss, label=\"train loss\")\n",
    "plt.xlabel(\"epochs\")\n",
    "plt.ylabel(\"loss\")\n",
    "plt.title(\"Loss vs epochs\")\n",
    "plt.legend(loc=\"best\")\n",
    "plt.show()"
   ]
  },
  {
   "cell_type": "code",
   "execution_count": 15,
   "metadata": {},
   "outputs": [
    {
     "data": {
      "image/png": "[encoded data removed]",
      "text/plain": [
       "<Figure size 504x504 with 1 Axes>"
      ]
     },
     "metadata": {
      "needs_background": "light"
     },
     "output_type": "display_data"
    }
   ],
   "source": [
    "plt.figure(figsize=(7,7))\n",
    "plt.plot(range(epochs), test_loss, label=\"test loss\")\n",
    "plt.xlabel(\"epochs\")\n",
    "plt.ylabel(\"loss\")\n",
    "plt.title(\"Loss vs epochs\")\n",
    "plt.legend(loc=\"best\")\n",
    "plt.show()"
   ]
  },
  {
   "cell_type": "code",
   "execution_count": 16,
   "metadata": {},
   "outputs": [
    {
     "data": {
      "image/png": "[encoded data removed]",
      "text/plain": [
       "<Figure size 504x504 with 1 Axes>"
      ]
     },
     "metadata": {
      "needs_background": "light"
     },
     "output_type": "display_data"
    }
   ],
   "source": [
    "plt.figure(figsize=(7,7))\n",
    "plt.plot(range(epochs), train_acc, label=\"train accuracy\")\n",
    "plt.plot(range(epochs), test_acc, label=\"test accuracy\")\n",
    "plt.xlabel(\"epochs\")\n",
    "plt.ylabel(\"acc\")\n",
    "plt.title(\"Accuracy vs Epochs\")\n",
    "plt.legend(loc=\"best\")\n",
    "plt.show()"
   ]
  },
  {
   "cell_type": "code",
   "execution_count": null,
   "metadata": {},
   "outputs": [],
   "source": []
  },
  {
   "cell_type": "code",
   "execution_count": 17,
   "metadata": {},
   "outputs": [
    {
     "name": "stdout",
     "output_type": "stream",
     "text": [
      "Test Accuracy : 52.92 % \n",
      "Test Class-wise F1 Score : \n",
      "[0.40735502 0.48       0.61111111]\n"
     ]
    }
   ],
   "source": [
    "acc, f1, _ = test(model, X_test, y_test, batchsize=X_test.shape[0])\n",
    "print(\"Test Accuracy : {:.2f} % \".format(acc))\n",
    "print(\"Test Class-wise F1 Score : \\n{}\".format(f1))"
   ]
  },
  {
   "cell_type": "code",
   "execution_count": null,
   "metadata": {},
   "outputs": [],
   "source": []
  }
 ],
 "metadata": {
  "interpreter": {
   "hash": "f3cbbd3491d2f6c98b8c3d8ad5891315a0953a3882f43d17a58845e943883b72"
  },
  "kernelspec": {
   "display_name": "Python 3",
   "language": "python",
   "name": "python3"
  },
  "language_info": {
   "codemirror_mode": {
    "name": "ipython",
    "version": 3
   },
   "file_extension": ".py",
   "mimetype": "text/x-python",
   "name": "python",
   "nbconvert_exporter": "python",
   "pygments_lexer": "ipython3",
   "version": "3.8.8"
  }
 },
 "nbformat": 4,
 "nbformat_minor": 2
}
