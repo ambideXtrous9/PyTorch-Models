{
  "cells": [
    {
      "cell_type": "markdown",
      "metadata": {
        "id": "view-in-github",
        "colab_type": "text"
      },
      "source": [
        "<a href=\"https://colab.research.google.com/github/ambideXtrous9/PyTorch-Models/blob/main/BIAS_LSTM_PYTORCH_LIGHTNING.ipynb\" target=\"_parent\"><img src=\"https://colab.research.google.com/assets/colab-badge.svg\" alt=\"Open In Colab\"/></a>"
      ]
    },
    {
      "cell_type": "code",
      "execution_count": null,
      "metadata": {
        "id": "mSSyiM7OlMWM",
        "outputId": "5bc8a3e5-e075-4593-b565-11aa6638d475"
      },
      "outputs": [
        {
          "name": "stderr",
          "output_type": "stream",
          "text": [
            "[nltk_data] Downloading package stopwords to\n",
            "[nltk_data]     /home/sushovan/nltk_data...\n",
            "[nltk_data]   Package stopwords is already up-to-date!\n"
          ]
        },
        {
          "data": {
            "text/plain": [
              "True"
            ]
          },
          "execution_count": 32,
          "metadata": {},
          "output_type": "execute_result"
        }
      ],
      "source": [
        "import numpy as np\n",
        "import pandas as pd\n",
        "from matplotlib import pyplot as plt\n",
        "import warnings\n",
        "import torch\n",
        "from torch.utils.data import DataLoader\n",
        "from torch import nn\n",
        "import torchmetrics\n",
        "import pytorch_lightning as pl\n",
        "from pytorch_lightning import Trainer\n",
        "from pytorch_lightning import seed_everything\n",
        "from pytorch_lightning.callbacks import EarlyStopping\n",
        "from pytorch_lightning import Trainer\n",
        "warnings.filterwarnings(action='ignore',category=UserWarning)\n",
        "warnings.filterwarnings(action='ignore',category=FutureWarning)\n",
        "from torch.utils.data import TensorDataset, DataLoader\n",
        "from tensorflow.keras.preprocessing.sequence import pad_sequences\n",
        "from tensorflow.keras.preprocessing.text import Tokenizer\n",
        "import nltk\n",
        "from nltk.corpus import stopwords\n",
        "nltk.download('stopwords')"
      ]
    },
    {
      "cell_type": "code",
      "execution_count": null,
      "metadata": {
        "id": "uXIWsIbdlMWQ"
      },
      "outputs": [],
      "source": [
        "glove_path = 'glove.6B.100d.txt'"
      ]
    },
    {
      "cell_type": "code",
      "execution_count": null,
      "metadata": {
        "id": "ApZ3rdk7lMWS"
      },
      "outputs": [],
      "source": [
        "def Sentence2Vec(filename,glovepath,embedding_dim = 100,max_length = 120):\n",
        "    df_train = pd.read_excel(filename)\n",
        "    T1 = df_train['content_original'].str.split(' \\n\\n---\\n\\n').str[0]\n",
        "    df_train['content_original'] = T1.str.replace('-',' ').str.replace('[^\\w\\s]','').str.replace('\\n',' ').str.lower()\n",
        "    df = df_train[['content_original','source','bias_text','bias']]\n",
        "    T = df['content_original']\n",
        "    stop = stopwords.words('english')\n",
        "    T = T.apply(lambda words: ' '.join(word.lower() for word in words.split() if word not in stop))\n",
        "    path = glovepath\n",
        "    tokenizer = Tokenizer()\n",
        "    text=T\n",
        "    tokenizer.fit_on_texts(text)\n",
        "    word_index=tokenizer.word_index\n",
        "    print(\"number of word in vocabulary\",len(word_index))\n",
        "    vocab_size = 5000\n",
        "    trunc_type = 'post'\n",
        "    oov_tok = '<OOV>'\n",
        "    padding_type = 'post'\n",
        "    #print(\"words in vocab\",word_index)\n",
        "    text_sequence=tokenizer.texts_to_sequences(text)\n",
        "    text_sequence = pad_sequences(text_sequence, maxlen=max_length, truncating=trunc_type)\n",
        "    print(\"word in sentences are replaced with word ID\",text_sequence)\n",
        "    size_of_vocabulary=len(tokenizer.word_index) + 1\n",
        "    print(\"The size of vocabulary \",size_of_vocabulary)\n",
        "    embeddings_index = dict()\n",
        "\n",
        "    f = open(path)\n",
        "    for line in f:\n",
        "        values = line.split()\n",
        "        word = values[0]\n",
        "        coefs = np.asarray(values[1:], dtype='float32')\n",
        "        embeddings_index[word] = coefs\n",
        "\n",
        "    f.close()\n",
        "    print('Loaded %s word vectors.' % len(embeddings_index))\n",
        "\n",
        "    embedding_matrix = np.zeros((size_of_vocabulary, embedding_dim))\n",
        "\n",
        "    for word, i in tokenizer.word_index.items():\n",
        "        embedding_vector = embeddings_index.get(word)\n",
        "        if embedding_vector is not None:\n",
        "            embedding_matrix[i] = embedding_vector\n",
        "\n",
        "    text_shape = text_sequence.shape\n",
        "    X_train = np.empty((text_shape[0],text_shape[1],embedding_matrix.shape[1]))\n",
        "    for i in range(text_sequence.shape[0]):\n",
        "        for j in range(text_sequence.shape[1]):\n",
        "            X_train[i,j,:] = embedding_matrix[text_sequence[i][j]]\n",
        "    print(X_train.shape)\n",
        "\n",
        "    y_train = df['bias'].to_numpy()\n",
        "\n",
        "    return X_train,y_train\n"
      ]
    },
    {
      "cell_type": "code",
      "execution_count": null,
      "metadata": {
        "id": "Ij3a5De3lMWT",
        "outputId": "8535dd13-ae64-4d12-b1bf-a600bd3e557e"
      },
      "outputs": [
        {
          "name": "stdout",
          "output_type": "stream",
          "text": [
            "number of word in vocabulary 143699                                \n",
            "word in sentences are replaced with word ID [[   3    2   24 ...    9  114 1996]\n",
            " [9796  590 2684 ...   61 1065 3100]\n",
            " [1958 2002 7091 ... 7257 2133 1951]\n",
            " ...\n",
            " [   2  900   94 ...  156  882   19]\n",
            " [   2   58 1794 ...   57   47   84]\n",
            " [3262 3233 4319 ...  472  382 2286]]\n",
            "The size of vocabulary  143700\n",
            "Loaded 400000 word vectors.\n",
            "(26590, 120, 100)\n"
          ]
        }
      ],
      "source": [
        "X_train,y_train = Sentence2Vec(filename='Train.xlsx',glovepath=glove_path, embedding_dim=100, max_length=120)"
      ]
    },
    {
      "cell_type": "code",
      "execution_count": null,
      "metadata": {
        "id": "lV17_Yr4lMWU",
        "outputId": "782d1116-9e7c-4416-8c53-5dce61088ef8"
      },
      "outputs": [
        {
          "name": "stdout",
          "output_type": "stream",
          "text": [
            "number of word in vocabulary 37490\n",
            "word in sentences are replaced with word ID [[   15  2444  1170 ...  6866  6867   292]\n",
            " [ 1849  1254 17674 ... 10294   477   271]\n",
            " [   66  3773   922 ...   352  1242    17]\n",
            " ...\n",
            " [  252   610  3654 ...  2282  1443   403]\n",
            " [   36    49    73 ...  4708   219   997]\n",
            " [  452   312   956 ...    12   394     6]]\n",
            "The size of vocabulary  37491\n",
            "Loaded 400000 word vectors.\n",
            "(1300, 120, 100)\n"
          ]
        }
      ],
      "source": [
        "X_val,y_val = Sentence2Vec(filename='Test.xlsx',glovepath=glove_path,embedding_dim=100, max_length=120)"
      ]
    },
    {
      "cell_type": "code",
      "execution_count": null,
      "metadata": {
        "id": "L6B922tYlMWV"
      },
      "outputs": [],
      "source": [
        "BS = 16"
      ]
    },
    {
      "cell_type": "code",
      "execution_count": null,
      "metadata": {
        "id": "CNBCY795lMWV",
        "outputId": "e835b5a3-aa91-431e-889b-f1bac2d356f6"
      },
      "outputs": [
        {
          "name": "stdout",
          "output_type": "stream",
          "text": [
            "cuda\n"
          ]
        }
      ],
      "source": [
        "device = torch.device(\"cuda\") if torch.cuda.is_available() else torch.device(\"cpu\")\n",
        "print(device)"
      ]
    },
    {
      "cell_type": "code",
      "execution_count": null,
      "metadata": {
        "id": "pKbaDLEelMWW"
      },
      "outputs": [],
      "source": [
        "train_features = torch.Tensor(X_train)\n",
        "train_targets = torch.Tensor(y_train).type(torch.LongTensor)\n",
        "val_features = torch.Tensor(X_val)\n",
        "val_targets = torch.Tensor(y_val).type(torch.LongTensor)\n",
        "\n",
        "\n",
        "trainDataset = TensorDataset(train_features, train_targets)\n",
        "valDataset = TensorDataset(val_features, val_targets)"
      ]
    },
    {
      "cell_type": "code",
      "execution_count": null,
      "metadata": {
        "id": "3IYNfqwmlMWW"
      },
      "outputs": [],
      "source": [
        "class LitLSTM(pl.LightningModule):\n",
        "    def __init__(self,num_classes,dimension,hidd_dim):\n",
        "        super(LitLSTM, self).__init__()\n",
        "        \n",
        "        self.hidd_dim = hidd_dim\n",
        "        \n",
        "        self.LSTM = nn.LSTM(input_size=dimension,\n",
        "                            hidden_size=self.hidd_dim,\n",
        "                            num_layers=2,\n",
        "                            batch_first=True,\n",
        "                            bidirectional=False)\n",
        "        \n",
        "        self.model = nn.Sequential( nn.Dropout(p=0.5),\n",
        "                                    nn.ReLU(inplace=True),\n",
        "                                    nn.BatchNorm1d(self.hidd_dim),\n",
        "                                    nn.Linear(self.hidd_dim, num_classes),\n",
        "                                    nn.LogSoftmax(dim=1))\n",
        "        \n",
        "        # add metrics\n",
        "        self.train_acc = torchmetrics.Accuracy()\n",
        "        self.train_f1 = torchmetrics.F1Score(number_classes=num_classes,average=\"micro\")\n",
        "        self.val_acc = torchmetrics.Accuracy()\n",
        "        self.val_f1 = torchmetrics.F1Score(number_classes=num_classes,average=\"micro\")\n",
        "        \n",
        "    def forward(self, x):\n",
        "        h_0 = torch.tensor(torch.rand(2, BS, self.hidd_dim)).to(device)\n",
        "        c_0 = torch.tensor(torch.rand(2, BS, self.hidd_dim)).to(device)\n",
        "        out, (final_hidden_state, final_cell_state) = self.LSTM(x,(h_0,c_0))\n",
        "        out = self.model(final_hidden_state[-1])\n",
        "        return out\n",
        "\n",
        "    def training_step(self, batch, batch_idx):\n",
        "        images, labels = batch\n",
        "        # Forward pass\n",
        "        outputs = self.forward(images)\n",
        "        lossfn = nn.NLLLoss()\n",
        "        loss = lossfn(outputs, labels)\n",
        "        \n",
        "        y_pred = torch.exp(outputs)\n",
        "        #y_pred = output.data.max(1, keepdim=True)[1]\n",
        "        acc = self.train_acc(y_pred, labels)\n",
        "        f1 = self.train_f1(y_pred, labels)\n",
        "        # just accumulate\n",
        "\n",
        "        self.log(\"train_loss\", loss)\n",
        "        self.log(\"train_accuracy\", acc)\n",
        "        self.log(\"train_f1\", f1)\n",
        "        tensorboard_logs = {'train_loss': loss}\n",
        "        # use key 'log'\n",
        "        return {\"loss\": loss, 'log': tensorboard_logs}\n",
        "\n",
        "    # define what happens for testing here\n",
        "\n",
        "    def train_dataloader(self):\n",
        "        trainDataLoader = DataLoader(trainDataset, num_workers=2,batch_size=BS, shuffle=True,drop_last=True)\n",
        "\n",
        "        return trainDataLoader\n",
        "\n",
        "    def val_dataloader(self):\n",
        "        valDataLoader = DataLoader(valDataset, num_workers=2,batch_size=BS,shuffle=False,drop_last=True)\n",
        "        \n",
        "        return valDataLoader\n",
        "    \n",
        "    def validation_step(self, batch, batch_idx):\n",
        "        images, labels = batch\n",
        "        # Forward pass\n",
        "        outputs = self.forward(images)\n",
        "        lossfn = nn.NLLLoss()\n",
        "        loss = lossfn(outputs, labels)\n",
        "        \n",
        "        pred = torch.exp(outputs)\n",
        "        #pred = output.data.max(1, keepdim=True)[1]\n",
        "        self.val_acc.update(pred, labels)\n",
        "        self.val_f1.update(pred, labels)\n",
        "\n",
        "        self.log(\"val_loss\", loss)\n",
        "        return {\"val_loss\": loss}\n",
        "    \n",
        "    def training_epoch_end(self, training_step_outputs):\n",
        "        # compute metrics\n",
        "        train_accuracy = self.train_acc.compute()\n",
        "        train_f1 = self.train_f1.compute()\n",
        "        # log metrics\n",
        "        self.log(\"epoch_train_accuracy\", train_accuracy)\n",
        "        self.log(\"epoch_train_f1\", train_f1)\n",
        "        # reset all metrics\n",
        "        self.train_acc.reset()\n",
        "        self.train_f1.reset()\n",
        "        print(f\"\\ntraining accuracy: {train_accuracy:.4}, \"\\\n",
        "        f\"f1: {train_f1:.4}\")\n",
        "        \n",
        "    def validation_epoch_end(self, outputs):\n",
        "        # outputs = list of dictionaries\n",
        "        avg_loss = torch.stack([x['val_loss'] for x in outputs]).mean()\n",
        "        val_accuracy = self.val_acc.compute()\n",
        "        val_f1 = self.val_f1.compute()\n",
        "        # log metrics\n",
        "        self.log(\"val_accuracy\", val_accuracy)\n",
        "        self.log(\"val_loss\", avg_loss)\n",
        "        self.log(\"val_f1\", val_f1)\n",
        "        # reset all metrics\n",
        "        self.val_acc.reset()\n",
        "        self.val_f1.reset()\n",
        "        print(f\"\\nvalidation accuracy: {val_accuracy:.4} \"\\\n",
        "        f\"f1: {val_f1:.4}\")\n",
        "        \n",
        "        tensorboard_logs = {'avg_val_loss': avg_loss}\n",
        "        # use key 'log'\n",
        "        return {'val_loss': avg_loss, 'log': tensorboard_logs}\n",
        "    \n",
        "    \n",
        "    def configure_optimizers(self):\n",
        "        return torch.optim.Adam(self.parameters())"
      ]
    },
    {
      "cell_type": "code",
      "execution_count": null,
      "metadata": {
        "id": "L4hEqrZNlMWY",
        "outputId": "18fb83dd-6e01-444f-e663-eac86743db41"
      },
      "outputs": [
        {
          "name": "stderr",
          "output_type": "stream",
          "text": [
            "Global seed set to 123\n"
          ]
        }
      ],
      "source": [
        "# seeding for torch, numpy, stdlib random, including DataLoader workers!\n",
        "seed_everything(123, workers=True)\n",
        "\n",
        "early_stopping = EarlyStopping(\n",
        "    monitor=\"val_loss\",\n",
        "    stopping_threshold=1e-6,\n",
        "    divergence_threshold=9.0,\n",
        "    check_finite=True)"
      ]
    },
    {
      "cell_type": "code",
      "execution_count": null,
      "metadata": {
        "id": "t4_MQMv8lMWZ",
        "outputId": "9ddf322b-f121-49f0-d52c-2aab40546911"
      },
      "outputs": [
        {
          "name": "stderr",
          "output_type": "stream",
          "text": [
            "GPU available: True, used: True\n",
            "TPU available: False, using: 0 TPU cores\n",
            "IPU available: False, using: 0 IPUs\n",
            "HPU available: False, using: 0 HPUs\n",
            "LOCAL_RANK: 0 - CUDA_VISIBLE_DEVICES: [0]\n",
            "\n",
            "  | Name      | Type       | Params\n",
            "-----------------------------------------\n",
            "0 | LSTM      | LSTM       | 161 K \n",
            "1 | model     | Sequential | 503   \n",
            "2 | train_acc | Accuracy   | 0     \n",
            "3 | train_f1  | F1Score    | 0     \n",
            "4 | val_acc   | Accuracy   | 0     \n",
            "5 | val_f1    | F1Score    | 0     \n",
            "-----------------------------------------\n",
            "162 K     Trainable params\n",
            "0         Non-trainable params\n",
            "162 K     Total params\n",
            "0.648     Total estimated model params size (MB)\n"
          ]
        },
        {
          "name": "stdout",
          "output_type": "stream",
          "text": [
            "Sanity Checking DataLoader 0: 100%|██████████| 2/2 [00:00<00:00, 60.19it/s]\n",
            "validation accuracy: 0.5625 f1: 0.5625\n",
            "Epoch 0: 100%|██████████| 1742/1742 [00:44<00:00, 38.89it/s, loss=1.09, v_num=3]\n",
            "validation accuracy: 0.348 f1: 0.348\n",
            "Epoch 0: 100%|██████████| 1742/1742 [00:44<00:00, 38.89it/s, loss=1.09, v_num=3]\n",
            "training accuracy: 0.3778, f1: 0.3778\n",
            "Epoch 1: 100%|██████████| 1742/1742 [00:45<00:00, 38.53it/s, loss=1.09, v_num=3]\n",
            "validation accuracy: 0.3997 f1: 0.3997\n",
            "Epoch 1: 100%|██████████| 1742/1742 [00:45<00:00, 38.52it/s, loss=1.09, v_num=3]\n",
            "training accuracy: 0.3885, f1: 0.3885\n",
            "Epoch 2: 100%|██████████| 1742/1742 [00:44<00:00, 39.07it/s, loss=0.989, v_num=3]\n",
            "validation accuracy: 0.4552 f1: 0.4552\n",
            "Epoch 2: 100%|██████████| 1742/1742 [00:44<00:00, 39.06it/s, loss=0.989, v_num=3]\n",
            "training accuracy: 0.4144, f1: 0.4144\n",
            "Epoch 3: 100%|██████████| 1742/1742 [00:46<00:00, 37.65it/s, loss=0.861, v_num=3]\n",
            "validation accuracy: 0.4792 f1: 0.4792\n",
            "Epoch 3: 100%|██████████| 1742/1742 [00:46<00:00, 37.64it/s, loss=0.861, v_num=3]\n",
            "training accuracy: 0.6049, f1: 0.6049\n",
            "Epoch 4: 100%|██████████| 1742/1742 [00:46<00:00, 37.53it/s, loss=0.677, v_num=3]\n",
            "validation accuracy: 0.4838 f1: 0.4838\n",
            "Epoch 4: 100%|██████████| 1742/1742 [00:46<00:00, 37.52it/s, loss=0.677, v_num=3]\n",
            "training accuracy: 0.7236, f1: 0.7236\n",
            "Epoch 5: 100%|██████████| 1742/1742 [00:45<00:00, 38.04it/s, loss=0.566, v_num=3]\n",
            "validation accuracy: 0.4298 f1: 0.4298\n",
            "Epoch 5: 100%|██████████| 1742/1742 [00:45<00:00, 38.03it/s, loss=0.566, v_num=3]\n",
            "training accuracy: 0.7584, f1: 0.7584\n",
            "Epoch 6: 100%|██████████| 1742/1742 [00:46<00:00, 37.58it/s, loss=0.557, v_num=3]\n",
            "validation accuracy: 0.5123 f1: 0.5123\n",
            "Epoch 6: 100%|██████████| 1742/1742 [00:46<00:00, 37.57it/s, loss=0.557, v_num=3]\n",
            "training accuracy: 0.7818, f1: 0.7818\n",
            "Epoch 6: 100%|██████████| 1742/1742 [00:46<00:00, 37.52it/s, loss=0.557, v_num=3]\n"
          ]
        }
      ],
      "source": [
        "model = LitLSTM(dimension=X_train.shape[2],hidd_dim=100,num_classes=3)\n",
        "trainer = Trainer(accelerator='gpu',devices=1,max_epochs=100,log_every_n_steps=8,callbacks=[early_stopping])\n",
        "trainer.fit(model)"
      ]
    },
    {
      "cell_type": "code",
      "execution_count": null,
      "metadata": {
        "id": "sAT-RzxRlMWZ",
        "outputId": "a48eada9-2d0b-4ebe-f3d1-6f60b9e73f3a"
      },
      "outputs": [
        {
          "name": "stderr",
          "output_type": "stream",
          "text": [
            "UsageError: Line magic function `%tensorboard` not found.\n"
          ]
        }
      ],
      "source": [
        "%tensorboard --logdir lightning_logs"
      ]
    },
    {
      "cell_type": "code",
      "execution_count": null,
      "metadata": {
        "id": "byn_ZUKAlMWZ"
      },
      "outputs": [],
      "source": [
        ""
      ]
    }
  ],
  "metadata": {
    "interpreter": {
      "hash": "7e4094247810bc97f6c5d58c46edca315063fc3f47271162b3e534ca72a241a8"
    },
    "kernelspec": {
      "display_name": "Python 3.9.7 ('base')",
      "language": "python",
      "name": "python3"
    },
    "language_info": {
      "codemirror_mode": {
        "name": "ipython",
        "version": 3
      },
      "file_extension": ".py",
      "mimetype": "text/x-python",
      "name": "python",
      "nbconvert_exporter": "python",
      "pygments_lexer": "ipython3",
      "version": "3.9.7"
    },
    "orig_nbformat": 4,
    "colab": {
      "name": "BIAS_LSTM_PYTORCH-LIGHTNING.ipynb",
      "provenance": [],
      "include_colab_link": true
    }
  },
  "nbformat": 4,
  "nbformat_minor": 0
}