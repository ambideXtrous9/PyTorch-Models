{
  "nbformat": 4,
  "nbformat_minor": 0,
  "metadata": {
    "colab": {
      "provenance": [],
      "collapsed_sections": [
        "Rg0QOZrPCsmX",
        "hALSC3BcpVIN",
        "UgnXdnq71bsg"
      ]
    },
    "kernelspec": {
      "name": "python3",
      "display_name": "Python 3"
    },
    "language_info": {
      "name": "python"
    }
  },
  "cells": [
    {
      "cell_type": "markdown",
      "source": [
        "# **Class :** A class is a user-defined ***blueprint*** or ***prototype*** from which ***objects*** are created.\n",
        "\n",
        "\n",
        "<center> <img src = \"https://www.learnbyexample.org/wp-content/uploads/python/Class-Object-Illustration.png\"/></center>\n",
        "\n",
        "\n"
      ],
      "metadata": {
        "id": "MwC6D8Zj9413"
      }
    },
    {
      "cell_type": "markdown",
      "source": [
        "# 1. How can we create a class ?\n",
        "\n",
        "## Template :\n",
        "\n",
        "Define Class:\n",
        "```python\n",
        "class ClassName:\n",
        "  pass\n",
        "```\n",
        "Create Object:\n",
        "\n",
        "```python\n",
        "objName = ClassName()\n",
        "```"
      ],
      "metadata": {
        "id": "xOiMZ-WiBZI_"
      }
    },
    {
      "cell_type": "code",
      "source": [
        "class Car:\n",
        "  pass"
      ],
      "metadata": {
        "id": "8XNLXGiZBYPt"
      },
      "execution_count": 1,
      "outputs": []
    },
    {
      "cell_type": "code",
      "execution_count": 4,
      "metadata": {
        "id": "Czg4ctt_9f-W"
      },
      "outputs": [],
      "source": [
        "honda = Car()"
      ]
    },
    {
      "cell_type": "markdown",
      "source": [
        "# **Properties of Class:**\n",
        "\n",
        "\n",
        "*   **Atrributes** -> Variables\n",
        "*   **Behaviour**  -> Methods or Member Functions\n",
        "\n",
        "These 2 things describes a particular class"
      ],
      "metadata": {
        "id": "Rg0QOZrPCsmX"
      }
    },
    {
      "cell_type": "markdown",
      "source": [
        "<left> <img src = \"https://arjunsalyan.com/images/posts/oops-methods-attr.png\"/></left>"
      ],
      "metadata": {
        "id": "b6WGmkWt9inW"
      }
    },
    {
      "cell_type": "code",
      "source": [
        "honda.name = \"City\"\n",
        "honda.mileage = 19.4\n",
        "honda.ctype = \"Sedan\" "
      ],
      "metadata": {
        "id": "JMBoNjHdDTV_"
      },
      "execution_count": 5,
      "outputs": []
    },
    {
      "cell_type": "markdown",
      "source": [
        "# Is this the correct way to add attributes ?\n",
        "## - No, because we want these properties and functionalities to be present inside the class.\n",
        "\n",
        "## - So that when an object is created, they already have these.   \n",
        "\n",
        "# So what we need for that ?\n",
        "# **Constructor**\n",
        "\n",
        "*  __init__() : this is called **constructor** function. when an object is created then this function is called.\n",
        "\n",
        "\n"
      ],
      "metadata": {
        "id": "8QMR_egvGr4G"
      }
    },
    {
      "cell_type": "code",
      "source": [
        "class Car:\n",
        "  def __init__(self):\n",
        "    print(\"Default Constructor is Called\")\n",
        "  "
      ],
      "metadata": {
        "id": "MjBr13bWQtr4"
      },
      "execution_count": 33,
      "outputs": []
    },
    {
      "cell_type": "code",
      "source": [
        "honda = Car()"
      ],
      "metadata": {
        "colab": {
          "base_uri": "https://localhost:8080/"
        },
        "id": "dsLP3raBa7S0",
        "outputId": "624980bd-c2a9-46ea-90d0-effd4036b7fe"
      },
      "execution_count": 34,
      "outputs": [
        {
          "output_type": "stream",
          "name": "stdout",
          "text": [
            "Default Constructor is Called\n"
          ]
        }
      ]
    },
    {
      "cell_type": "markdown",
      "source": [
        "## ***self***\n",
        "*   self stores the **address of the current object**\n"
      ],
      "metadata": {
        "id": "c5IWRlwYQn-T"
      }
    },
    {
      "cell_type": "code",
      "source": [
        "class Car:\n",
        "  def __init__(self):\n",
        "    print(self)"
      ],
      "metadata": {
        "id": "0QOxSbw-OfOp"
      },
      "execution_count": 68,
      "outputs": []
    },
    {
      "cell_type": "code",
      "source": [
        "honda = Car()"
      ],
      "metadata": {
        "colab": {
          "base_uri": "https://localhost:8080/"
        },
        "id": "ZaBwHYzYTJWG",
        "outputId": "cf930ec3-f9c8-4afd-d3c5-ff828f39a0d3"
      },
      "execution_count": 69,
      "outputs": [
        {
          "output_type": "stream",
          "name": "stdout",
          "text": [
            "<__main__.Car object at 0x7f8d261a0310>\n"
          ]
        }
      ]
    },
    {
      "cell_type": "code",
      "source": [
        "print(honda)"
      ],
      "metadata": {
        "colab": {
          "base_uri": "https://localhost:8080/"
        },
        "id": "9EPf8fN_TSBY",
        "outputId": "452b66b2-8e5b-40fa-9dc4-e4a67185d9f3"
      },
      "execution_count": 70,
      "outputs": [
        {
          "output_type": "stream",
          "name": "stdout",
          "text": [
            "<__main__.Car object at 0x7f8d261a0310>\n"
          ]
        }
      ]
    },
    {
      "cell_type": "markdown",
      "source": [
        "## ***__init__()***\n",
        "\n",
        "* if we do not create our own constructor, there is a **Default Constructor** which will be called. It does not take any argument.\n",
        "* we create our own constructor(**User Defined**) having multiple arguments. It is called ***Parameterized Constructor***\n",
        "* If we create our own constructor then Default constructor got replaced.\n",
        "\n",
        "\n"
      ],
      "metadata": {
        "id": "-5JNCEOlKzT2"
      }
    },
    {
      "cell_type": "code",
      "source": [
        "class Car:\n",
        "  def __init__(self,brand,name,mile,types):\n",
        "    self.brand = brand\n",
        "    self.model = name\n",
        "    self.mile = mile\n",
        "    self.types = types\n",
        "    \n",
        "  def showCar(self):\n",
        "    print(\"Brand = \",self.brand)\n",
        "    print(\"Model = \",self.model)\n",
        "    print(\"Mileage = \",self.mile)\n",
        "    print(\"Type = \",self.types)"
      ],
      "metadata": {
        "id": "uvRIGxJns9VQ"
      },
      "execution_count": 40,
      "outputs": []
    },
    {
      "cell_type": "code",
      "source": [
        "honda = Car()"
      ],
      "metadata": {
        "colab": {
          "base_uri": "https://localhost:8080/",
          "height": 166
        },
        "id": "QLVQRx2HQzWi",
        "outputId": "5a07ea7b-af3c-4a32-9291-93184784fc45"
      },
      "execution_count": 41,
      "outputs": [
        {
          "output_type": "error",
          "ename": "TypeError",
          "evalue": "ignored",
          "traceback": [
            "\u001b[0;31m---------------------------------------------------------------------------\u001b[0m",
            "\u001b[0;31mTypeError\u001b[0m                                 Traceback (most recent call last)",
            "\u001b[0;32m<ipython-input-41-c7d32a28a7b5>\u001b[0m in \u001b[0;36m<module>\u001b[0;34m\u001b[0m\n\u001b[0;32m----> 1\u001b[0;31m \u001b[0mhonda\u001b[0m \u001b[0;34m=\u001b[0m \u001b[0mCar\u001b[0m\u001b[0;34m(\u001b[0m\u001b[0;34m)\u001b[0m\u001b[0;34m\u001b[0m\u001b[0;34m\u001b[0m\u001b[0m\n\u001b[0m",
            "\u001b[0;31mTypeError\u001b[0m: __init__() missing 4 required positional arguments: 'brand', 'name', 'mile', and 'types'"
          ]
        }
      ]
    },
    {
      "cell_type": "code",
      "source": [
        "honda = Car('Honda','City',18,'Sedan')"
      ],
      "metadata": {
        "id": "TNaA2HRWtTd4"
      },
      "execution_count": 42,
      "outputs": []
    },
    {
      "cell_type": "code",
      "source": [
        "honda.showCar()"
      ],
      "metadata": {
        "colab": {
          "base_uri": "https://localhost:8080/"
        },
        "id": "LckWQUHutVZ6",
        "outputId": "9b028d1d-661a-4fce-93bf-7cfcd5802f7d"
      },
      "execution_count": 43,
      "outputs": [
        {
          "output_type": "stream",
          "name": "stdout",
          "text": [
            "Brand =  Honda\n",
            "Model =  City\n",
            "Mileage =  18\n",
            "Type =  Sedan\n"
          ]
        }
      ]
    },
    {
      "cell_type": "markdown",
      "source": [
        "# **Accessor and Mutator**\n",
        "\n",
        "\n",
        "## Methods that are used to get and set the attribute values\n",
        "\n",
        "*   **Accessor** -> Getter\n",
        "*   **Mutator**  -> Setter\n",
        "\n"
      ],
      "metadata": {
        "id": "hALSC3BcpVIN"
      }
    },
    {
      "cell_type": "code",
      "source": [
        "class Car:\n",
        "    \n",
        "  brand = None\n",
        "  model = None\n",
        "  mile = None\n",
        "  types = None\n",
        "\n",
        "  def __init__(self):\n",
        "    print(\"Constructor Called\")\n",
        "\n",
        "  def setBrand(self,brand):\n",
        "    self.brand = brand\n",
        "  \n",
        "  def setModel(self,model):\n",
        "    self.model = model\n",
        "  \n",
        "  def setMile(self,mile):\n",
        "    self.mile = mile\n",
        "\n",
        "  def setType(self,types):\n",
        "    self.types = types\n",
        "\n",
        "  def getBrand(self):\n",
        "    print(\"Brand = \",self.brand)\n",
        "  \n",
        "  def getModel(self):\n",
        "    print(\"Model = \",self.model)\n",
        "  \n",
        "  def getMile(self):\n",
        "    print(\"Mileage = \",self.mile)\n",
        "\n",
        "  def getType(self):\n",
        "    print(\"Type = \",self.types)"
      ],
      "metadata": {
        "id": "9i0fDYNTqNym"
      },
      "execution_count": 105,
      "outputs": []
    },
    {
      "cell_type": "code",
      "source": [
        "honda = Car()"
      ],
      "metadata": {
        "colab": {
          "base_uri": "https://localhost:8080/"
        },
        "id": "BJjKlTcksARE",
        "outputId": "c4973046-bf05-4429-c135-54f028f6267c"
      },
      "execution_count": 106,
      "outputs": [
        {
          "output_type": "stream",
          "name": "stdout",
          "text": [
            "Constructor Called\n"
          ]
        }
      ]
    },
    {
      "cell_type": "code",
      "source": [
        "honda.getModel()"
      ],
      "metadata": {
        "colab": {
          "base_uri": "https://localhost:8080/"
        },
        "id": "1JdXS-qqtynj",
        "outputId": "c03f8a47-fa0f-419e-97a4-adad1c228898"
      },
      "execution_count": 107,
      "outputs": [
        {
          "output_type": "stream",
          "name": "stdout",
          "text": [
            "Model =  None\n"
          ]
        }
      ]
    },
    {
      "cell_type": "code",
      "source": [
        "honda.setModel('Jazz')"
      ],
      "metadata": {
        "id": "teSov7YJt7GQ"
      },
      "execution_count": 108,
      "outputs": []
    },
    {
      "cell_type": "code",
      "source": [
        "honda.getModel()"
      ],
      "metadata": {
        "colab": {
          "base_uri": "https://localhost:8080/"
        },
        "id": "XMAHf4DruKEL",
        "outputId": "bbe1c443-48b2-4193-c74b-6484f10e90dc"
      },
      "execution_count": 109,
      "outputs": [
        {
          "output_type": "stream",
          "name": "stdout",
          "text": [
            "Model =  Jazz\n"
          ]
        }
      ]
    },
    {
      "cell_type": "markdown",
      "source": [
        "# **Default Parameters and Assert**\n",
        "\n",
        "## Default Parameters\n",
        "\n"
      ],
      "metadata": {
        "id": "UgnXdnq71bsg"
      }
    },
    {
      "cell_type": "code",
      "source": [
        "class Car:\n",
        "  def __init__(self,brand,name,mile,types,cyl=4):\n",
        "    self.brand = brand\n",
        "    self.model = name\n",
        "    self.mile = mile\n",
        "    self.types = types\n",
        "    self.cyl = cyl\n",
        "    \n",
        "  def showCar(self):\n",
        "    print(\"Brand = \",self.brand)\n",
        "    print(\"Model = \",self.model)\n",
        "    print(\"Mileage = \",self.mile)\n",
        "    print(\"Type = \",self.types)\n",
        "    print(\"Cylinder = \",self.cyl)\n",
        "  \n",
        "  def fuelCost(self):\n",
        "    print(\"Fuel Cost = \",self.mile*100) "
      ],
      "metadata": {
        "id": "luI2GTss1jzj"
      },
      "execution_count": 94,
      "outputs": []
    },
    {
      "cell_type": "code",
      "source": [
        "honda = Car('Honda',\"City\",18,'Sedan')"
      ],
      "metadata": {
        "id": "NHBPsdp32K-Y"
      },
      "execution_count": 95,
      "outputs": []
    },
    {
      "cell_type": "code",
      "source": [
        "honda.showCar()"
      ],
      "metadata": {
        "colab": {
          "base_uri": "https://localhost:8080/"
        },
        "id": "CyTDB9hx3zij",
        "outputId": "28433ac8-b44d-4836-fc76-f1d980e309e7"
      },
      "execution_count": 96,
      "outputs": [
        {
          "output_type": "stream",
          "name": "stdout",
          "text": [
            "Brand =  Honda\n",
            "Model =  City\n",
            "Mileage =  18\n",
            "Type =  Sedan\n",
            "Cylinder =  4\n"
          ]
        }
      ]
    },
    {
      "cell_type": "code",
      "source": [
        "abc = Car('Honda','City',15.62,'Sedan',3)"
      ],
      "metadata": {
        "id": "-d661HuN2Tt1"
      },
      "execution_count": 99,
      "outputs": []
    },
    {
      "cell_type": "code",
      "source": [
        "abc.fuelCost()"
      ],
      "metadata": {
        "colab": {
          "base_uri": "https://localhost:8080/"
        },
        "id": "eKIRMbxL2W0a",
        "outputId": "e658d313-b69c-45f5-e8a6-28f82c006553"
      },
      "execution_count": 98,
      "outputs": [
        {
          "output_type": "stream",
          "name": "stdout",
          "text": [
            "Fuel Cost =  1560.0\n"
          ]
        }
      ]
    },
    {
      "cell_type": "code",
      "source": [
        "abc.showCar()"
      ],
      "metadata": {
        "colab": {
          "base_uri": "https://localhost:8080/"
        },
        "id": "t_bPs6LE3RML",
        "outputId": "aeee30a1-ab7a-4e82-e233-fd03419170ff"
      },
      "execution_count": 100,
      "outputs": [
        {
          "output_type": "stream",
          "name": "stdout",
          "text": [
            "Brand =  Honda\n",
            "Model =  City\n",
            "Mileage =  15.62\n",
            "Type =  Sedan\n",
            "Cylinder =  3\n"
          ]
        }
      ]
    },
    {
      "cell_type": "markdown",
      "source": [
        "## Assert"
      ],
      "metadata": {
        "id": "PiRc7hsd43YN"
      }
    },
    {
      "cell_type": "code",
      "source": [
        "class Car:\n",
        "  def __init__(self,brand,name,mile,types,cyl):\n",
        "    \n",
        "    assert mile > 10, f\"Mileage must be more than 10 kmpl\" \n",
        "    assert cyl > 2 , f\"No.of Cylinder must be greater than\"\n",
        "\n",
        "    self.brand = brand\n",
        "    self.model = name\n",
        "    self.mile = mile\n",
        "    self.types = types\n",
        "    self.cyl = cyl\n",
        "    \n",
        "  def showCar(self):\n",
        "    print(\"Brand = \",self.brand)\n",
        "    print(\"Model = \",self.model)\n",
        "    print(\"Mileage = \",self.mile)\n",
        "    print(\"Type = \",self.types)\n",
        "    print(\"Cylinder = \",self.cyl)\n",
        "  \n",
        "  def fuelCost(self):\n",
        "    print(\"Fuel Cost = \",self.mile*100) "
      ],
      "metadata": {
        "id": "zKl7OJR34z1d"
      },
      "execution_count": 103,
      "outputs": []
    },
    {
      "cell_type": "code",
      "source": [
        "abc = Car('Honda','City',9,'Sedan',2)"
      ],
      "metadata": {
        "colab": {
          "base_uri": "https://localhost:8080/",
          "height": 287
        },
        "id": "toWEWHqh5hXQ",
        "outputId": "84838f69-40c1-4006-a59e-6bcab6bbaab1"
      },
      "execution_count": 104,
      "outputs": [
        {
          "output_type": "error",
          "ename": "AssertionError",
          "evalue": "ignored",
          "traceback": [
            "\u001b[0;31m---------------------------------------------------------------------------\u001b[0m",
            "\u001b[0;31mAssertionError\u001b[0m                            Traceback (most recent call last)",
            "\u001b[0;32m<ipython-input-104-4dd6360eb9a1>\u001b[0m in \u001b[0;36m<module>\u001b[0;34m\u001b[0m\n\u001b[0;32m----> 1\u001b[0;31m \u001b[0mabc\u001b[0m \u001b[0;34m=\u001b[0m \u001b[0mCar\u001b[0m\u001b[0;34m(\u001b[0m\u001b[0;34m'Honda'\u001b[0m\u001b[0;34m,\u001b[0m\u001b[0;34m'City'\u001b[0m\u001b[0;34m,\u001b[0m\u001b[0;36m9\u001b[0m\u001b[0;34m,\u001b[0m\u001b[0;34m'Sedan'\u001b[0m\u001b[0;34m,\u001b[0m\u001b[0;36m2\u001b[0m\u001b[0;34m)\u001b[0m\u001b[0;34m\u001b[0m\u001b[0;34m\u001b[0m\u001b[0m\n\u001b[0m",
            "\u001b[0;32m<ipython-input-103-2509c9fa06db>\u001b[0m in \u001b[0;36m__init__\u001b[0;34m(self, brand, name, mile, types, cyl)\u001b[0m\n\u001b[1;32m      2\u001b[0m   \u001b[0;32mdef\u001b[0m \u001b[0m__init__\u001b[0m\u001b[0;34m(\u001b[0m\u001b[0mself\u001b[0m\u001b[0;34m,\u001b[0m\u001b[0mbrand\u001b[0m\u001b[0;34m,\u001b[0m\u001b[0mname\u001b[0m\u001b[0;34m,\u001b[0m\u001b[0mmile\u001b[0m\u001b[0;34m,\u001b[0m\u001b[0mtypes\u001b[0m\u001b[0;34m,\u001b[0m\u001b[0mcyl\u001b[0m\u001b[0;34m)\u001b[0m\u001b[0;34m:\u001b[0m\u001b[0;34m\u001b[0m\u001b[0;34m\u001b[0m\u001b[0m\n\u001b[1;32m      3\u001b[0m \u001b[0;34m\u001b[0m\u001b[0m\n\u001b[0;32m----> 4\u001b[0;31m     \u001b[0;32massert\u001b[0m \u001b[0mmile\u001b[0m \u001b[0;34m>\u001b[0m \u001b[0;36m10\u001b[0m\u001b[0;34m,\u001b[0m \u001b[0;34mf\"Mileage must be more than 10 kmpl\"\u001b[0m\u001b[0;34m\u001b[0m\u001b[0;34m\u001b[0m\u001b[0m\n\u001b[0m\u001b[1;32m      5\u001b[0m     \u001b[0;32massert\u001b[0m \u001b[0mcyl\u001b[0m \u001b[0;34m>\u001b[0m \u001b[0;36m2\u001b[0m \u001b[0;34m,\u001b[0m \u001b[0;34mf\"No.of Cylinder must be greater than\"\u001b[0m\u001b[0;34m\u001b[0m\u001b[0;34m\u001b[0m\u001b[0m\n\u001b[1;32m      6\u001b[0m \u001b[0;34m\u001b[0m\u001b[0m\n",
            "\u001b[0;31mAssertionError\u001b[0m: Mileage must be more than 10 kmpl"
          ]
        }
      ]
    },
    {
      "cell_type": "markdown",
      "source": [
        "# **Access Modifiers**"
      ],
      "metadata": {
        "id": "-f8AkvuE7Lcb"
      }
    },
    {
      "cell_type": "markdown",
      "source": [
        "<left> <img src = \"https://scaler.com/topics/images/access-specifiers-in-python-encapsulation-1024x590.webp\"/></left>"
      ],
      "metadata": {
        "id": "DNb-kt-P9b_I"
      }
    },
    {
      "cell_type": "markdown",
      "source": [
        "## **Template**"
      ],
      "metadata": {
        "id": "kUjoE4a88iG4"
      }
    },
    {
      "cell_type": "markdown",
      "source": [
        "### Public\n",
        "\n",
        "```python\n",
        "\n",
        "class ClassName:\n",
        "  name = None  \n",
        "  roll = None\n",
        "  sec = None\n",
        "\n",
        "```\n",
        "\n",
        "or\n",
        "\n",
        "```python\n",
        "\n",
        "class ClassName:\n",
        "  def __init__(self,name,roll,sec):\n",
        "    self.name = None\n",
        "    self.roll = None\n",
        "    self.sec = None\n",
        "\n",
        "```"
      ],
      "metadata": {
        "id": "8QWQW7gN_0Zk"
      }
    },
    {
      "cell_type": "code",
      "source": [
        "class Car:\n",
        "  def __init__(self,brand,name,mile,types):\n",
        "    self.brand = brand\n",
        "    self.model = name\n",
        "    self.mile = mile\n",
        "    self.types = types\n",
        "    \n",
        "  def showCar(self):\n",
        "    print(\"Brand = \",self.brand)\n",
        "    print(\"Model = \",self.model)\n",
        "    print(\"Mileage = \",self.mile)\n",
        "    print(\"Type = \",self.types)"
      ],
      "metadata": {
        "id": "JE_iPSC8_6Uq"
      },
      "execution_count": 121,
      "outputs": []
    },
    {
      "cell_type": "code",
      "source": [
        "honda = Car('Honda','City',18,'Sedan')"
      ],
      "metadata": {
        "id": "uedW09ZWACAx"
      },
      "execution_count": 122,
      "outputs": []
    },
    {
      "cell_type": "code",
      "source": [
        "honda.showCar()"
      ],
      "metadata": {
        "colab": {
          "base_uri": "https://localhost:8080/"
        },
        "id": "xD13V5SRACxt",
        "outputId": "c8ea78ae-e8c9-4cfc-f5e2-7e47d9399ac1"
      },
      "execution_count": 123,
      "outputs": [
        {
          "output_type": "stream",
          "name": "stdout",
          "text": [
            "Brand =  Honda\n",
            "Model =  City\n",
            "Mileage =  18\n",
            "Type =  Sedan\n"
          ]
        }
      ]
    },
    {
      "cell_type": "code",
      "source": [
        "honda.model = 'Jazz'"
      ],
      "metadata": {
        "id": "MPPtOOSKAFPR"
      },
      "execution_count": 124,
      "outputs": []
    },
    {
      "cell_type": "code",
      "source": [
        "honda.showCar()"
      ],
      "metadata": {
        "colab": {
          "base_uri": "https://localhost:8080/"
        },
        "id": "8iNMwD3cAJtq",
        "outputId": "2e8d8c86-3579-4e10-ef9d-bd00e5d54795"
      },
      "execution_count": 125,
      "outputs": [
        {
          "output_type": "stream",
          "name": "stdout",
          "text": [
            "Brand =  Honda\n",
            "Model =  Jazz\n",
            "Mileage =  18\n",
            "Type =  Sedan\n"
          ]
        }
      ]
    },
    {
      "cell_type": "code",
      "source": [],
      "metadata": {
        "id": "xNf3jw3SAMMj"
      },
      "execution_count": null,
      "outputs": []
    },
    {
      "cell_type": "markdown",
      "source": [
        "### Protected\n",
        "\n",
        "To make an instance variable or method **Protected**, the convention is to prefix the name with a ***single underscore _***\n",
        "\n",
        "```python\n",
        "\n",
        "class ClassName:\n",
        "  _name = None  \n",
        "  _roll = None\n",
        "  _sec = None\n",
        "\n",
        "```\n",
        "\n",
        "or\n",
        "\n",
        "```python\n",
        "\n",
        "class ClassName:\n",
        "  def __init__(self,name,roll,sec):\n",
        "    self._name = None\n",
        "    self._roll = None\n",
        "    self._sec = None\n",
        "\n",
        "```"
      ],
      "metadata": {
        "id": "iZd_Fk6P-OXw"
      }
    },
    {
      "cell_type": "code",
      "source": [
        "class Car:\n",
        "  def __init__(self,brand,name,mile,types):\n",
        "    self._brand = brand\n",
        "    self._model = name\n",
        "    self._mile = mile\n",
        "    self._types = types\n",
        "    \n",
        "  def showCar(self):\n",
        "    print(\"Brand = \",self._brand)\n",
        "    print(\"Model = \",self._model)\n",
        "    print(\"Mileage = \",self._mile)\n",
        "    print(\"Type = \",self._types)"
      ],
      "metadata": {
        "id": "XC5LN7ml-Ya-"
      },
      "execution_count": 128,
      "outputs": []
    },
    {
      "cell_type": "code",
      "source": [
        "honda = Car('Honda','City',18,'Sedan')"
      ],
      "metadata": {
        "id": "IbWrxxk8-rvv"
      },
      "execution_count": 129,
      "outputs": []
    },
    {
      "cell_type": "code",
      "source": [
        "honda.showCar()"
      ],
      "metadata": {
        "colab": {
          "base_uri": "https://localhost:8080/"
        },
        "id": "ZzJkzrdX_K1v",
        "outputId": "2f3c5237-c15d-46ea-cf5a-7d2f08442438"
      },
      "execution_count": 130,
      "outputs": [
        {
          "output_type": "stream",
          "name": "stdout",
          "text": [
            "Brand =  Honda\n",
            "Model =  City\n",
            "Mileage =  18\n",
            "Type =  Sedan\n"
          ]
        }
      ]
    },
    {
      "cell_type": "code",
      "source": [
        "honda._mile"
      ],
      "metadata": {
        "colab": {
          "base_uri": "https://localhost:8080/"
        },
        "id": "hiwFfn61_YEQ",
        "outputId": "f17633f8-fe7c-486c-aa4b-19d2dc963ec0"
      },
      "execution_count": 131,
      "outputs": [
        {
          "output_type": "execute_result",
          "data": {
            "text/plain": [
              "18"
            ]
          },
          "metadata": {},
          "execution_count": 131
        }
      ]
    },
    {
      "cell_type": "code",
      "source": [
        "honda._mile = 20"
      ],
      "metadata": {
        "id": "CxwghZ8yAO2_"
      },
      "execution_count": 132,
      "outputs": []
    },
    {
      "cell_type": "markdown",
      "source": [
        "***What did happen here ?***\n",
        "\n",
        "**Ans** - protected: can be accessed but ***not advised***"
      ],
      "metadata": {
        "id": "VsqPZJGCBEKU"
      }
    },
    {
      "cell_type": "code",
      "source": [
        "honda.showCar()"
      ],
      "metadata": {
        "colab": {
          "base_uri": "https://localhost:8080/"
        },
        "id": "nhUPysw6ASoQ",
        "outputId": "e118fcd9-af39-436f-de55-557dfa638dae"
      },
      "execution_count": 133,
      "outputs": [
        {
          "output_type": "stream",
          "name": "stdout",
          "text": [
            "Brand =  Honda\n",
            "Model =  City\n",
            "Mileage =  20\n",
            "Type =  Sedan\n"
          ]
        }
      ]
    },
    {
      "cell_type": "markdown",
      "source": [
        "### Private\n",
        "\n",
        "To make an instance variable or method **Private**, the convention is to prefix the name with a ***double underscore __***\n",
        "\n",
        "```python\n",
        "class ClassName:\n",
        "  __name = None  \n",
        "  __roll = None\n",
        "  __sec = None\n",
        "\n",
        "```\n",
        "\n",
        "or\n",
        "\n",
        "```python\n",
        "class ClassName:\n",
        "  def __init__(self,name,roll,sec):\n",
        "    self.__name = None\n",
        "    self.__roll = None\n",
        "    self.__sec = None\n",
        "```"
      ],
      "metadata": {
        "id": "Hxb4pqZu-fgl"
      }
    },
    {
      "cell_type": "code",
      "source": [
        "class Car:\n",
        "  def __init__(self,brand,name,mile,types):\n",
        "    self.__brand = brand\n",
        "    self.__model = name\n",
        "    self.__mile = mile\n",
        "    self.__types = types\n",
        "    \n",
        "  def showCar(self):\n",
        "    print(\"Brand = \",self.__brand)\n",
        "    print(\"Model = \",self.__model)\n",
        "    print(\"Mileage = \",self.__mile)\n",
        "    print(\"Type = \",self.__types)"
      ],
      "metadata": {
        "id": "vNU8_7Wk7PCa"
      },
      "execution_count": 110,
      "outputs": []
    },
    {
      "cell_type": "code",
      "source": [
        "honda = Car('Honda','City',18,'Sedan')"
      ],
      "metadata": {
        "id": "m2YtjXZZ-C7o"
      },
      "execution_count": 111,
      "outputs": []
    },
    {
      "cell_type": "code",
      "source": [
        "honda.showCar()"
      ],
      "metadata": {
        "colab": {
          "base_uri": "https://localhost:8080/"
        },
        "id": "03fvY1xQ-E46",
        "outputId": "b23baf11-25af-488b-8e86-d0b2b417faed"
      },
      "execution_count": 112,
      "outputs": [
        {
          "output_type": "stream",
          "name": "stdout",
          "text": [
            "Brand =  Honda\n",
            "Model =  City\n",
            "Mileage =  18\n",
            "Type =  Sedan\n"
          ]
        }
      ]
    },
    {
      "cell_type": "code",
      "source": [
        "honda.__model"
      ],
      "metadata": {
        "colab": {
          "base_uri": "https://localhost:8080/",
          "height": 166
        },
        "id": "FDofZrVP_eoI",
        "outputId": "733cd5a9-e841-473c-f03a-3ed400ca2fd2"
      },
      "execution_count": 120,
      "outputs": [
        {
          "output_type": "error",
          "ename": "AttributeError",
          "evalue": "ignored",
          "traceback": [
            "\u001b[0;31m---------------------------------------------------------------------------\u001b[0m",
            "\u001b[0;31mAttributeError\u001b[0m                            Traceback (most recent call last)",
            "\u001b[0;32m<ipython-input-120-0e7b9593174c>\u001b[0m in \u001b[0;36m<module>\u001b[0;34m\u001b[0m\n\u001b[0;32m----> 1\u001b[0;31m \u001b[0mhonda\u001b[0m\u001b[0;34m.\u001b[0m\u001b[0m__model\u001b[0m\u001b[0;34m\u001b[0m\u001b[0;34m\u001b[0m\u001b[0m\n\u001b[0m",
            "\u001b[0;31mAttributeError\u001b[0m: 'Car' object has no attribute '__model'"
          ]
        }
      ]
    }
  ]
}