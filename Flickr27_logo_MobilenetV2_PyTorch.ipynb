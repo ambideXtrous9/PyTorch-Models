{
  "metadata": {
    "kernelspec": {
      "language": "python",
      "display_name": "Python 3",
      "name": "python3"
    },
    "language_info": {
      "pygments_lexer": "ipython3",
      "nbconvert_exporter": "python",
      "version": "3.6.4",
      "file_extension": ".py",
      "codemirror_mode": {
        "name": "ipython",
        "version": 3
      },
      "name": "python",
      "mimetype": "text/x-python"
    },
    "colab": {
      "name": "flickr27-logo-mobilenetv2-pytorch.ipynb",
      "provenance": [],
      "collapsed_sections": [
        "B3ZLBTZANbsZ"
      ],
      "include_colab_link": true
    },
    "accelerator": "GPU"
  },
  "nbformat_minor": 0,
  "nbformat": 4,
  "cells": [
    {
      "cell_type": "markdown",
      "metadata": {
        "id": "view-in-github",
        "colab_type": "text"
      },
      "source": [
        "<a href=\"https://colab.research.google.com/github/ambideXtrous9/PyTorch-Models/blob/main/Flickr27_logo_MobilenetV2_PyTorch.ipynb\" target=\"_parent\"><img src=\"https://colab.research.google.com/assets/colab-badge.svg\" alt=\"Open In Colab\"/></a>"
      ]
    },
    {
      "cell_type": "markdown",
      "source": [
        "## InceptionV3\n",
        "\n",
        "![iv3.jpeg](attachment:9ac594fc-7625-4e5e-b510-2942b8aef403.jpeg)"
      ],
      "metadata": {
        "id": "Gm0MunikNbsJ"
      }
    },
    {
      "cell_type": "code",
      "source": [
        "!pip install imutils\n",
        "!pip install wget\n",
        "!pip install split-folders\n",
        "\n",
        "from imutils import paths\n",
        "import pandas as pd\n",
        "import matplotlib.pyplot as plt\n",
        "import torchvision.transforms as transforms\n",
        "import torch\n",
        "from torchvision.datasets import ImageFolder\n",
        "from torch.utils.data import DataLoader\n",
        "from torchvision import transforms\n",
        "import matplotlib.pyplot as plt\n",
        "import splitfolders\n",
        "from torch import nn\n",
        "import numpy as np\n",
        "import os\n",
        "import wget\n",
        "import cv2\n",
        "import tensorflow as tf\n",
        "from tensorflow.keras.preprocessing.image import img_to_array\n",
        "from tensorflow.keras.preprocessing.image import load_img"
      ],
      "metadata": {
        "id": "gBPYtKzUraUO",
        "execution": {
          "iopub.status.busy": "2022-05-16T05:33:44.801006Z",
          "iopub.execute_input": "2022-05-16T05:33:44.80147Z",
          "iopub.status.idle": "2022-05-16T05:34:27.45775Z",
          "shell.execute_reply.started": "2022-05-16T05:33:44.801354Z",
          "shell.execute_reply": "2022-05-16T05:34:27.456917Z"
        },
        "trusted": true,
        "colab": {
          "base_uri": "https://localhost:8080/"
        },
        "outputId": "14837a2e-7538-4558-dd68-39a61712f31d"
      },
      "execution_count": 1,
      "outputs": [
        {
          "output_type": "stream",
          "name": "stdout",
          "text": [
            "Requirement already satisfied: imutils in /usr/local/lib/python3.7/dist-packages (0.5.4)\n",
            "Collecting wget\n",
            "  Downloading wget-3.2.zip (10 kB)\n",
            "Building wheels for collected packages: wget\n",
            "  Building wheel for wget (setup.py) ... \u001b[?25l\u001b[?25hdone\n",
            "  Created wheel for wget: filename=wget-3.2-py3-none-any.whl size=9675 sha256=4cdfe292f64064cd8b35e60e710070dee0616ed8cdebf9d667b31251797f4bc6\n",
            "  Stored in directory: /root/.cache/pip/wheels/a1/b6/7c/0e63e34eb06634181c63adacca38b79ff8f35c37e3c13e3c02\n",
            "Successfully built wget\n",
            "Installing collected packages: wget\n",
            "Successfully installed wget-3.2\n",
            "Collecting split-folders\n",
            "  Downloading split_folders-0.5.1-py3-none-any.whl (8.4 kB)\n",
            "Installing collected packages: split-folders\n",
            "Successfully installed split-folders-0.5.1\n"
          ]
        }
      ]
    },
    {
      "cell_type": "markdown",
      "source": [
        "## Downloading Dataset"
      ],
      "metadata": {
        "id": "Q4yx4hBZNbsO"
      }
    },
    {
      "cell_type": "code",
      "source": [
        "_URL = 'http://image.ntua.gr/iva/datasets/flickr_logos/flickr_logos_27_dataset.tar.gz'\n",
        "wget.download(_URL)"
      ],
      "metadata": {
        "id": "2w1kfnoNuvdU",
        "outputId": "0f4dcfff-e9d5-4d73-f4f4-92a6e63325ca",
        "execution": {
          "iopub.status.busy": "2022-05-16T05:34:27.459678Z",
          "iopub.execute_input": "2022-05-16T05:34:27.459938Z",
          "iopub.status.idle": "2022-05-16T05:34:55.605476Z",
          "shell.execute_reply.started": "2022-05-16T05:34:27.459902Z",
          "shell.execute_reply": "2022-05-16T05:34:55.604826Z"
        },
        "trusted": true,
        "colab": {
          "base_uri": "https://localhost:8080/",
          "height": 36
        }
      },
      "execution_count": 2,
      "outputs": [
        {
          "output_type": "execute_result",
          "data": {
            "text/plain": [
              "'flickr_logos_27_dataset.tar.gz'"
            ],
            "application/vnd.google.colaboratory.intrinsic+json": {
              "type": "string"
            }
          },
          "metadata": {},
          "execution_count": 2
        }
      ]
    },
    {
      "cell_type": "code",
      "source": [
        "!ls"
      ],
      "metadata": {
        "execution": {
          "iopub.status.busy": "2022-05-16T05:34:55.606677Z",
          "iopub.execute_input": "2022-05-16T05:34:55.606942Z",
          "iopub.status.idle": "2022-05-16T05:34:56.290043Z",
          "shell.execute_reply.started": "2022-05-16T05:34:55.606904Z",
          "shell.execute_reply": "2022-05-16T05:34:56.289205Z"
        },
        "trusted": true,
        "colab": {
          "base_uri": "https://localhost:8080/"
        },
        "id": "Md6smy1uNbsP",
        "outputId": "ffa54d10-4854-4440-e0c3-c83a050401b2"
      },
      "execution_count": 3,
      "outputs": [
        {
          "output_type": "stream",
          "name": "stdout",
          "text": [
            "flickr_logos_27_dataset.tar.gz\tsample_data\n"
          ]
        }
      ]
    },
    {
      "cell_type": "code",
      "source": [
        "zip_dir = tf.keras.utils.get_file('./logo', origin=_URL, untar=True,extract=True)"
      ],
      "metadata": {
        "execution": {
          "iopub.status.busy": "2022-05-16T05:34:56.291875Z",
          "iopub.execute_input": "2022-05-16T05:34:56.292184Z",
          "iopub.status.idle": "2022-05-16T05:35:39.722391Z",
          "shell.execute_reply.started": "2022-05-16T05:34:56.292133Z",
          "shell.execute_reply": "2022-05-16T05:35:39.721634Z"
        },
        "trusted": true,
        "colab": {
          "base_uri": "https://localhost:8080/"
        },
        "id": "foCVIWuDNbsP",
        "outputId": "70196e76-b81b-4227-cf35-6ce2c4aa6dde"
      },
      "execution_count": 4,
      "outputs": [
        {
          "output_type": "stream",
          "name": "stdout",
          "text": [
            "Downloading data from http://image.ntua.gr/iva/datasets/flickr_logos/flickr_logos_27_dataset.tar.gz\n",
            "101834752/101827904 [==============================] - 3s 0us/step\n",
            "101842944/101827904 [==============================] - 3s 0us/step\n"
          ]
        }
      ]
    },
    {
      "cell_type": "code",
      "source": [
        "import tarfile\n",
        "\n",
        "fname = 'flickr_logos_27_dataset.tar.gz'\n",
        "\n",
        "if fname.endswith(\"tar.gz\"):\n",
        "    tar = tarfile.open(fname, \"r:gz\")\n",
        "    tar.extractall()\n",
        "    tar.close()"
      ],
      "metadata": {
        "id": "pLXxWcqJ4U4S",
        "execution": {
          "iopub.status.busy": "2022-05-16T05:35:39.725002Z",
          "iopub.execute_input": "2022-05-16T05:35:39.725304Z",
          "iopub.status.idle": "2022-05-16T05:35:40.061622Z",
          "shell.execute_reply.started": "2022-05-16T05:35:39.725266Z",
          "shell.execute_reply": "2022-05-16T05:35:40.06087Z"
        },
        "trusted": true
      },
      "execution_count": 5,
      "outputs": []
    },
    {
      "cell_type": "code",
      "source": [
        "fname = 'flickr_logos_27_dataset/flickr_logos_27_dataset_images.tar.gz'\n",
        "\n",
        "if fname.endswith(\"tar.gz\"):\n",
        "    tar = tarfile.open(fname, \"r:gz\")\n",
        "    tar.extractall()\n",
        "    tar.close()"
      ],
      "metadata": {
        "id": "DSUiys0P5xj-",
        "execution": {
          "iopub.status.busy": "2022-05-16T05:35:40.063091Z",
          "iopub.execute_input": "2022-05-16T05:35:40.063395Z",
          "iopub.status.idle": "2022-05-16T05:35:40.84036Z",
          "shell.execute_reply.started": "2022-05-16T05:35:40.06335Z",
          "shell.execute_reply": "2022-05-16T05:35:40.839428Z"
        },
        "trusted": true
      },
      "execution_count": 6,
      "outputs": []
    },
    {
      "cell_type": "code",
      "source": [
        "src_dir = \"flickr_logos_27_dataset_images\"\n",
        "dest = \"LOGOS\"\n",
        "\n",
        "if not os.path.exists(dest):\n",
        "    os.makedirs(dest)"
      ],
      "metadata": {
        "id": "2T_6FRvr6ct4",
        "execution": {
          "iopub.status.busy": "2022-05-16T05:35:40.841689Z",
          "iopub.execute_input": "2022-05-16T05:35:40.842022Z",
          "iopub.status.idle": "2022-05-16T05:35:40.848994Z",
          "shell.execute_reply.started": "2022-05-16T05:35:40.84198Z",
          "shell.execute_reply": "2022-05-16T05:35:40.848281Z"
        },
        "trusted": true
      },
      "execution_count": 7,
      "outputs": []
    },
    {
      "cell_type": "markdown",
      "source": [
        "## Preprocessing"
      ],
      "metadata": {
        "id": "nlhDecnhNbsS"
      }
    },
    {
      "cell_type": "code",
      "source": [
        "import pandas as pd"
      ],
      "metadata": {
        "id": "opHoq3-LAzBw",
        "execution": {
          "iopub.status.busy": "2022-05-16T05:35:40.850223Z",
          "iopub.execute_input": "2022-05-16T05:35:40.850555Z",
          "iopub.status.idle": "2022-05-16T05:35:40.856828Z",
          "shell.execute_reply.started": "2022-05-16T05:35:40.850518Z",
          "shell.execute_reply": "2022-05-16T05:35:40.855698Z"
        },
        "trusted": true
      },
      "execution_count": 8,
      "outputs": []
    },
    {
      "cell_type": "code",
      "source": [
        "df = pd.read_csv(\"flickr_logos_27_dataset/flickr_logos_27_dataset_training_set_annotation.txt\", sep='\\s+',header=None)"
      ],
      "metadata": {
        "id": "PW6txK1lAdWm",
        "execution": {
          "iopub.status.busy": "2022-05-16T05:35:40.858122Z",
          "iopub.execute_input": "2022-05-16T05:35:40.858817Z",
          "iopub.status.idle": "2022-05-16T05:35:40.878542Z",
          "shell.execute_reply.started": "2022-05-16T05:35:40.858778Z",
          "shell.execute_reply": "2022-05-16T05:35:40.877902Z"
        },
        "trusted": true
      },
      "execution_count": 9,
      "outputs": []
    },
    {
      "cell_type": "code",
      "source": [
        "df"
      ],
      "metadata": {
        "id": "mdFg6RjkAwr7",
        "outputId": "472d88b9-0ca9-48b7-adac-ee7ca5b69e60",
        "execution": {
          "iopub.status.busy": "2022-05-16T05:35:40.879531Z",
          "iopub.execute_input": "2022-05-16T05:35:40.879764Z",
          "iopub.status.idle": "2022-05-16T05:35:40.901299Z",
          "shell.execute_reply.started": "2022-05-16T05:35:40.879731Z",
          "shell.execute_reply": "2022-05-16T05:35:40.900682Z"
        },
        "trusted": true,
        "colab": {
          "base_uri": "https://localhost:8080/",
          "height": 424
        }
      },
      "execution_count": 10,
      "outputs": [
        {
          "output_type": "execute_result",
          "data": {
            "text/plain": [
              "                   0       1  2    3    4    5    6\n",
              "0      144503924.jpg  Adidas  1   38   12  234  142\n",
              "1     2451569770.jpg  Adidas  1  242  208  413  331\n",
              "2      390321909.jpg  Adidas  1   13    5   89   60\n",
              "3     4761260517.jpg  Adidas  1   43  122  358  354\n",
              "4     4763210295.jpg  Adidas  1   83   63  130   93\n",
              "...              ...     ... ..  ...  ...  ...  ...\n",
              "4531  2126991906.jpg   Yahoo  6   15    6  253   54\n",
              "4532   217288720.jpg   Yahoo  6  136  161  304  222\n",
              "4533  2472817996.jpg   Yahoo  6    2    4  499  106\n",
              "4534  2514220918.jpg   Yahoo  6    1   69  342  157\n",
              "4535   386891249.jpg   Yahoo  6  156   10  310   49\n",
              "\n",
              "[4536 rows x 7 columns]"
            ],
            "text/html": [
              "\n",
              "  <div id=\"df-efc5966c-be79-4087-806c-1a229aeea4e1\">\n",
              "    <div class=\"colab-df-container\">\n",
              "      <div>\n",
              "<style scoped>\n",
              "    .dataframe tbody tr th:only-of-type {\n",
              "        vertical-align: middle;\n",
              "    }\n",
              "\n",
              "    .dataframe tbody tr th {\n",
              "        vertical-align: top;\n",
              "    }\n",
              "\n",
              "    .dataframe thead th {\n",
              "        text-align: right;\n",
              "    }\n",
              "</style>\n",
              "<table border=\"1\" class=\"dataframe\">\n",
              "  <thead>\n",
              "    <tr style=\"text-align: right;\">\n",
              "      <th></th>\n",
              "      <th>0</th>\n",
              "      <th>1</th>\n",
              "      <th>2</th>\n",
              "      <th>3</th>\n",
              "      <th>4</th>\n",
              "      <th>5</th>\n",
              "      <th>6</th>\n",
              "    </tr>\n",
              "  </thead>\n",
              "  <tbody>\n",
              "    <tr>\n",
              "      <th>0</th>\n",
              "      <td>144503924.jpg</td>\n",
              "      <td>Adidas</td>\n",
              "      <td>1</td>\n",
              "      <td>38</td>\n",
              "      <td>12</td>\n",
              "      <td>234</td>\n",
              "      <td>142</td>\n",
              "    </tr>\n",
              "    <tr>\n",
              "      <th>1</th>\n",
              "      <td>2451569770.jpg</td>\n",
              "      <td>Adidas</td>\n",
              "      <td>1</td>\n",
              "      <td>242</td>\n",
              "      <td>208</td>\n",
              "      <td>413</td>\n",
              "      <td>331</td>\n",
              "    </tr>\n",
              "    <tr>\n",
              "      <th>2</th>\n",
              "      <td>390321909.jpg</td>\n",
              "      <td>Adidas</td>\n",
              "      <td>1</td>\n",
              "      <td>13</td>\n",
              "      <td>5</td>\n",
              "      <td>89</td>\n",
              "      <td>60</td>\n",
              "    </tr>\n",
              "    <tr>\n",
              "      <th>3</th>\n",
              "      <td>4761260517.jpg</td>\n",
              "      <td>Adidas</td>\n",
              "      <td>1</td>\n",
              "      <td>43</td>\n",
              "      <td>122</td>\n",
              "      <td>358</td>\n",
              "      <td>354</td>\n",
              "    </tr>\n",
              "    <tr>\n",
              "      <th>4</th>\n",
              "      <td>4763210295.jpg</td>\n",
              "      <td>Adidas</td>\n",
              "      <td>1</td>\n",
              "      <td>83</td>\n",
              "      <td>63</td>\n",
              "      <td>130</td>\n",
              "      <td>93</td>\n",
              "    </tr>\n",
              "    <tr>\n",
              "      <th>...</th>\n",
              "      <td>...</td>\n",
              "      <td>...</td>\n",
              "      <td>...</td>\n",
              "      <td>...</td>\n",
              "      <td>...</td>\n",
              "      <td>...</td>\n",
              "      <td>...</td>\n",
              "    </tr>\n",
              "    <tr>\n",
              "      <th>4531</th>\n",
              "      <td>2126991906.jpg</td>\n",
              "      <td>Yahoo</td>\n",
              "      <td>6</td>\n",
              "      <td>15</td>\n",
              "      <td>6</td>\n",
              "      <td>253</td>\n",
              "      <td>54</td>\n",
              "    </tr>\n",
              "    <tr>\n",
              "      <th>4532</th>\n",
              "      <td>217288720.jpg</td>\n",
              "      <td>Yahoo</td>\n",
              "      <td>6</td>\n",
              "      <td>136</td>\n",
              "      <td>161</td>\n",
              "      <td>304</td>\n",
              "      <td>222</td>\n",
              "    </tr>\n",
              "    <tr>\n",
              "      <th>4533</th>\n",
              "      <td>2472817996.jpg</td>\n",
              "      <td>Yahoo</td>\n",
              "      <td>6</td>\n",
              "      <td>2</td>\n",
              "      <td>4</td>\n",
              "      <td>499</td>\n",
              "      <td>106</td>\n",
              "    </tr>\n",
              "    <tr>\n",
              "      <th>4534</th>\n",
              "      <td>2514220918.jpg</td>\n",
              "      <td>Yahoo</td>\n",
              "      <td>6</td>\n",
              "      <td>1</td>\n",
              "      <td>69</td>\n",
              "      <td>342</td>\n",
              "      <td>157</td>\n",
              "    </tr>\n",
              "    <tr>\n",
              "      <th>4535</th>\n",
              "      <td>386891249.jpg</td>\n",
              "      <td>Yahoo</td>\n",
              "      <td>6</td>\n",
              "      <td>156</td>\n",
              "      <td>10</td>\n",
              "      <td>310</td>\n",
              "      <td>49</td>\n",
              "    </tr>\n",
              "  </tbody>\n",
              "</table>\n",
              "<p>4536 rows × 7 columns</p>\n",
              "</div>\n",
              "      <button class=\"colab-df-convert\" onclick=\"convertToInteractive('df-efc5966c-be79-4087-806c-1a229aeea4e1')\"\n",
              "              title=\"Convert this dataframe to an interactive table.\"\n",
              "              style=\"display:none;\">\n",
              "        \n",
              "  <svg xmlns=\"http://www.w3.org/2000/svg\" height=\"24px\"viewBox=\"0 0 24 24\"\n",
              "       width=\"24px\">\n",
              "    <path d=\"M0 0h24v24H0V0z\" fill=\"none\"/>\n",
              "    <path d=\"M18.56 5.44l.94 2.06.94-2.06 2.06-.94-2.06-.94-.94-2.06-.94 2.06-2.06.94zm-11 1L8.5 8.5l.94-2.06 2.06-.94-2.06-.94L8.5 2.5l-.94 2.06-2.06.94zm10 10l.94 2.06.94-2.06 2.06-.94-2.06-.94-.94-2.06-.94 2.06-2.06.94z\"/><path d=\"M17.41 7.96l-1.37-1.37c-.4-.4-.92-.59-1.43-.59-.52 0-1.04.2-1.43.59L10.3 9.45l-7.72 7.72c-.78.78-.78 2.05 0 2.83L4 21.41c.39.39.9.59 1.41.59.51 0 1.02-.2 1.41-.59l7.78-7.78 2.81-2.81c.8-.78.8-2.07 0-2.86zM5.41 20L4 18.59l7.72-7.72 1.47 1.35L5.41 20z\"/>\n",
              "  </svg>\n",
              "      </button>\n",
              "      \n",
              "  <style>\n",
              "    .colab-df-container {\n",
              "      display:flex;\n",
              "      flex-wrap:wrap;\n",
              "      gap: 12px;\n",
              "    }\n",
              "\n",
              "    .colab-df-convert {\n",
              "      background-color: #E8F0FE;\n",
              "      border: none;\n",
              "      border-radius: 50%;\n",
              "      cursor: pointer;\n",
              "      display: none;\n",
              "      fill: #1967D2;\n",
              "      height: 32px;\n",
              "      padding: 0 0 0 0;\n",
              "      width: 32px;\n",
              "    }\n",
              "\n",
              "    .colab-df-convert:hover {\n",
              "      background-color: #E2EBFA;\n",
              "      box-shadow: 0px 1px 2px rgba(60, 64, 67, 0.3), 0px 1px 3px 1px rgba(60, 64, 67, 0.15);\n",
              "      fill: #174EA6;\n",
              "    }\n",
              "\n",
              "    [theme=dark] .colab-df-convert {\n",
              "      background-color: #3B4455;\n",
              "      fill: #D2E3FC;\n",
              "    }\n",
              "\n",
              "    [theme=dark] .colab-df-convert:hover {\n",
              "      background-color: #434B5C;\n",
              "      box-shadow: 0px 1px 3px 1px rgba(0, 0, 0, 0.15);\n",
              "      filter: drop-shadow(0px 1px 2px rgba(0, 0, 0, 0.3));\n",
              "      fill: #FFFFFF;\n",
              "    }\n",
              "  </style>\n",
              "\n",
              "      <script>\n",
              "        const buttonEl =\n",
              "          document.querySelector('#df-efc5966c-be79-4087-806c-1a229aeea4e1 button.colab-df-convert');\n",
              "        buttonEl.style.display =\n",
              "          google.colab.kernel.accessAllowed ? 'block' : 'none';\n",
              "\n",
              "        async function convertToInteractive(key) {\n",
              "          const element = document.querySelector('#df-efc5966c-be79-4087-806c-1a229aeea4e1');\n",
              "          const dataTable =\n",
              "            await google.colab.kernel.invokeFunction('convertToInteractive',\n",
              "                                                     [key], {});\n",
              "          if (!dataTable) return;\n",
              "\n",
              "          const docLinkHtml = 'Like what you see? Visit the ' +\n",
              "            '<a target=\"_blank\" href=https://colab.research.google.com/notebooks/data_table.ipynb>data table notebook</a>'\n",
              "            + ' to learn more about interactive tables.';\n",
              "          element.innerHTML = '';\n",
              "          dataTable['output_type'] = 'display_data';\n",
              "          await google.colab.output.renderOutput(dataTable, element);\n",
              "          const docLink = document.createElement('div');\n",
              "          docLink.innerHTML = docLinkHtml;\n",
              "          element.appendChild(docLink);\n",
              "        }\n",
              "      </script>\n",
              "    </div>\n",
              "  </div>\n",
              "  "
            ]
          },
          "metadata": {},
          "execution_count": 10
        }
      ]
    },
    {
      "cell_type": "code",
      "source": [
        "X = df.iloc[:,0]\n",
        "Y = df.iloc[:,1]"
      ],
      "metadata": {
        "id": "M5x5oIEb0ApY",
        "execution": {
          "iopub.status.busy": "2022-05-16T05:35:40.902334Z",
          "iopub.execute_input": "2022-05-16T05:35:40.902657Z",
          "iopub.status.idle": "2022-05-16T05:35:40.908925Z",
          "shell.execute_reply.started": "2022-05-16T05:35:40.902619Z",
          "shell.execute_reply": "2022-05-16T05:35:40.908166Z"
        },
        "trusted": true
      },
      "execution_count": 11,
      "outputs": []
    },
    {
      "cell_type": "code",
      "source": [
        "dtdir = './flickr_logos_27_dataset_images/'"
      ],
      "metadata": {
        "id": "JrHTDiAsEDPK",
        "execution": {
          "iopub.status.busy": "2022-05-16T05:35:40.910114Z",
          "iopub.execute_input": "2022-05-16T05:35:40.910781Z",
          "iopub.status.idle": "2022-05-16T05:35:40.918158Z",
          "shell.execute_reply.started": "2022-05-16T05:35:40.910697Z",
          "shell.execute_reply": "2022-05-16T05:35:40.917482Z"
        },
        "trusted": true
      },
      "execution_count": 12,
      "outputs": []
    },
    {
      "cell_type": "code",
      "source": [
        "im = df[0][0]"
      ],
      "metadata": {
        "id": "M57_9LjXDr9Y",
        "execution": {
          "iopub.status.busy": "2022-05-16T05:35:40.919323Z",
          "iopub.execute_input": "2022-05-16T05:35:40.920008Z",
          "iopub.status.idle": "2022-05-16T05:35:40.92805Z",
          "shell.execute_reply.started": "2022-05-16T05:35:40.919972Z",
          "shell.execute_reply": "2022-05-16T05:35:40.927405Z"
        },
        "trusted": true
      },
      "execution_count": 13,
      "outputs": []
    },
    {
      "cell_type": "code",
      "source": [
        "size = df.iloc[:,3:]"
      ],
      "metadata": {
        "id": "GHW47r8vFAY5",
        "execution": {
          "iopub.status.busy": "2022-05-16T05:35:40.931882Z",
          "iopub.execute_input": "2022-05-16T05:35:40.932306Z",
          "iopub.status.idle": "2022-05-16T05:35:40.938673Z",
          "shell.execute_reply.started": "2022-05-16T05:35:40.932267Z",
          "shell.execute_reply": "2022-05-16T05:35:40.937894Z"
        },
        "trusted": true
      },
      "execution_count": 14,
      "outputs": []
    },
    {
      "cell_type": "code",
      "source": [
        "size"
      ],
      "metadata": {
        "id": "4cm1vhfwFOyK",
        "outputId": "d6b09f6d-6288-4918-ef83-350b8ebab796",
        "execution": {
          "iopub.status.busy": "2022-05-16T05:35:40.940869Z",
          "iopub.execute_input": "2022-05-16T05:35:40.941399Z",
          "iopub.status.idle": "2022-05-16T05:35:40.954106Z",
          "shell.execute_reply.started": "2022-05-16T05:35:40.941361Z",
          "shell.execute_reply": "2022-05-16T05:35:40.953265Z"
        },
        "trusted": true,
        "colab": {
          "base_uri": "https://localhost:8080/",
          "height": 424
        }
      },
      "execution_count": 15,
      "outputs": [
        {
          "output_type": "execute_result",
          "data": {
            "text/plain": [
              "        3    4    5    6\n",
              "0      38   12  234  142\n",
              "1     242  208  413  331\n",
              "2      13    5   89   60\n",
              "3      43  122  358  354\n",
              "4      83   63  130   93\n",
              "...   ...  ...  ...  ...\n",
              "4531   15    6  253   54\n",
              "4532  136  161  304  222\n",
              "4533    2    4  499  106\n",
              "4534    1   69  342  157\n",
              "4535  156   10  310   49\n",
              "\n",
              "[4536 rows x 4 columns]"
            ],
            "text/html": [
              "\n",
              "  <div id=\"df-8166eae0-d513-44c9-8a6e-1ef9274d17f3\">\n",
              "    <div class=\"colab-df-container\">\n",
              "      <div>\n",
              "<style scoped>\n",
              "    .dataframe tbody tr th:only-of-type {\n",
              "        vertical-align: middle;\n",
              "    }\n",
              "\n",
              "    .dataframe tbody tr th {\n",
              "        vertical-align: top;\n",
              "    }\n",
              "\n",
              "    .dataframe thead th {\n",
              "        text-align: right;\n",
              "    }\n",
              "</style>\n",
              "<table border=\"1\" class=\"dataframe\">\n",
              "  <thead>\n",
              "    <tr style=\"text-align: right;\">\n",
              "      <th></th>\n",
              "      <th>3</th>\n",
              "      <th>4</th>\n",
              "      <th>5</th>\n",
              "      <th>6</th>\n",
              "    </tr>\n",
              "  </thead>\n",
              "  <tbody>\n",
              "    <tr>\n",
              "      <th>0</th>\n",
              "      <td>38</td>\n",
              "      <td>12</td>\n",
              "      <td>234</td>\n",
              "      <td>142</td>\n",
              "    </tr>\n",
              "    <tr>\n",
              "      <th>1</th>\n",
              "      <td>242</td>\n",
              "      <td>208</td>\n",
              "      <td>413</td>\n",
              "      <td>331</td>\n",
              "    </tr>\n",
              "    <tr>\n",
              "      <th>2</th>\n",
              "      <td>13</td>\n",
              "      <td>5</td>\n",
              "      <td>89</td>\n",
              "      <td>60</td>\n",
              "    </tr>\n",
              "    <tr>\n",
              "      <th>3</th>\n",
              "      <td>43</td>\n",
              "      <td>122</td>\n",
              "      <td>358</td>\n",
              "      <td>354</td>\n",
              "    </tr>\n",
              "    <tr>\n",
              "      <th>4</th>\n",
              "      <td>83</td>\n",
              "      <td>63</td>\n",
              "      <td>130</td>\n",
              "      <td>93</td>\n",
              "    </tr>\n",
              "    <tr>\n",
              "      <th>...</th>\n",
              "      <td>...</td>\n",
              "      <td>...</td>\n",
              "      <td>...</td>\n",
              "      <td>...</td>\n",
              "    </tr>\n",
              "    <tr>\n",
              "      <th>4531</th>\n",
              "      <td>15</td>\n",
              "      <td>6</td>\n",
              "      <td>253</td>\n",
              "      <td>54</td>\n",
              "    </tr>\n",
              "    <tr>\n",
              "      <th>4532</th>\n",
              "      <td>136</td>\n",
              "      <td>161</td>\n",
              "      <td>304</td>\n",
              "      <td>222</td>\n",
              "    </tr>\n",
              "    <tr>\n",
              "      <th>4533</th>\n",
              "      <td>2</td>\n",
              "      <td>4</td>\n",
              "      <td>499</td>\n",
              "      <td>106</td>\n",
              "    </tr>\n",
              "    <tr>\n",
              "      <th>4534</th>\n",
              "      <td>1</td>\n",
              "      <td>69</td>\n",
              "      <td>342</td>\n",
              "      <td>157</td>\n",
              "    </tr>\n",
              "    <tr>\n",
              "      <th>4535</th>\n",
              "      <td>156</td>\n",
              "      <td>10</td>\n",
              "      <td>310</td>\n",
              "      <td>49</td>\n",
              "    </tr>\n",
              "  </tbody>\n",
              "</table>\n",
              "<p>4536 rows × 4 columns</p>\n",
              "</div>\n",
              "      <button class=\"colab-df-convert\" onclick=\"convertToInteractive('df-8166eae0-d513-44c9-8a6e-1ef9274d17f3')\"\n",
              "              title=\"Convert this dataframe to an interactive table.\"\n",
              "              style=\"display:none;\">\n",
              "        \n",
              "  <svg xmlns=\"http://www.w3.org/2000/svg\" height=\"24px\"viewBox=\"0 0 24 24\"\n",
              "       width=\"24px\">\n",
              "    <path d=\"M0 0h24v24H0V0z\" fill=\"none\"/>\n",
              "    <path d=\"M18.56 5.44l.94 2.06.94-2.06 2.06-.94-2.06-.94-.94-2.06-.94 2.06-2.06.94zm-11 1L8.5 8.5l.94-2.06 2.06-.94-2.06-.94L8.5 2.5l-.94 2.06-2.06.94zm10 10l.94 2.06.94-2.06 2.06-.94-2.06-.94-.94-2.06-.94 2.06-2.06.94z\"/><path d=\"M17.41 7.96l-1.37-1.37c-.4-.4-.92-.59-1.43-.59-.52 0-1.04.2-1.43.59L10.3 9.45l-7.72 7.72c-.78.78-.78 2.05 0 2.83L4 21.41c.39.39.9.59 1.41.59.51 0 1.02-.2 1.41-.59l7.78-7.78 2.81-2.81c.8-.78.8-2.07 0-2.86zM5.41 20L4 18.59l7.72-7.72 1.47 1.35L5.41 20z\"/>\n",
              "  </svg>\n",
              "      </button>\n",
              "      \n",
              "  <style>\n",
              "    .colab-df-container {\n",
              "      display:flex;\n",
              "      flex-wrap:wrap;\n",
              "      gap: 12px;\n",
              "    }\n",
              "\n",
              "    .colab-df-convert {\n",
              "      background-color: #E8F0FE;\n",
              "      border: none;\n",
              "      border-radius: 50%;\n",
              "      cursor: pointer;\n",
              "      display: none;\n",
              "      fill: #1967D2;\n",
              "      height: 32px;\n",
              "      padding: 0 0 0 0;\n",
              "      width: 32px;\n",
              "    }\n",
              "\n",
              "    .colab-df-convert:hover {\n",
              "      background-color: #E2EBFA;\n",
              "      box-shadow: 0px 1px 2px rgba(60, 64, 67, 0.3), 0px 1px 3px 1px rgba(60, 64, 67, 0.15);\n",
              "      fill: #174EA6;\n",
              "    }\n",
              "\n",
              "    [theme=dark] .colab-df-convert {\n",
              "      background-color: #3B4455;\n",
              "      fill: #D2E3FC;\n",
              "    }\n",
              "\n",
              "    [theme=dark] .colab-df-convert:hover {\n",
              "      background-color: #434B5C;\n",
              "      box-shadow: 0px 1px 3px 1px rgba(0, 0, 0, 0.15);\n",
              "      filter: drop-shadow(0px 1px 2px rgba(0, 0, 0, 0.3));\n",
              "      fill: #FFFFFF;\n",
              "    }\n",
              "  </style>\n",
              "\n",
              "      <script>\n",
              "        const buttonEl =\n",
              "          document.querySelector('#df-8166eae0-d513-44c9-8a6e-1ef9274d17f3 button.colab-df-convert');\n",
              "        buttonEl.style.display =\n",
              "          google.colab.kernel.accessAllowed ? 'block' : 'none';\n",
              "\n",
              "        async function convertToInteractive(key) {\n",
              "          const element = document.querySelector('#df-8166eae0-d513-44c9-8a6e-1ef9274d17f3');\n",
              "          const dataTable =\n",
              "            await google.colab.kernel.invokeFunction('convertToInteractive',\n",
              "                                                     [key], {});\n",
              "          if (!dataTable) return;\n",
              "\n",
              "          const docLinkHtml = 'Like what you see? Visit the ' +\n",
              "            '<a target=\"_blank\" href=https://colab.research.google.com/notebooks/data_table.ipynb>data table notebook</a>'\n",
              "            + ' to learn more about interactive tables.';\n",
              "          element.innerHTML = '';\n",
              "          dataTable['output_type'] = 'display_data';\n",
              "          await google.colab.output.renderOutput(dataTable, element);\n",
              "          const docLink = document.createElement('div');\n",
              "          docLink.innerHTML = docLinkHtml;\n",
              "          element.appendChild(docLink);\n",
              "        }\n",
              "      </script>\n",
              "    </div>\n",
              "  </div>\n",
              "  "
            ]
          },
          "metadata": {},
          "execution_count": 15
        }
      ]
    },
    {
      "cell_type": "code",
      "source": [
        "img = os.path.join(dtdir,im)"
      ],
      "metadata": {
        "id": "Dg_Ok6GzD6Vx",
        "execution": {
          "iopub.status.busy": "2022-05-16T05:35:40.955603Z",
          "iopub.execute_input": "2022-05-16T05:35:40.95598Z",
          "iopub.status.idle": "2022-05-16T05:35:40.962768Z",
          "shell.execute_reply.started": "2022-05-16T05:35:40.955944Z",
          "shell.execute_reply": "2022-05-16T05:35:40.962177Z"
        },
        "trusted": true
      },
      "execution_count": 16,
      "outputs": []
    },
    {
      "cell_type": "code",
      "source": [
        "size = size.values.tolist()"
      ],
      "metadata": {
        "id": "QpTIR5u9Ii5E",
        "execution": {
          "iopub.status.busy": "2022-05-16T05:35:40.964427Z",
          "iopub.execute_input": "2022-05-16T05:35:40.964681Z",
          "iopub.status.idle": "2022-05-16T05:35:40.973123Z",
          "shell.execute_reply.started": "2022-05-16T05:35:40.964648Z",
          "shell.execute_reply": "2022-05-16T05:35:40.97245Z"
        },
        "trusted": true
      },
      "execution_count": 17,
      "outputs": []
    },
    {
      "cell_type": "code",
      "source": [
        "size[0][0],size[0][1],size[0][2],size[0][3]"
      ],
      "metadata": {
        "id": "m03w9M4BJZ31",
        "outputId": "bbe3f206-16e1-4743-ff4d-3dd9fc7ed074",
        "execution": {
          "iopub.status.busy": "2022-05-16T05:35:40.974237Z",
          "iopub.execute_input": "2022-05-16T05:35:40.974851Z",
          "iopub.status.idle": "2022-05-16T05:35:40.98352Z",
          "shell.execute_reply.started": "2022-05-16T05:35:40.974814Z",
          "shell.execute_reply": "2022-05-16T05:35:40.982705Z"
        },
        "trusted": true,
        "colab": {
          "base_uri": "https://localhost:8080/"
        }
      },
      "execution_count": 18,
      "outputs": [
        {
          "output_type": "execute_result",
          "data": {
            "text/plain": [
              "(38, 12, 234, 142)"
            ]
          },
          "metadata": {},
          "execution_count": 18
        }
      ]
    },
    {
      "cell_type": "code",
      "source": [
        "image = cv2.imread(img)\n",
        "plt.imshow(image)\n",
        "image.shape"
      ],
      "metadata": {
        "id": "lpzAhSlJNdWY",
        "outputId": "d9a16b5c-8d7e-4172-8be5-b3fc9c7e815e",
        "execution": {
          "iopub.status.busy": "2022-05-16T05:35:40.985166Z",
          "iopub.execute_input": "2022-05-16T05:35:40.985487Z",
          "iopub.status.idle": "2022-05-16T05:35:41.211186Z",
          "shell.execute_reply.started": "2022-05-16T05:35:40.98545Z",
          "shell.execute_reply": "2022-05-16T05:35:41.210556Z"
        },
        "trusted": true,
        "colab": {
          "base_uri": "https://localhost:8080/",
          "height": 286
        }
      },
      "execution_count": 19,
      "outputs": [
        {
          "output_type": "execute_result",
          "data": {
            "text/plain": [
              "(210, 280, 3)"
            ]
          },
          "metadata": {},
          "execution_count": 19
        },
        {
          "output_type": "display_data",
          "data": {
            "text/plain": [
              "<Figure size 432x288 with 1 Axes>"
            ],
            "image/png": "[encoded data removed]"
          },
          "metadata": {
            "needs_background": "light"
          }
        }
      ]
    },
    {
      "cell_type": "code",
      "source": [
        "image = cv2.imread(img)\n",
        "image = image[size[0][1]:size[0][3],size[0][0]:size[0][2]]\n",
        "plt.imshow(image)\n",
        "image.shape"
      ],
      "metadata": {
        "id": "buGQ1UawA-2y",
        "outputId": "67929720-12a1-4c69-8602-64f28f585199",
        "execution": {
          "iopub.status.busy": "2022-05-16T05:35:41.212232Z",
          "iopub.execute_input": "2022-05-16T05:35:41.212957Z",
          "iopub.status.idle": "2022-05-16T05:35:41.410815Z",
          "shell.execute_reply.started": "2022-05-16T05:35:41.212921Z",
          "shell.execute_reply": "2022-05-16T05:35:41.410201Z"
        },
        "trusted": true,
        "colab": {
          "base_uri": "https://localhost:8080/",
          "height": 286
        }
      },
      "execution_count": 20,
      "outputs": [
        {
          "output_type": "execute_result",
          "data": {
            "text/plain": [
              "(130, 196, 3)"
            ]
          },
          "metadata": {},
          "execution_count": 20
        },
        {
          "output_type": "display_data",
          "data": {
            "text/plain": [
              "<Figure size 432x288 with 1 Axes>"
            ],
            "image/png": "[encoded data removed]"
          },
          "metadata": {
            "needs_background": "light"
          }
        }
      ]
    },
    {
      "cell_type": "code",
      "source": [
        "query = pd.read_csv(\"./flickr_logos_27_dataset/flickr_logos_27_dataset_query_set_annotation.txt\", sep='\\s+',header=None)"
      ],
      "metadata": {
        "id": "XSJR54OmianJ",
        "execution": {
          "iopub.status.busy": "2022-05-16T05:35:41.411829Z",
          "iopub.execute_input": "2022-05-16T05:35:41.412248Z",
          "iopub.status.idle": "2022-05-16T05:35:41.419924Z",
          "shell.execute_reply.started": "2022-05-16T05:35:41.41221Z",
          "shell.execute_reply": "2022-05-16T05:35:41.419192Z"
        },
        "trusted": true
      },
      "execution_count": 21,
      "outputs": []
    },
    {
      "cell_type": "code",
      "source": [
        "query"
      ],
      "metadata": {
        "id": "_PocPjDUi3TN",
        "outputId": "8423efaf-bfe4-4a29-a959-6fe6670d9f72",
        "execution": {
          "iopub.status.busy": "2022-05-16T05:35:41.421727Z",
          "iopub.execute_input": "2022-05-16T05:35:41.422039Z",
          "iopub.status.idle": "2022-05-16T05:35:41.434715Z",
          "shell.execute_reply.started": "2022-05-16T05:35:41.42198Z",
          "shell.execute_reply": "2022-05-16T05:35:41.43392Z"
        },
        "trusted": true,
        "colab": {
          "base_uri": "https://localhost:8080/",
          "height": 424
        }
      },
      "execution_count": 22,
      "outputs": [
        {
          "output_type": "execute_result",
          "data": {
            "text/plain": [
              "                  0       1\n",
              "0    2403695909.jpg  Adidas\n",
              "1    2912587920.jpg  Adidas\n",
              "2    3441398196.jpg  Adidas\n",
              "3    4605630935.jpg  Adidas\n",
              "4    4606245138.jpg  Adidas\n",
              "..              ...     ...\n",
              "265  3480640208.jpg    none\n",
              "266  3486224308.jpg    none\n",
              "267  3486430785.jpg    none\n",
              "268  3490185235.jpg    none\n",
              "269  3490913574.jpg    none\n",
              "\n",
              "[270 rows x 2 columns]"
            ],
            "text/html": [
              "\n",
              "  <div id=\"df-d598cf90-c074-43ea-aad1-bf6201e4112e\">\n",
              "    <div class=\"colab-df-container\">\n",
              "      <div>\n",
              "<style scoped>\n",
              "    .dataframe tbody tr th:only-of-type {\n",
              "        vertical-align: middle;\n",
              "    }\n",
              "\n",
              "    .dataframe tbody tr th {\n",
              "        vertical-align: top;\n",
              "    }\n",
              "\n",
              "    .dataframe thead th {\n",
              "        text-align: right;\n",
              "    }\n",
              "</style>\n",
              "<table border=\"1\" class=\"dataframe\">\n",
              "  <thead>\n",
              "    <tr style=\"text-align: right;\">\n",
              "      <th></th>\n",
              "      <th>0</th>\n",
              "      <th>1</th>\n",
              "    </tr>\n",
              "  </thead>\n",
              "  <tbody>\n",
              "    <tr>\n",
              "      <th>0</th>\n",
              "      <td>2403695909.jpg</td>\n",
              "      <td>Adidas</td>\n",
              "    </tr>\n",
              "    <tr>\n",
              "      <th>1</th>\n",
              "      <td>2912587920.jpg</td>\n",
              "      <td>Adidas</td>\n",
              "    </tr>\n",
              "    <tr>\n",
              "      <th>2</th>\n",
              "      <td>3441398196.jpg</td>\n",
              "      <td>Adidas</td>\n",
              "    </tr>\n",
              "    <tr>\n",
              "      <th>3</th>\n",
              "      <td>4605630935.jpg</td>\n",
              "      <td>Adidas</td>\n",
              "    </tr>\n",
              "    <tr>\n",
              "      <th>4</th>\n",
              "      <td>4606245138.jpg</td>\n",
              "      <td>Adidas</td>\n",
              "    </tr>\n",
              "    <tr>\n",
              "      <th>...</th>\n",
              "      <td>...</td>\n",
              "      <td>...</td>\n",
              "    </tr>\n",
              "    <tr>\n",
              "      <th>265</th>\n",
              "      <td>3480640208.jpg</td>\n",
              "      <td>none</td>\n",
              "    </tr>\n",
              "    <tr>\n",
              "      <th>266</th>\n",
              "      <td>3486224308.jpg</td>\n",
              "      <td>none</td>\n",
              "    </tr>\n",
              "    <tr>\n",
              "      <th>267</th>\n",
              "      <td>3486430785.jpg</td>\n",
              "      <td>none</td>\n",
              "    </tr>\n",
              "    <tr>\n",
              "      <th>268</th>\n",
              "      <td>3490185235.jpg</td>\n",
              "      <td>none</td>\n",
              "    </tr>\n",
              "    <tr>\n",
              "      <th>269</th>\n",
              "      <td>3490913574.jpg</td>\n",
              "      <td>none</td>\n",
              "    </tr>\n",
              "  </tbody>\n",
              "</table>\n",
              "<p>270 rows × 2 columns</p>\n",
              "</div>\n",
              "      <button class=\"colab-df-convert\" onclick=\"convertToInteractive('df-d598cf90-c074-43ea-aad1-bf6201e4112e')\"\n",
              "              title=\"Convert this dataframe to an interactive table.\"\n",
              "              style=\"display:none;\">\n",
              "        \n",
              "  <svg xmlns=\"http://www.w3.org/2000/svg\" height=\"24px\"viewBox=\"0 0 24 24\"\n",
              "       width=\"24px\">\n",
              "    <path d=\"M0 0h24v24H0V0z\" fill=\"none\"/>\n",
              "    <path d=\"M18.56 5.44l.94 2.06.94-2.06 2.06-.94-2.06-.94-.94-2.06-.94 2.06-2.06.94zm-11 1L8.5 8.5l.94-2.06 2.06-.94-2.06-.94L8.5 2.5l-.94 2.06-2.06.94zm10 10l.94 2.06.94-2.06 2.06-.94-2.06-.94-.94-2.06-.94 2.06-2.06.94z\"/><path d=\"M17.41 7.96l-1.37-1.37c-.4-.4-.92-.59-1.43-.59-.52 0-1.04.2-1.43.59L10.3 9.45l-7.72 7.72c-.78.78-.78 2.05 0 2.83L4 21.41c.39.39.9.59 1.41.59.51 0 1.02-.2 1.41-.59l7.78-7.78 2.81-2.81c.8-.78.8-2.07 0-2.86zM5.41 20L4 18.59l7.72-7.72 1.47 1.35L5.41 20z\"/>\n",
              "  </svg>\n",
              "      </button>\n",
              "      \n",
              "  <style>\n",
              "    .colab-df-container {\n",
              "      display:flex;\n",
              "      flex-wrap:wrap;\n",
              "      gap: 12px;\n",
              "    }\n",
              "\n",
              "    .colab-df-convert {\n",
              "      background-color: #E8F0FE;\n",
              "      border: none;\n",
              "      border-radius: 50%;\n",
              "      cursor: pointer;\n",
              "      display: none;\n",
              "      fill: #1967D2;\n",
              "      height: 32px;\n",
              "      padding: 0 0 0 0;\n",
              "      width: 32px;\n",
              "    }\n",
              "\n",
              "    .colab-df-convert:hover {\n",
              "      background-color: #E2EBFA;\n",
              "      box-shadow: 0px 1px 2px rgba(60, 64, 67, 0.3), 0px 1px 3px 1px rgba(60, 64, 67, 0.15);\n",
              "      fill: #174EA6;\n",
              "    }\n",
              "\n",
              "    [theme=dark] .colab-df-convert {\n",
              "      background-color: #3B4455;\n",
              "      fill: #D2E3FC;\n",
              "    }\n",
              "\n",
              "    [theme=dark] .colab-df-convert:hover {\n",
              "      background-color: #434B5C;\n",
              "      box-shadow: 0px 1px 3px 1px rgba(0, 0, 0, 0.15);\n",
              "      filter: drop-shadow(0px 1px 2px rgba(0, 0, 0, 0.3));\n",
              "      fill: #FFFFFF;\n",
              "    }\n",
              "  </style>\n",
              "\n",
              "      <script>\n",
              "        const buttonEl =\n",
              "          document.querySelector('#df-d598cf90-c074-43ea-aad1-bf6201e4112e button.colab-df-convert');\n",
              "        buttonEl.style.display =\n",
              "          google.colab.kernel.accessAllowed ? 'block' : 'none';\n",
              "\n",
              "        async function convertToInteractive(key) {\n",
              "          const element = document.querySelector('#df-d598cf90-c074-43ea-aad1-bf6201e4112e');\n",
              "          const dataTable =\n",
              "            await google.colab.kernel.invokeFunction('convertToInteractive',\n",
              "                                                     [key], {});\n",
              "          if (!dataTable) return;\n",
              "\n",
              "          const docLinkHtml = 'Like what you see? Visit the ' +\n",
              "            '<a target=\"_blank\" href=https://colab.research.google.com/notebooks/data_table.ipynb>data table notebook</a>'\n",
              "            + ' to learn more about interactive tables.';\n",
              "          element.innerHTML = '';\n",
              "          dataTable['output_type'] = 'display_data';\n",
              "          await google.colab.output.renderOutput(dataTable, element);\n",
              "          const docLink = document.createElement('div');\n",
              "          docLink.innerHTML = docLinkHtml;\n",
              "          element.appendChild(docLink);\n",
              "        }\n",
              "      </script>\n",
              "    </div>\n",
              "  </div>\n",
              "  "
            ]
          },
          "metadata": {},
          "execution_count": 22
        }
      ]
    },
    {
      "cell_type": "code",
      "source": [
        "img = os.path.join(dtdir,query[0][5])\n",
        "image = cv2.imread(img)\n",
        "plt.imshow(image)\n",
        "image.shape"
      ],
      "metadata": {
        "id": "5_c_mmqOjuEB",
        "outputId": "8d5d98b8-03f5-4beb-85bb-99d25e4cf4d4",
        "execution": {
          "iopub.status.busy": "2022-05-16T05:35:41.436113Z",
          "iopub.execute_input": "2022-05-16T05:35:41.436584Z",
          "iopub.status.idle": "2022-05-16T05:35:41.632138Z",
          "shell.execute_reply.started": "2022-05-16T05:35:41.436548Z",
          "shell.execute_reply": "2022-05-16T05:35:41.631517Z"
        },
        "trusted": true,
        "colab": {
          "base_uri": "https://localhost:8080/",
          "height": 286
        }
      },
      "execution_count": 23,
      "outputs": [
        {
          "output_type": "execute_result",
          "data": {
            "text/plain": [
              "(500, 437, 3)"
            ]
          },
          "metadata": {},
          "execution_count": 23
        },
        {
          "output_type": "display_data",
          "data": {
            "text/plain": [
              "<Figure size 432x288 with 1 Axes>"
            ],
            "image/png": "[encoded data removed]"
          },
          "metadata": {
            "needs_background": "light"
          }
        }
      ]
    },
    {
      "cell_type": "code",
      "source": [
        "testdist = 'TEST'"
      ],
      "metadata": {
        "id": "7JgbRSBdohaX",
        "execution": {
          "iopub.status.busy": "2022-05-16T05:35:41.633351Z",
          "iopub.execute_input": "2022-05-16T05:35:41.633756Z",
          "iopub.status.idle": "2022-05-16T05:35:41.638921Z",
          "shell.execute_reply.started": "2022-05-16T05:35:41.633721Z",
          "shell.execute_reply": "2022-05-16T05:35:41.63823Z"
        },
        "trusted": true
      },
      "execution_count": 24,
      "outputs": []
    },
    {
      "cell_type": "code",
      "source": [
        "if not os.path.exists(testdist):\n",
        "    os.makedirs(testdist)"
      ],
      "metadata": {
        "id": "ZEjvSDUeoe3d",
        "execution": {
          "iopub.status.busy": "2022-05-16T05:35:41.640095Z",
          "iopub.execute_input": "2022-05-16T05:35:41.640821Z",
          "iopub.status.idle": "2022-05-16T05:35:41.647315Z",
          "shell.execute_reply.started": "2022-05-16T05:35:41.64078Z",
          "shell.execute_reply": "2022-05-16T05:35:41.646602Z"
        },
        "trusted": true
      },
      "execution_count": 25,
      "outputs": []
    },
    {
      "cell_type": "code",
      "source": [
        "y = list(set(list(Y)))\n",
        "y.sort()"
      ],
      "metadata": {
        "id": "vT3TEQgOz0lx",
        "execution": {
          "iopub.status.busy": "2022-05-16T05:35:41.648681Z",
          "iopub.execute_input": "2022-05-16T05:35:41.649425Z",
          "iopub.status.idle": "2022-05-16T05:35:41.656842Z",
          "shell.execute_reply.started": "2022-05-16T05:35:41.649396Z",
          "shell.execute_reply": "2022-05-16T05:35:41.655927Z"
        },
        "trusted": true
      },
      "execution_count": 26,
      "outputs": []
    },
    {
      "cell_type": "code",
      "source": [
        "for i in y:\n",
        "    os.makedirs(os.path.join(testdist,i))"
      ],
      "metadata": {
        "id": "gCtMeVsaqmGG",
        "execution": {
          "iopub.status.busy": "2022-05-16T05:35:41.658231Z",
          "iopub.execute_input": "2022-05-16T05:35:41.658482Z",
          "iopub.status.idle": "2022-05-16T05:35:41.667763Z",
          "shell.execute_reply.started": "2022-05-16T05:35:41.658449Z",
          "shell.execute_reply": "2022-05-16T05:35:41.667061Z"
        },
        "trusted": true
      },
      "execution_count": 27,
      "outputs": []
    },
    {
      "cell_type": "code",
      "source": [
        "for i in y:\n",
        "    os.makedirs(os.path.join(dest,i))"
      ],
      "metadata": {
        "id": "J7Wa4_ei_DCn",
        "execution": {
          "iopub.status.busy": "2022-05-16T05:35:41.669117Z",
          "iopub.execute_input": "2022-05-16T05:35:41.669603Z",
          "iopub.status.idle": "2022-05-16T05:35:41.676966Z",
          "shell.execute_reply.started": "2022-05-16T05:35:41.669566Z",
          "shell.execute_reply": "2022-05-16T05:35:41.676299Z"
        },
        "trusted": true
      },
      "execution_count": 28,
      "outputs": []
    },
    {
      "cell_type": "code",
      "source": [
        "distractor = pd.read_csv(\"./flickr_logos_27_dataset/flickr_logos_27_dataset_distractor_set_urls.txt\", sep='\\s+',header=None)"
      ],
      "metadata": {
        "id": "hYQiXYlVi-tE",
        "execution": {
          "iopub.status.busy": "2022-05-16T05:35:41.678582Z",
          "iopub.execute_input": "2022-05-16T05:35:41.67922Z",
          "iopub.status.idle": "2022-05-16T05:35:41.693788Z",
          "shell.execute_reply.started": "2022-05-16T05:35:41.679179Z",
          "shell.execute_reply": "2022-05-16T05:35:41.693127Z"
        },
        "trusted": true
      },
      "execution_count": 29,
      "outputs": []
    },
    {
      "cell_type": "code",
      "source": [
        "distractor"
      ],
      "metadata": {
        "id": "x9Bcbdkzjfye",
        "outputId": "189fb6c7-b0a1-4b85-81a4-5b5ee4cc9d49",
        "execution": {
          "iopub.status.busy": "2022-05-16T05:35:41.694681Z",
          "iopub.execute_input": "2022-05-16T05:35:41.694861Z",
          "iopub.status.idle": "2022-05-16T05:35:41.706364Z",
          "shell.execute_reply.started": "2022-05-16T05:35:41.694834Z",
          "shell.execute_reply": "2022-05-16T05:35:41.705712Z"
        },
        "trusted": true,
        "colab": {
          "base_uri": "https://localhost:8080/",
          "height": 424
        }
      },
      "execution_count": 30,
      "outputs": [
        {
          "output_type": "execute_result",
          "data": {
            "text/plain": [
              "                                                      0\n",
              "0     http://farm2.static.flickr.com/1184/1013364004...\n",
              "1     http://farm2.static.flickr.com/1108/1047095104...\n",
              "2     http://farm2.static.flickr.com/1359/1076885577...\n",
              "3     http://farm1.static.flickr.com/53/110432189_6d...\n",
              "4     http://farm2.static.flickr.com/1144/1153048029...\n",
              "...                                                 ...\n",
              "4202  http://farm2.static.flickr.com/1254/889763557_...\n",
              "4203  http://farm2.static.flickr.com/1308/901063602_...\n",
              "4204  http://farm1.static.flickr.com/18/93551127_fed...\n",
              "4205  http://farm2.static.flickr.com/1033/978252884_...\n",
              "4206  http://farm2.static.flickr.com/1181/978252894_...\n",
              "\n",
              "[4207 rows x 1 columns]"
            ],
            "text/html": [
              "\n",
              "  <div id=\"df-835b8f25-80c3-4388-91e0-f4f0b5f3aed7\">\n",
              "    <div class=\"colab-df-container\">\n",
              "      <div>\n",
              "<style scoped>\n",
              "    .dataframe tbody tr th:only-of-type {\n",
              "        vertical-align: middle;\n",
              "    }\n",
              "\n",
              "    .dataframe tbody tr th {\n",
              "        vertical-align: top;\n",
              "    }\n",
              "\n",
              "    .dataframe thead th {\n",
              "        text-align: right;\n",
              "    }\n",
              "</style>\n",
              "<table border=\"1\" class=\"dataframe\">\n",
              "  <thead>\n",
              "    <tr style=\"text-align: right;\">\n",
              "      <th></th>\n",
              "      <th>0</th>\n",
              "    </tr>\n",
              "  </thead>\n",
              "  <tbody>\n",
              "    <tr>\n",
              "      <th>0</th>\n",
              "      <td>http://farm2.static.flickr.com/1184/1013364004...</td>\n",
              "    </tr>\n",
              "    <tr>\n",
              "      <th>1</th>\n",
              "      <td>http://farm2.static.flickr.com/1108/1047095104...</td>\n",
              "    </tr>\n",
              "    <tr>\n",
              "      <th>2</th>\n",
              "      <td>http://farm2.static.flickr.com/1359/1076885577...</td>\n",
              "    </tr>\n",
              "    <tr>\n",
              "      <th>3</th>\n",
              "      <td>http://farm1.static.flickr.com/53/110432189_6d...</td>\n",
              "    </tr>\n",
              "    <tr>\n",
              "      <th>4</th>\n",
              "      <td>http://farm2.static.flickr.com/1144/1153048029...</td>\n",
              "    </tr>\n",
              "    <tr>\n",
              "      <th>...</th>\n",
              "      <td>...</td>\n",
              "    </tr>\n",
              "    <tr>\n",
              "      <th>4202</th>\n",
              "      <td>http://farm2.static.flickr.com/1254/889763557_...</td>\n",
              "    </tr>\n",
              "    <tr>\n",
              "      <th>4203</th>\n",
              "      <td>http://farm2.static.flickr.com/1308/901063602_...</td>\n",
              "    </tr>\n",
              "    <tr>\n",
              "      <th>4204</th>\n",
              "      <td>http://farm1.static.flickr.com/18/93551127_fed...</td>\n",
              "    </tr>\n",
              "    <tr>\n",
              "      <th>4205</th>\n",
              "      <td>http://farm2.static.flickr.com/1033/978252884_...</td>\n",
              "    </tr>\n",
              "    <tr>\n",
              "      <th>4206</th>\n",
              "      <td>http://farm2.static.flickr.com/1181/978252894_...</td>\n",
              "    </tr>\n",
              "  </tbody>\n",
              "</table>\n",
              "<p>4207 rows × 1 columns</p>\n",
              "</div>\n",
              "      <button class=\"colab-df-convert\" onclick=\"convertToInteractive('df-835b8f25-80c3-4388-91e0-f4f0b5f3aed7')\"\n",
              "              title=\"Convert this dataframe to an interactive table.\"\n",
              "              style=\"display:none;\">\n",
              "        \n",
              "  <svg xmlns=\"http://www.w3.org/2000/svg\" height=\"24px\"viewBox=\"0 0 24 24\"\n",
              "       width=\"24px\">\n",
              "    <path d=\"M0 0h24v24H0V0z\" fill=\"none\"/>\n",
              "    <path d=\"M18.56 5.44l.94 2.06.94-2.06 2.06-.94-2.06-.94-.94-2.06-.94 2.06-2.06.94zm-11 1L8.5 8.5l.94-2.06 2.06-.94-2.06-.94L8.5 2.5l-.94 2.06-2.06.94zm10 10l.94 2.06.94-2.06 2.06-.94-2.06-.94-.94-2.06-.94 2.06-2.06.94z\"/><path d=\"M17.41 7.96l-1.37-1.37c-.4-.4-.92-.59-1.43-.59-.52 0-1.04.2-1.43.59L10.3 9.45l-7.72 7.72c-.78.78-.78 2.05 0 2.83L4 21.41c.39.39.9.59 1.41.59.51 0 1.02-.2 1.41-.59l7.78-7.78 2.81-2.81c.8-.78.8-2.07 0-2.86zM5.41 20L4 18.59l7.72-7.72 1.47 1.35L5.41 20z\"/>\n",
              "  </svg>\n",
              "      </button>\n",
              "      \n",
              "  <style>\n",
              "    .colab-df-container {\n",
              "      display:flex;\n",
              "      flex-wrap:wrap;\n",
              "      gap: 12px;\n",
              "    }\n",
              "\n",
              "    .colab-df-convert {\n",
              "      background-color: #E8F0FE;\n",
              "      border: none;\n",
              "      border-radius: 50%;\n",
              "      cursor: pointer;\n",
              "      display: none;\n",
              "      fill: #1967D2;\n",
              "      height: 32px;\n",
              "      padding: 0 0 0 0;\n",
              "      width: 32px;\n",
              "    }\n",
              "\n",
              "    .colab-df-convert:hover {\n",
              "      background-color: #E2EBFA;\n",
              "      box-shadow: 0px 1px 2px rgba(60, 64, 67, 0.3), 0px 1px 3px 1px rgba(60, 64, 67, 0.15);\n",
              "      fill: #174EA6;\n",
              "    }\n",
              "\n",
              "    [theme=dark] .colab-df-convert {\n",
              "      background-color: #3B4455;\n",
              "      fill: #D2E3FC;\n",
              "    }\n",
              "\n",
              "    [theme=dark] .colab-df-convert:hover {\n",
              "      background-color: #434B5C;\n",
              "      box-shadow: 0px 1px 3px 1px rgba(0, 0, 0, 0.15);\n",
              "      filter: drop-shadow(0px 1px 2px rgba(0, 0, 0, 0.3));\n",
              "      fill: #FFFFFF;\n",
              "    }\n",
              "  </style>\n",
              "\n",
              "      <script>\n",
              "        const buttonEl =\n",
              "          document.querySelector('#df-835b8f25-80c3-4388-91e0-f4f0b5f3aed7 button.colab-df-convert');\n",
              "        buttonEl.style.display =\n",
              "          google.colab.kernel.accessAllowed ? 'block' : 'none';\n",
              "\n",
              "        async function convertToInteractive(key) {\n",
              "          const element = document.querySelector('#df-835b8f25-80c3-4388-91e0-f4f0b5f3aed7');\n",
              "          const dataTable =\n",
              "            await google.colab.kernel.invokeFunction('convertToInteractive',\n",
              "                                                     [key], {});\n",
              "          if (!dataTable) return;\n",
              "\n",
              "          const docLinkHtml = 'Like what you see? Visit the ' +\n",
              "            '<a target=\"_blank\" href=https://colab.research.google.com/notebooks/data_table.ipynb>data table notebook</a>'\n",
              "            + ' to learn more about interactive tables.';\n",
              "          element.innerHTML = '';\n",
              "          dataTable['output_type'] = 'display_data';\n",
              "          await google.colab.output.renderOutput(dataTable, element);\n",
              "          const docLink = document.createElement('div');\n",
              "          docLink.innerHTML = docLinkHtml;\n",
              "          element.appendChild(docLink);\n",
              "        }\n",
              "      </script>\n",
              "    </div>\n",
              "  </div>\n",
              "  "
            ]
          },
          "metadata": {},
          "execution_count": 30
        }
      ]
    },
    {
      "cell_type": "code",
      "source": [
        "HEIGHT = 224\n",
        "WIDTH =  224\n",
        "BS = 256"
      ],
      "metadata": {
        "id": "wSUgCWCfhVFi",
        "execution": {
          "iopub.status.busy": "2022-05-16T05:35:41.707606Z",
          "iopub.execute_input": "2022-05-16T05:35:41.708029Z",
          "iopub.status.idle": "2022-05-16T05:35:41.711745Z",
          "shell.execute_reply.started": "2022-05-16T05:35:41.707994Z",
          "shell.execute_reply": "2022-05-16T05:35:41.71094Z"
        },
        "trusted": true
      },
      "execution_count": 31,
      "outputs": []
    },
    {
      "cell_type": "markdown",
      "source": [
        "## Removing Corrupt Images "
      ],
      "metadata": {
        "id": "p2TEr08CNbsX"
      }
    },
    {
      "cell_type": "code",
      "source": [
        "for i in range(len(X)):\n",
        "    try:\n",
        "        destrain = os.path.join(dest,Y[i])\n",
        "        savepath = os.path.join(destrain,X[i])\n",
        "        img  = os.path.join(dtdir,X[i])\n",
        "        image = cv2.imread(img)\n",
        "        image = image[size[i][1]:size[i][3],size[i][0]:size[i][2]]\n",
        "        image = cv2.resize(image,(WIDTH,HEIGHT))\n",
        "        cv2.imwrite(savepath,image)\n",
        "    except:\n",
        "        print('error')\n",
        "        pass"
      ],
      "metadata": {
        "id": "67kcB2IcrUGU",
        "outputId": "350d349c-0a2f-467b-e4f9-598475de10f2",
        "execution": {
          "iopub.status.busy": "2022-05-16T05:35:41.713211Z",
          "iopub.execute_input": "2022-05-16T05:35:41.713701Z",
          "iopub.status.idle": "2022-05-16T05:36:05.64884Z",
          "shell.execute_reply.started": "2022-05-16T05:35:41.713632Z",
          "shell.execute_reply": "2022-05-16T05:36:05.64806Z"
        },
        "trusted": true,
        "colab": {
          "base_uri": "https://localhost:8080/"
        }
      },
      "execution_count": 32,
      "outputs": [
        {
          "output_type": "stream",
          "name": "stdout",
          "text": [
            "error\n",
            "error\n",
            "error\n",
            "error\n",
            "error\n"
          ]
        }
      ]
    },
    {
      "cell_type": "code",
      "source": [
        "A = query.iloc[:,0]\n",
        "B = query.iloc[:,1]"
      ],
      "metadata": {
        "id": "LWo-J-3BuJNx",
        "execution": {
          "iopub.status.busy": "2022-05-16T05:36:05.65028Z",
          "iopub.execute_input": "2022-05-16T05:36:05.650768Z",
          "iopub.status.idle": "2022-05-16T05:36:05.655447Z",
          "shell.execute_reply.started": "2022-05-16T05:36:05.650731Z",
          "shell.execute_reply": "2022-05-16T05:36:05.654504Z"
        },
        "trusted": true
      },
      "execution_count": 33,
      "outputs": []
    },
    {
      "cell_type": "code",
      "source": [
        "A"
      ],
      "metadata": {
        "id": "jR4MnS_4ucyD",
        "outputId": "9e670ada-cf07-4fab-a800-78147348d69d",
        "execution": {
          "iopub.status.busy": "2022-05-16T05:36:05.656904Z",
          "iopub.execute_input": "2022-05-16T05:36:05.657601Z",
          "iopub.status.idle": "2022-05-16T05:36:05.678665Z",
          "shell.execute_reply.started": "2022-05-16T05:36:05.657562Z",
          "shell.execute_reply": "2022-05-16T05:36:05.674246Z"
        },
        "trusted": true,
        "colab": {
          "base_uri": "https://localhost:8080/"
        }
      },
      "execution_count": 34,
      "outputs": [
        {
          "output_type": "execute_result",
          "data": {
            "text/plain": [
              "0      2403695909.jpg\n",
              "1      2912587920.jpg\n",
              "2      3441398196.jpg\n",
              "3      4605630935.jpg\n",
              "4      4606245138.jpg\n",
              "            ...      \n",
              "265    3480640208.jpg\n",
              "266    3486224308.jpg\n",
              "267    3486430785.jpg\n",
              "268    3490185235.jpg\n",
              "269    3490913574.jpg\n",
              "Name: 0, Length: 270, dtype: object"
            ]
          },
          "metadata": {},
          "execution_count": 34
        }
      ]
    },
    {
      "cell_type": "code",
      "source": [
        "\n",
        "for i in range(len(A)):\n",
        "    try:\n",
        "        destrain = os.path.join(testdist,B[i])\n",
        "        savepath = os.path.join(destrain,A[i])\n",
        "        img  = os.path.join(dtdir,A[i])\n",
        "        image = cv2.imread(img)\n",
        "        image = cv2.resize(image,(WIDTH,HEIGHT))\n",
        "        cv2.imwrite(savepath,image)\n",
        "    except:\n",
        "        print('error')\n",
        "        pass\n"
      ],
      "metadata": {
        "id": "kqdjB3EyOMRz",
        "execution": {
          "iopub.status.busy": "2022-05-16T05:36:05.679752Z",
          "iopub.execute_input": "2022-05-16T05:36:05.680158Z",
          "iopub.status.idle": "2022-05-16T05:36:06.891397Z",
          "shell.execute_reply.started": "2022-05-16T05:36:05.680106Z",
          "shell.execute_reply": "2022-05-16T05:36:06.890669Z"
        },
        "trusted": true
      },
      "execution_count": 35,
      "outputs": []
    },
    {
      "cell_type": "code",
      "source": [
        "imagePaths = list(paths.list_images(testdist))"
      ],
      "metadata": {
        "id": "YZDoZSAtxAIw",
        "execution": {
          "iopub.status.busy": "2022-05-16T05:36:06.892603Z",
          "iopub.execute_input": "2022-05-16T05:36:06.892848Z",
          "iopub.status.idle": "2022-05-16T05:36:06.899449Z",
          "shell.execute_reply.started": "2022-05-16T05:36:06.892817Z",
          "shell.execute_reply": "2022-05-16T05:36:06.898674Z"
        },
        "trusted": true
      },
      "execution_count": 36,
      "outputs": []
    },
    {
      "cell_type": "code",
      "source": [
        "img = imagePaths[40]\n",
        "print(img)\n",
        "image = cv2.imread(img)\n",
        "plt.imshow(image)\n",
        "image.shape"
      ],
      "metadata": {
        "id": "Pqn1L12ExRyh",
        "outputId": "f55df656-ad13-46d6-bbb6-dc0e2ad212dc",
        "execution": {
          "iopub.status.busy": "2022-05-16T05:36:06.900552Z",
          "iopub.execute_input": "2022-05-16T05:36:06.901085Z",
          "iopub.status.idle": "2022-05-16T05:36:07.09712Z",
          "shell.execute_reply.started": "2022-05-16T05:36:06.901047Z",
          "shell.execute_reply": "2022-05-16T05:36:07.096469Z"
        },
        "trusted": true,
        "colab": {
          "base_uri": "https://localhost:8080/",
          "height": 304
        }
      },
      "execution_count": 37,
      "outputs": [
        {
          "output_type": "stream",
          "name": "stdout",
          "text": [
            "TEST/Pepsi/3162394630.jpg\n"
          ]
        },
        {
          "output_type": "execute_result",
          "data": {
            "text/plain": [
              "(224, 224, 3)"
            ]
          },
          "metadata": {},
          "execution_count": 37
        },
        {
          "output_type": "display_data",
          "data": {
            "text/plain": [
              "<Figure size 432x288 with 1 Axes>"
            ],
            "image/png": "[encoded data removed]"
          },
          "metadata": {
            "needs_background": "light"
          }
        }
      ]
    },
    {
      "cell_type": "markdown",
      "source": [
        "## Train Val Split"
      ],
      "metadata": {
        "id": "B3ZLBTZANbsZ"
      }
    },
    {
      "cell_type": "code",
      "source": [
        "path = 'LOGOS'"
      ],
      "metadata": {
        "execution": {
          "iopub.status.busy": "2022-05-16T05:36:07.098122Z",
          "iopub.execute_input": "2022-05-16T05:36:07.098387Z",
          "iopub.status.idle": "2022-05-16T05:36:07.102813Z",
          "shell.execute_reply.started": "2022-05-16T05:36:07.098353Z",
          "shell.execute_reply": "2022-05-16T05:36:07.102101Z"
        },
        "trusted": true,
        "id": "mfBRhzccNbsZ"
      },
      "execution_count": 38,
      "outputs": []
    },
    {
      "cell_type": "code",
      "source": [
        "splitfolders.ratio(path, output=\"data\", seed=1337, ratio=(0.8,0.2))"
      ],
      "metadata": {
        "execution": {
          "iopub.status.busy": "2022-05-16T05:36:07.104284Z",
          "iopub.execute_input": "2022-05-16T05:36:07.104793Z",
          "iopub.status.idle": "2022-05-16T05:36:07.228177Z",
          "shell.execute_reply.started": "2022-05-16T05:36:07.104756Z",
          "shell.execute_reply": "2022-05-16T05:36:07.227438Z"
        },
        "trusted": true,
        "colab": {
          "base_uri": "https://localhost:8080/"
        },
        "id": "QKLOd_9-NbsZ",
        "outputId": "7d488886-c430-4ed2-da55-5e2aacefcc60"
      },
      "execution_count": 39,
      "outputs": [
        {
          "output_type": "stream",
          "name": "stderr",
          "text": [
            "Copying files: 809 files [00:00, 4973.73 files/s]\n"
          ]
        }
      ]
    },
    {
      "cell_type": "markdown",
      "source": [
        "## Image Augmentation"
      ],
      "metadata": {
        "id": "CvQZWj-bNbsZ"
      }
    },
    {
      "cell_type": "code",
      "source": [
        "# initialize our data augmentation functions\n",
        "resize = transforms.Resize(size=(WIDTH,HEIGHT))\n",
        "hFlip = transforms.RandomHorizontalFlip(p=0.25)\n",
        "vFlip = transforms.RandomVerticalFlip(p=0.25)\n",
        "rotate = transforms.RandomRotation(degrees=15)\n",
        "coljtr = transforms.ColorJitter(brightness=0.2, contrast=0.2, saturation=0.1, hue=0.1)\n",
        "raf = transforms.RandomAffine(degrees=40, translate=None, scale=(1, 2), shear=15, resample=False, fillcolor=0)\n",
        "rrsc = transforms.RandomResizedCrop(size=WIDTH, scale=(0.8, 1.0))\n",
        "ccp  = transforms.CenterCrop(size=WIDTH)  # Image net standards\n",
        "nrml = transforms.Normalize([0.485, 0.456, 0.406],[0.229, 0.224, 0.225])  # Imagenet standards"
      ],
      "metadata": {
        "execution": {
          "iopub.status.busy": "2022-05-16T05:47:09.909126Z",
          "iopub.execute_input": "2022-05-16T05:47:09.909786Z",
          "iopub.status.idle": "2022-05-16T05:47:09.91651Z",
          "shell.execute_reply.started": "2022-05-16T05:47:09.909751Z",
          "shell.execute_reply": "2022-05-16T05:47:09.915816Z"
        },
        "trusted": true,
        "colab": {
          "base_uri": "https://localhost:8080/"
        },
        "id": "GT78Gbr2NbsZ",
        "outputId": "993fc75c-39a6-4233-aef0-f96e5d48704b"
      },
      "execution_count": 40,
      "outputs": [
        {
          "output_type": "stream",
          "name": "stderr",
          "text": [
            "/usr/local/lib/python3.7/dist-packages/torchvision/transforms/transforms.py:1421: UserWarning: The parameter 'resample' is deprecated since 0.12 and will be removed in 0.14. Please use 'interpolation' instead.\n",
            "  \"The parameter 'resample' is deprecated since 0.12 and will be removed in 0.14. \"\n",
            "/usr/local/lib/python3.7/dist-packages/torchvision/transforms/transforms.py:1436: UserWarning: The parameter 'fillcolor' is deprecated since 0.12 and will be removed in 0.14. Please use 'fill' instead.\n",
            "  \"The parameter 'fillcolor' is deprecated since 0.12 and will be removed in 0.14. \"\n"
          ]
        }
      ]
    },
    {
      "cell_type": "code",
      "source": [
        "# initialize our training and validation set data augmentation\n",
        "# pipeline\n",
        "trainTransforms = transforms.Compose([resize,hFlip,rotate,raf,transforms.ToTensor(),nrml])\n",
        "valTransforms = transforms.Compose([resize,transforms.ToTensor(),nrml])"
      ],
      "metadata": {
        "execution": {
          "iopub.status.busy": "2022-05-16T05:47:09.952241Z",
          "iopub.execute_input": "2022-05-16T05:47:09.952532Z",
          "iopub.status.idle": "2022-05-16T05:47:09.95935Z",
          "shell.execute_reply.started": "2022-05-16T05:47:09.952504Z",
          "shell.execute_reply": "2022-05-16T05:47:09.958651Z"
        },
        "trusted": true,
        "id": "WMgPIdAiNbsZ"
      },
      "execution_count": 41,
      "outputs": []
    },
    {
      "cell_type": "code",
      "source": [
        "# initialize the training and validation dataset\n",
        "print(\"[INFO] loading the training and validation dataset...\")\n",
        "trainDataset = ImageFolder(root='./data/train',transform=trainTransforms)\n",
        "valDataset = ImageFolder(root='./data/val', transform=valTransforms)\n",
        "print(\"[INFO] training dataset contains {} samples...\".format(\n",
        "        len(trainDataset)))\n",
        "print(\"[INFO] validation dataset contains {} samples...\".format(\n",
        "        len(valDataset)))"
      ],
      "metadata": {
        "execution": {
          "iopub.status.busy": "2022-05-16T05:47:09.96745Z",
          "iopub.execute_input": "2022-05-16T05:47:09.967949Z",
          "iopub.status.idle": "2022-05-16T05:47:09.981318Z",
          "shell.execute_reply.started": "2022-05-16T05:47:09.967919Z",
          "shell.execute_reply": "2022-05-16T05:47:09.980491Z"
        },
        "trusted": true,
        "colab": {
          "base_uri": "https://localhost:8080/"
        },
        "id": "kqo4es7-Nbsa",
        "outputId": "2ee3c7ff-bae0-4aee-d59b-bf31300a808d"
      },
      "execution_count": 42,
      "outputs": [
        {
          "output_type": "stream",
          "name": "stdout",
          "text": [
            "[INFO] loading the training and validation dataset...\n",
            "[INFO] training dataset contains 647 samples...\n",
            "[INFO] validation dataset contains 162 samples...\n"
          ]
        }
      ]
    },
    {
      "cell_type": "code",
      "source": [
        "# create training and validation set dataloaders\n",
        "print(\"[INFO] creating training and validation set dataloaders...\")\n",
        "trainDataLoader = DataLoader(trainDataset, batch_size=BS, shuffle=True)\n",
        "valDataLoader = DataLoader(valDataset, batch_size=BS,shuffle=True)"
      ],
      "metadata": {
        "execution": {
          "iopub.status.busy": "2022-05-16T05:47:09.989997Z",
          "iopub.execute_input": "2022-05-16T05:47:09.990288Z",
          "iopub.status.idle": "2022-05-16T05:47:09.995405Z",
          "shell.execute_reply.started": "2022-05-16T05:47:09.99026Z",
          "shell.execute_reply": "2022-05-16T05:47:09.994532Z"
        },
        "trusted": true,
        "colab": {
          "base_uri": "https://localhost:8080/"
        },
        "id": "sUa6bA2uNbsa",
        "outputId": "95b591ea-065c-44c5-f7af-25230fbed735"
      },
      "execution_count": 43,
      "outputs": [
        {
          "output_type": "stream",
          "name": "stdout",
          "text": [
            "[INFO] creating training and validation set dataloaders...\n"
          ]
        }
      ]
    },
    {
      "cell_type": "code",
      "source": [
        "examples = iter(valDataLoader)\n",
        "example_data, example_targets = examples.next()\n",
        "for i in range(9):\n",
        "    plt.subplot(3,3,i+1)\n",
        "    plt.imshow(example_data[i].permute(1, 2, 0))\n",
        "    plt.axis(\"off\")\n",
        "plt.show() "
      ],
      "metadata": {
        "execution": {
          "iopub.status.busy": "2022-05-16T05:47:10.013131Z",
          "iopub.execute_input": "2022-05-16T05:47:10.01355Z",
          "iopub.status.idle": "2022-05-16T05:47:10.849727Z",
          "shell.execute_reply.started": "2022-05-16T05:47:10.013521Z",
          "shell.execute_reply": "2022-05-16T05:47:10.849009Z"
        },
        "trusted": true,
        "colab": {
          "base_uri": "https://localhost:8080/",
          "height": 404
        },
        "id": "LAbYTk9cNbsb",
        "outputId": "771307ce-caea-43a3-8ddf-bf63f9a20a27"
      },
      "execution_count": 44,
      "outputs": [
        {
          "output_type": "stream",
          "name": "stderr",
          "text": [
            "Clipping input data to the valid range for imshow with RGB data ([0..1] for floats or [0..255] for integers).\n",
            "Clipping input data to the valid range for imshow with RGB data ([0..1] for floats or [0..255] for integers).\n",
            "Clipping input data to the valid range for imshow with RGB data ([0..1] for floats or [0..255] for integers).\n",
            "Clipping input data to the valid range for imshow with RGB data ([0..1] for floats or [0..255] for integers).\n",
            "Clipping input data to the valid range for imshow with RGB data ([0..1] for floats or [0..255] for integers).\n",
            "Clipping input data to the valid range for imshow with RGB data ([0..1] for floats or [0..255] for integers).\n",
            "Clipping input data to the valid range for imshow with RGB data ([0..1] for floats or [0..255] for integers).\n",
            "Clipping input data to the valid range for imshow with RGB data ([0..1] for floats or [0..255] for integers).\n",
            "Clipping input data to the valid range for imshow with RGB data ([0..1] for floats or [0..255] for integers).\n"
          ]
        },
        {
          "output_type": "display_data",
          "data": {
            "text/plain": [
              "<Figure size 432x288 with 9 Axes>"
            ],
            "image/png": "[encoded data removed]"
          },
          "metadata": {
            "needs_background": "light"
          }
        }
      ]
    },
    {
      "cell_type": "code",
      "source": [
        "import torchvision.models as models\n"
      ],
      "metadata": {
        "execution": {
          "iopub.status.busy": "2022-05-16T05:47:10.851381Z",
          "iopub.execute_input": "2022-05-16T05:47:10.852167Z",
          "iopub.status.idle": "2022-05-16T05:47:10.85613Z",
          "shell.execute_reply.started": "2022-05-16T05:47:10.852112Z",
          "shell.execute_reply": "2022-05-16T05:47:10.855291Z"
        },
        "trusted": true,
        "id": "703Ll78RNbsb"
      },
      "execution_count": 45,
      "outputs": []
    },
    {
      "cell_type": "code",
      "source": [
        "print(trainDataset.class_to_idx)"
      ],
      "metadata": {
        "execution": {
          "iopub.status.busy": "2022-05-16T05:47:10.857511Z",
          "iopub.execute_input": "2022-05-16T05:47:10.85779Z",
          "iopub.status.idle": "2022-05-16T05:47:10.867354Z",
          "shell.execute_reply.started": "2022-05-16T05:47:10.857752Z",
          "shell.execute_reply": "2022-05-16T05:47:10.866598Z"
        },
        "trusted": true,
        "colab": {
          "base_uri": "https://localhost:8080/"
        },
        "id": "lsNSFaCpNbsb",
        "outputId": "e096f39f-9ad8-471a-adfd-d0693c528f28"
      },
      "execution_count": 46,
      "outputs": [
        {
          "output_type": "stream",
          "name": "stdout",
          "text": [
            "{'Adidas': 0, 'Apple': 1, 'BMW': 2, 'Citroen': 3, 'Cocacola': 4, 'DHL': 5, 'Fedex': 6, 'Ferrari': 7, 'Ford': 8, 'Google': 9, 'HP': 10, 'Heineken': 11, 'Intel': 12, 'McDonalds': 13, 'Mini': 14, 'Nbc': 15, 'Nike': 16, 'Pepsi': 17, 'Porsche': 18, 'Puma': 19, 'RedBull': 20, 'Sprite': 21, 'Starbucks': 22, 'Texaco': 23, 'Unicef': 24, 'Vodafone': 25, 'Yahoo': 26}\n"
          ]
        }
      ]
    },
    {
      "cell_type": "markdown",
      "source": [
        "## Model Architecture - InceptionV3"
      ],
      "metadata": {
        "id": "fIQQtr8gNbsb"
      }
    },
    {
      "cell_type": "code",
      "source": [
        "device = torch.device(\"cuda\" if torch.cuda.is_available() else \"cpu\")\n",
        "print(device)"
      ],
      "metadata": {
        "colab": {
          "base_uri": "https://localhost:8080/"
        },
        "id": "8FeVGG3RjdEc",
        "outputId": "8389d367-6e68-4d88-ac3e-c0f071af2075"
      },
      "execution_count": 47,
      "outputs": [
        {
          "output_type": "stream",
          "name": "stdout",
          "text": [
            "cuda\n"
          ]
        }
      ]
    },
    {
      "cell_type": "code",
      "source": [
        "model = models.mobilenet_v2(pretrained=True)\n",
        "model.aux_logits=False\n",
        "\n",
        "# Freeze training for all layers\n",
        "for param in model.parameters():\n",
        "    param.requires_grad = False\n",
        "\n",
        "# append a new classification top to our feature extractor and pop it\n",
        "# on to the current device\n",
        "num_feat = model.classifier[1].in_features\n",
        "\n",
        "features = list(model.classifier.children())[:-1] # Remove last layer\n",
        "\n",
        "features.extend([nn.Linear(num_feat, 256),\n",
        "                 nn.Dropout(0.5),\n",
        "                 nn.ReLU(inplace=True), \n",
        "                 nn.Linear(256, len(trainDataset.classes)),                   \n",
        "                 nn.LogSoftmax(dim=1)]) # Add our layer with 4 outputs\n",
        "model.classifier = nn.Sequential(*features) # Replace the model classifier\n",
        "\n",
        "# model.classifier[1] = nn.Sequential(\n",
        "#                       nn.Linear(model.classifier[1].in_features, 64), \n",
        "#                       nn.Dropout(0.5),\n",
        "#                       nn.ReLU(inplace=True), \n",
        "#                       nn.Linear(64, len(trainDataset.classes)),                   \n",
        "#                       nn.LogSoftmax(dim=1))\n",
        "model = model.to(device)"
      ],
      "metadata": {
        "execution": {
          "iopub.status.busy": "2022-05-16T07:41:31.529635Z",
          "iopub.execute_input": "2022-05-16T07:41:31.53042Z",
          "iopub.status.idle": "2022-05-16T07:41:31.654795Z",
          "shell.execute_reply.started": "2022-05-16T07:41:31.530381Z",
          "shell.execute_reply": "2022-05-16T07:41:31.654084Z"
        },
        "trusted": true,
        "id": "BpYJLZ33Nbsb"
      },
      "execution_count": 80,
      "outputs": []
    },
    {
      "cell_type": "markdown",
      "source": [
        "## Loss Function and Optimizer"
      ],
      "metadata": {
        "id": "li4-Z-UvNbsb"
      }
    },
    {
      "cell_type": "code",
      "source": [
        "loss_func = nn.NLLLoss()\n",
        "optimizer = torch.optim.Adam(model.parameters())"
      ],
      "metadata": {
        "execution": {
          "iopub.status.busy": "2022-05-16T07:41:31.656213Z",
          "iopub.execute_input": "2022-05-16T07:41:31.65649Z",
          "iopub.status.idle": "2022-05-16T07:41:31.662071Z",
          "shell.execute_reply.started": "2022-05-16T07:41:31.656457Z",
          "shell.execute_reply": "2022-05-16T07:41:31.661018Z"
        },
        "trusted": true,
        "id": "_dsbfzzSNbsb"
      },
      "execution_count": 81,
      "outputs": []
    },
    {
      "cell_type": "markdown",
      "source": [
        "## Train Function"
      ],
      "metadata": {
        "id": "MQz3GGMqNbsc"
      }
    },
    {
      "cell_type": "code",
      "source": [
        "def train(epoch):\n",
        "  model.train()\n",
        "  net_loss = 0\n",
        "  correct = 0\n",
        "  for batch_idx, (data, target) in enumerate(trainDataLoader):\n",
        "    (data, target) = (data.to(device), target.to(device))\n",
        "    optimizer.zero_grad()\n",
        "    output = model(data)\n",
        "    loss = loss_func(output, target)\n",
        "    output = torch.exp(output)\n",
        "    pred = output.data.max(1, keepdim=True)[1]\n",
        "    correct += pred.eq(target.data.view_as(pred)).sum()\n",
        "    loss.backward()\n",
        "    optimizer.step()\n",
        "    \n",
        "    net_loss = net_loss + loss.item()\n",
        "  acc = correct / len(trainDataLoader.dataset)\n",
        "  return net_loss,acc"
      ],
      "metadata": {
        "execution": {
          "iopub.status.busy": "2022-05-16T07:41:31.663224Z",
          "iopub.execute_input": "2022-05-16T07:41:31.663768Z",
          "iopub.status.idle": "2022-05-16T07:41:31.673194Z",
          "shell.execute_reply.started": "2022-05-16T07:41:31.663729Z",
          "shell.execute_reply": "2022-05-16T07:41:31.672441Z"
        },
        "trusted": true,
        "id": "E9ZqNlJRNbsc"
      },
      "execution_count": 82,
      "outputs": []
    },
    {
      "cell_type": "markdown",
      "source": [
        "## Test Function"
      ],
      "metadata": {
        "id": "-UBdyVyANbsc"
      }
    },
    {
      "cell_type": "code",
      "source": [
        "def test():\n",
        "  model.eval()\n",
        "  test_loss = 0\n",
        "  correct = 0\n",
        "  with torch.no_grad():\n",
        "    for data, target in valDataLoader:\n",
        "      (data, target) = (data.to(device), target.to(device))\n",
        "      output = model(data)\n",
        "      test_loss += loss_func(output, target).item()\n",
        "      output = torch.exp(output)\n",
        "      pred = output.data.max(1, keepdim=True)[1]\n",
        "      correct += pred.eq(target.data.view_as(pred)).sum()\n",
        "  test_loss /= len(valDataLoader.dataset)\n",
        "  acc = correct / len(valDataLoader.dataset)\n",
        "  return test_loss,acc"
      ],
      "metadata": {
        "execution": {
          "iopub.status.busy": "2022-05-16T07:41:31.674947Z",
          "iopub.execute_input": "2022-05-16T07:41:31.675721Z",
          "iopub.status.idle": "2022-05-16T07:41:31.683659Z",
          "shell.execute_reply.started": "2022-05-16T07:41:31.675682Z",
          "shell.execute_reply": "2022-05-16T07:41:31.682832Z"
        },
        "trusted": true,
        "id": "K9eOqqFdNbsc"
      },
      "execution_count": 83,
      "outputs": []
    },
    {
      "cell_type": "markdown",
      "source": [
        "## Driver Code"
      ],
      "metadata": {
        "id": "j4CgWWU4Nbsc"
      }
    },
    {
      "cell_type": "code",
      "source": [
        "LOSS = []\n",
        "ACC = []\n",
        "import time\n",
        "n_epochs = 200\n",
        "for epoch in range(1, n_epochs + 1):\n",
        "  start = time.time()\n",
        "  print(\"--- Epoch {} ---\".format(epoch))\n",
        "  epoch_loss,tracc = train(epoch)\n",
        "  LOSS.append(epoch_loss)\n",
        "  print(\"\\tTrain Accuracy = {} || Train Loss  = {} \".format(tracc,epoch_loss))\n",
        "  tloss,tacc =  test()\n",
        "  print(\"\\tTest Accuracy =  {} || Test Loss = {} \".format(tacc,tloss))\n",
        "  ACC.append(tacc)\n",
        "  stop = time.time()\n",
        "  print(\"\\tTraining time = \", (stop - start))"
      ],
      "metadata": {
        "execution": {
          "iopub.status.busy": "2022-05-16T07:41:31.698542Z",
          "iopub.execute_input": "2022-05-16T07:41:31.698818Z",
          "iopub.status.idle": "2022-05-16T08:26:48.929577Z",
          "shell.execute_reply.started": "2022-05-16T07:41:31.698791Z",
          "shell.execute_reply": "2022-05-16T08:26:48.928806Z"
        },
        "trusted": true,
        "colab": {
          "base_uri": "https://localhost:8080/"
        },
        "id": "rjM63VVQNbsc",
        "outputId": "3a4bbb5b-63a9-44f6-8fac-6bb3699dbbe5"
      },
      "execution_count": 84,
      "outputs": [
        {
          "output_type": "stream",
          "name": "stdout",
          "text": [
            "--- Epoch 1 ---\n",
            "\tTrain Accuracy = 0.04945904016494751 || Train Loss  = 9.885719060897827 \n",
            "\tTest Accuracy =  0.20370370149612427 || Test Loss = 0.019408686661425933 \n",
            "\tTraining time =  4.689797878265381\n",
            "--- Epoch 2 ---\n",
            "\tTrain Accuracy = 0.17310664057731628 || Train Loss  = 9.101115226745605 \n",
            "\tTest Accuracy =  0.34567901492118835 || Test Loss = 0.018334504998760458 \n",
            "\tTraining time =  4.48222804069519\n",
            "--- Epoch 3 ---\n",
            "\tTrain Accuracy = 0.3106645941734314 || Train Loss  = 8.392996072769165 \n",
            "\tTest Accuracy =  0.3827160596847534 || Test Loss = 0.017107255664872534 \n",
            "\tTraining time =  4.467861652374268\n",
            "--- Epoch 4 ---\n",
            "\tTrain Accuracy = 0.3678516149520874 || Train Loss  = 7.590187311172485 \n",
            "\tTest Accuracy =  0.5555555820465088 || Test Loss = 0.01583106135144646 \n",
            "\tTraining time =  4.491104364395142\n",
            "--- Epoch 5 ---\n",
            "\tTrain Accuracy = 0.45131373405456543 || Train Loss  = 6.832977056503296 \n",
            "\tTest Accuracy =  0.5740740895271301 || Test Loss = 0.014637209750987866 \n",
            "\tTraining time =  4.519397974014282\n",
            "--- Epoch 6 ---\n",
            "\tTrain Accuracy = 0.5162287354469299 || Train Loss  = 6.14277195930481 \n",
            "\tTest Accuracy =  0.5925925970077515 || Test Loss = 0.013635900285508897 \n",
            "\tTraining time =  4.44128155708313\n",
            "--- Epoch 7 ---\n",
            "\tTrain Accuracy = 0.5409582257270813 || Train Loss  = 5.613561034202576 \n",
            "\tTest Accuracy =  0.5987654328346252 || Test Loss = 0.012833927884513948 \n",
            "\tTraining time =  4.410799503326416\n",
            "--- Epoch 8 ---\n",
            "\tTrain Accuracy = 0.5888717174530029 || Train Loss  = 5.1053056716918945 \n",
            "\tTest Accuracy =  0.6604938507080078 || Test Loss = 0.0119234205764017 \n",
            "\tTraining time =  4.487391710281372\n",
            "--- Epoch 9 ---\n",
            "\tTrain Accuracy = 0.6197835803031921 || Train Loss  = 4.702513217926025 \n",
            "\tTest Accuracy =  0.6913580298423767 || Test Loss = 0.011146278293044478 \n",
            "\tTraining time =  4.453814268112183\n",
            "--- Epoch 10 ---\n",
            "\tTrain Accuracy = 0.6522411108016968 || Train Loss  = 4.322698473930359 \n",
            "\tTest Accuracy =  0.6913580298423767 || Test Loss = 0.010616869102289647 \n",
            "\tTraining time =  4.469210386276245\n",
            "--- Epoch 11 ---\n",
            "\tTrain Accuracy = 0.7078825235366821 || Train Loss  = 3.889968752861023 \n",
            "\tTest Accuracy =  0.7037037014961243 || Test Loss = 0.010235798211745273 \n",
            "\tTraining time =  4.524142026901245\n",
            "--- Epoch 12 ---\n",
            "\tTrain Accuracy = 0.683152973651886 || Train Loss  = 3.704732060432434 \n",
            "\tTest Accuracy =  0.6851851940155029 || Test Loss = 0.009767803145043644 \n",
            "\tTraining time =  4.617927551269531\n",
            "--- Epoch 13 ---\n",
            "\tTrain Accuracy = 0.698608934879303 || Train Loss  = 3.4677202701568604 \n",
            "\tTest Accuracy =  0.709876537322998 || Test Loss = 0.009263334450898346 \n",
            "\tTraining time =  4.83254599571228\n",
            "--- Epoch 14 ---\n",
            "\tTrain Accuracy = 0.698608934879303 || Train Loss  = 3.4259438514709473 \n",
            "\tTest Accuracy =  0.7407407760620117 || Test Loss = 0.00891457442884092 \n",
            "\tTraining time =  4.424920320510864\n",
            "--- Epoch 15 ---\n",
            "\tTrain Accuracy = 0.7341576218605042 || Train Loss  = 3.1813056468963623 \n",
            "\tTest Accuracy =  0.7222222089767456 || Test Loss = 0.008613596727818619 \n",
            "\tTraining time =  4.427013635635376\n",
            "--- Epoch 16 ---\n",
            "\tTrain Accuracy = 0.7418856024742126 || Train Loss  = 2.9342904090881348 \n",
            "\tTest Accuracy =  0.7345678806304932 || Test Loss = 0.00840994605311641 \n",
            "\tTraining time =  4.446357488632202\n",
            "--- Epoch 17 ---\n",
            "\tTrain Accuracy = 0.7542503476142883 || Train Loss  = 2.946711480617523 \n",
            "\tTest Accuracy =  0.709876537322998 || Test Loss = 0.008136821381839705 \n",
            "\tTraining time =  4.470472574234009\n",
            "--- Epoch 18 ---\n",
            "\tTrain Accuracy = 0.7650695443153381 || Train Loss  = 2.65314644575119 \n",
            "\tTest Accuracy =  0.7037037014961243 || Test Loss = 0.008054915769600574 \n",
            "\tTraining time =  4.495534181594849\n",
            "--- Epoch 19 ---\n",
            "\tTrain Accuracy = 0.7851622700691223 || Train Loss  = 2.6346534490585327 \n",
            "\tTest Accuracy =  0.7345678806304932 || Test Loss = 0.00789287355211046 \n",
            "\tTraining time =  4.433048248291016\n",
            "--- Epoch 20 ---\n",
            "\tTrain Accuracy = 0.7851622700691223 || Train Loss  = 2.545577049255371 \n",
            "\tTest Accuracy =  0.7222222089767456 || Test Loss = 0.007738485012525394 \n",
            "\tTraining time =  4.444868803024292\n",
            "--- Epoch 21 ---\n",
            "\tTrain Accuracy = 0.8021637797355652 || Train Loss  = 2.4217745065689087 \n",
            "\tTest Accuracy =  0.7469136118888855 || Test Loss = 0.007523232772026533 \n",
            "\tTraining time =  4.463068246841431\n",
            "--- Epoch 22 ---\n",
            "\tTrain Accuracy = 0.8114373683929443 || Train Loss  = 2.2753276228904724 \n",
            "\tTest Accuracy =  0.7345678806304932 || Test Loss = 0.0073056978943907185 \n",
            "\tTraining time =  4.4709625244140625\n",
            "--- Epoch 23 ---\n",
            "\tTrain Accuracy = 0.8006182312965393 || Train Loss  = 2.2880666255950928 \n",
            "\tTest Accuracy =  0.7345678806304932 || Test Loss = 0.007263068799619321 \n",
            "\tTraining time =  4.513947248458862\n",
            "--- Epoch 24 ---\n",
            "\tTrain Accuracy = 0.8098917603492737 || Train Loss  = 2.2241204977035522 \n",
            "\tTest Accuracy =  0.7037037014961243 || Test Loss = 0.007229837370507511 \n",
            "\tTraining time =  4.488427400588989\n",
            "--- Epoch 25 ---\n",
            "\tTrain Accuracy = 0.82380211353302 || Train Loss  = 2.1937811970710754 \n",
            "\tTest Accuracy =  0.7160493731498718 || Test Loss = 0.007090664940115846 \n",
            "\tTraining time =  4.554939270019531\n",
            "--- Epoch 26 ---\n",
            "\tTrain Accuracy = 0.8145285844802856 || Train Loss  = 1.9570264220237732 \n",
            "\tTest Accuracy =  0.7222222089767456 || Test Loss = 0.006967501875794964 \n",
            "\tTraining time =  4.454257249832153\n",
            "--- Epoch 27 ---\n",
            "\tTrain Accuracy = 0.839258074760437 || Train Loss  = 1.9206180572509766 \n",
            "\tTest Accuracy =  0.7283950448036194 || Test Loss = 0.006827724568637801 \n",
            "\tTraining time =  4.422592639923096\n",
            "--- Epoch 28 ---\n",
            "\tTrain Accuracy = 0.828438937664032 || Train Loss  = 2.135567784309387 \n",
            "\tTest Accuracy =  0.7160493731498718 || Test Loss = 0.00671626020360876 \n",
            "\tTraining time =  4.4610371589660645\n",
            "--- Epoch 29 ---\n",
            "\tTrain Accuracy = 0.8299845457077026 || Train Loss  = 1.9745507836341858 \n",
            "\tTest Accuracy =  0.7037037014961243 || Test Loss = 0.006641744095602154 \n",
            "\tTraining time =  4.470901012420654\n",
            "--- Epoch 30 ---\n",
            "\tTrain Accuracy = 0.8423492908477783 || Train Loss  = 1.8839588165283203 \n",
            "\tTest Accuracy =  0.7222222089767456 || Test Loss = 0.006591942575242784 \n",
            "\tTraining time =  4.461047887802124\n",
            "--- Epoch 31 ---\n",
            "\tTrain Accuracy = 0.8222565650939941 || Train Loss  = 1.871690571308136 \n",
            "\tTest Accuracy =  0.709876537322998 || Test Loss = 0.00666151370531247 \n",
            "\tTraining time =  4.46544075012207\n",
            "--- Epoch 32 ---\n",
            "\tTrain Accuracy = 0.8608964085578918 || Train Loss  = 1.7400871515274048 \n",
            "\tTest Accuracy =  0.6913580298423767 || Test Loss = 0.006632109483083089 \n",
            "\tTraining time =  4.470213413238525\n",
            "--- Epoch 33 ---\n",
            "\tTrain Accuracy = 0.8408036828041077 || Train Loss  = 1.7645979523658752 \n",
            "\tTest Accuracy =  0.7283950448036194 || Test Loss = 0.006543763625768967 \n",
            "\tTraining time =  4.445981979370117\n",
            "--- Epoch 34 ---\n",
            "\tTrain Accuracy = 0.8531684279441833 || Train Loss  = 1.7078611254692078 \n",
            "\tTest Accuracy =  0.7283950448036194 || Test Loss = 0.006379263636506634 \n",
            "\tTraining time =  4.495079278945923\n",
            "--- Epoch 35 ---\n",
            "\tTrain Accuracy = 0.8408036828041077 || Train Loss  = 1.8113641738891602 \n",
            "\tTest Accuracy =  0.7469136118888855 || Test Loss = 0.006281549547925407 \n",
            "\tTraining time =  4.46491551399231\n",
            "--- Epoch 36 ---\n",
            "\tTrain Accuracy = 0.839258074760437 || Train Loss  = 1.785750687122345 \n",
            "\tTest Accuracy =  0.7469136118888855 || Test Loss = 0.006223609418044855 \n",
            "\tTraining time =  4.485716104507446\n",
            "--- Epoch 37 ---\n",
            "\tTrain Accuracy = 0.8825347423553467 || Train Loss  = 1.6013643443584442 \n",
            "\tTest Accuracy =  0.7469136118888855 || Test Loss = 0.006217323703530394 \n",
            "\tTraining time =  4.503255605697632\n",
            "--- Epoch 38 ---\n",
            "\tTrain Accuracy = 0.8423492908477783 || Train Loss  = 1.74275541305542 \n",
            "\tTest Accuracy =  0.7283950448036194 || Test Loss = 0.006175886701654505 \n",
            "\tTraining time =  4.626838445663452\n",
            "--- Epoch 39 ---\n",
            "\tTrain Accuracy = 0.854714035987854 || Train Loss  = 1.6130755543708801 \n",
            "\tTest Accuracy =  0.7222222089767456 || Test Loss = 0.00607854238262883 \n",
            "\tTraining time =  4.57970404624939\n",
            "--- Epoch 40 ---\n",
            "\tTrain Accuracy = 0.8531684279441833 || Train Loss  = 1.553801566362381 \n",
            "\tTest Accuracy =  0.7283950448036194 || Test Loss = 0.00604669878512253 \n",
            "\tTraining time =  4.6223015785217285\n",
            "--- Epoch 41 ---\n",
            "\tTrain Accuracy = 0.8624420166015625 || Train Loss  = 1.5269145667552948 \n",
            "\tTest Accuracy =  0.7345678806304932 || Test Loss = 0.006104807058970134 \n",
            "\tTraining time =  4.596956253051758\n",
            "--- Epoch 42 ---\n",
            "\tTrain Accuracy = 0.885625958442688 || Train Loss  = 1.4277278780937195 \n",
            "\tTest Accuracy =  0.7283950448036194 || Test Loss = 0.006200115621825795 \n",
            "\tTraining time =  4.621400594711304\n",
            "--- Epoch 43 ---\n",
            "\tTrain Accuracy = 0.8593508005142212 || Train Loss  = 1.5371412634849548 \n",
            "\tTest Accuracy =  0.7345678806304932 || Test Loss = 0.0059848350507241705 \n",
            "\tTraining time =  4.6707353591918945\n",
            "--- Epoch 44 ---\n",
            "\tTrain Accuracy = 0.8578052520751953 || Train Loss  = 1.5083903670310974 \n",
            "\tTest Accuracy =  0.7469136118888855 || Test Loss = 0.005725327833199206 \n",
            "\tTraining time =  4.629116058349609\n",
            "--- Epoch 45 ---\n",
            "\tTrain Accuracy = 0.8624420166015625 || Train Loss  = 1.417309820652008 \n",
            "\tTest Accuracy =  0.7407407760620117 || Test Loss = 0.005799520162888515 \n",
            "\tTraining time =  4.59332537651062\n",
            "--- Epoch 46 ---\n",
            "\tTrain Accuracy = 0.8516228199005127 || Train Loss  = 1.5511744618415833 \n",
            "\tTest Accuracy =  0.7469136118888855 || Test Loss = 0.005849245521757338 \n",
            "\tTraining time =  4.614259243011475\n",
            "--- Epoch 47 ---\n",
            "\tTrain Accuracy = 0.8732611536979675 || Train Loss  = 1.4824083745479584 \n",
            "\tTest Accuracy =  0.7469136118888855 || Test Loss = 0.005863826216003041 \n",
            "\tTraining time =  4.618109464645386\n",
            "--- Epoch 48 ---\n",
            "\tTrain Accuracy = 0.8794435858726501 || Train Loss  = 1.3658429086208344 \n",
            "\tTest Accuracy =  0.7592592835426331 || Test Loss = 0.005877623587478826 \n",
            "\tTraining time =  4.6383445262908936\n",
            "--- Epoch 49 ---\n",
            "\tTrain Accuracy = 0.8840803503990173 || Train Loss  = 1.2361156642436981 \n",
            "\tTest Accuracy =  0.7530864477157593 || Test Loss = 0.005753032219262771 \n",
            "\tTraining time =  4.6132752895355225\n",
            "--- Epoch 50 ---\n",
            "\tTrain Accuracy = 0.8732611536979675 || Train Loss  = 1.4608310759067535 \n",
            "\tTest Accuracy =  0.7592592835426331 || Test Loss = 0.0056981668796068355 \n",
            "\tTraining time =  4.660797119140625\n",
            "--- Epoch 51 ---\n",
            "\tTrain Accuracy = 0.9010818600654602 || Train Loss  = 1.3216196596622467 \n",
            "\tTest Accuracy =  0.7345678806304932 || Test Loss = 0.005713274449477961 \n",
            "\tTraining time =  4.8223488330841064\n",
            "--- Epoch 52 ---\n",
            "\tTrain Accuracy = 0.8825347423553467 || Train Loss  = 1.42068213224411 \n",
            "\tTest Accuracy =  0.7469136118888855 || Test Loss = 0.005678322580125596 \n",
            "\tTraining time =  4.623503923416138\n",
            "--- Epoch 53 ---\n",
            "\tTrain Accuracy = 0.870169997215271 || Train Loss  = 1.3432210385799408 \n",
            "\tTest Accuracy =  0.7530864477157593 || Test Loss = 0.005803572542873429 \n",
            "\tTraining time =  4.605748414993286\n",
            "--- Epoch 54 ---\n",
            "\tTrain Accuracy = 0.885625958442688 || Train Loss  = 1.2545752823352814 \n",
            "\tTest Accuracy =  0.7530864477157593 || Test Loss = 0.005875012756865702 \n",
            "\tTraining time =  4.607167720794678\n",
            "--- Epoch 55 ---\n",
            "\tTrain Accuracy = 0.8840803503990173 || Train Loss  = 1.3755053877830505 \n",
            "\tTest Accuracy =  0.7530864477157593 || Test Loss = 0.005713260468141532 \n",
            "\tTraining time =  4.648820877075195\n",
            "--- Epoch 56 ---\n",
            "\tTrain Accuracy = 0.880989134311676 || Train Loss  = 1.3153048753738403 \n",
            "\tTest Accuracy =  0.7716049551963806 || Test Loss = 0.00538973307903902 \n",
            "\tTraining time =  4.601311683654785\n",
            "--- Epoch 57 ---\n",
            "\tTrain Accuracy = 0.8639876246452332 || Train Loss  = 1.3209317326545715 \n",
            "\tTest Accuracy =  0.7530864477157593 || Test Loss = 0.00526722824132001 \n",
            "\tTraining time =  4.621081590652466\n",
            "--- Epoch 58 ---\n",
            "\tTrain Accuracy = 0.8933539390563965 || Train Loss  = 1.1849404573440552 \n",
            "\tTest Accuracy =  0.7469136118888855 || Test Loss = 0.005377081073360678 \n",
            "\tTraining time =  4.563620328903198\n",
            "--- Epoch 59 ---\n",
            "\tTrain Accuracy = 0.9026274681091309 || Train Loss  = 1.1658073961734772 \n",
            "\tTest Accuracy =  0.7530864477157593 || Test Loss = 0.005497473625489223 \n",
            "\tTraining time =  4.629149913787842\n",
            "--- Epoch 60 ---\n",
            "\tTrain Accuracy = 0.9010818600654602 || Train Loss  = 1.176582008600235 \n",
            "\tTest Accuracy =  0.7777777910232544 || Test Loss = 0.005318431574621319 \n",
            "\tTraining time =  4.665147304534912\n",
            "--- Epoch 61 ---\n",
            "\tTrain Accuracy = 0.8825347423553467 || Train Loss  = 1.1966830492019653 \n",
            "\tTest Accuracy =  0.7839506268501282 || Test Loss = 0.005266404814190335 \n",
            "\tTraining time =  4.658784627914429\n",
            "--- Epoch 62 ---\n",
            "\tTrain Accuracy = 0.9165378212928772 || Train Loss  = 1.099286139011383 \n",
            "\tTest Accuracy =  0.7592592835426331 || Test Loss = 0.00551407719835823 \n",
            "\tTraining time =  5.06377649307251\n",
            "--- Epoch 63 ---\n",
            "\tTrain Accuracy = 0.8887171149253845 || Train Loss  = 1.1999363899230957 \n",
            "\tTest Accuracy =  0.7469136118888855 || Test Loss = 0.005482984545790119 \n",
            "\tTraining time =  6.512303829193115\n",
            "--- Epoch 64 ---\n",
            "\tTrain Accuracy = 0.9149922132492065 || Train Loss  = 1.1364108324050903 \n",
            "\tTest Accuracy =  0.7592592835426331 || Test Loss = 0.005362566606498059 \n",
            "\tTraining time =  4.575934886932373\n",
            "--- Epoch 65 ---\n",
            "\tTrain Accuracy = 0.8887171149253845 || Train Loss  = 1.1317550241947174 \n",
            "\tTest Accuracy =  0.7654321193695068 || Test Loss = 0.0053126046686996645 \n",
            "\tTraining time =  4.584014415740967\n",
            "--- Epoch 66 ---\n",
            "\tTrain Accuracy = 0.9196290373802185 || Train Loss  = 1.012242078781128 \n",
            "\tTest Accuracy =  0.7716049551963806 || Test Loss = 0.0052060275166123 \n",
            "\tTraining time =  4.59030818939209\n",
            "--- Epoch 67 ---\n",
            "\tTrain Accuracy = 0.9057186841964722 || Train Loss  = 1.053506761789322 \n",
            "\tTest Accuracy =  0.7716049551963806 || Test Loss = 0.005051358614438846 \n",
            "\tTraining time =  4.63885498046875\n",
            "--- Epoch 68 ---\n",
            "\tTrain Accuracy = 0.91190105676651 || Train Loss  = 1.0489287972450256 \n",
            "\tTest Accuracy =  0.7530864477157593 || Test Loss = 0.005040621683921343 \n",
            "\tTraining time =  4.674401760101318\n",
            "--- Epoch 69 ---\n",
            "\tTrain Accuracy = 0.896445095539093 || Train Loss  = 1.2598728239536285 \n",
            "\tTest Accuracy =  0.7345678806304932 || Test Loss = 0.005252817162760982 \n",
            "\tTraining time =  4.667188405990601\n",
            "--- Epoch 70 ---\n",
            "\tTrain Accuracy = 0.9041730761528015 || Train Loss  = 1.1947941482067108 \n",
            "\tTest Accuracy =  0.7345678806304932 || Test Loss = 0.005451533161563638 \n",
            "\tTraining time =  4.62814474105835\n",
            "--- Epoch 71 ---\n",
            "\tTrain Accuracy = 0.8902627229690552 || Train Loss  = 1.112097829580307 \n",
            "\tTest Accuracy =  0.7345678806304932 || Test Loss = 0.0055409246756706705 \n",
            "\tTraining time =  4.6204915046691895\n",
            "--- Epoch 72 ---\n",
            "\tTrain Accuracy = 0.9242658019065857 || Train Loss  = 0.9631421267986298 \n",
            "\tTest Accuracy =  0.7654321193695068 || Test Loss = 0.005482301299954638 \n",
            "\tTraining time =  4.656769037246704\n",
            "--- Epoch 73 ---\n",
            "\tTrain Accuracy = 0.9196290373802185 || Train Loss  = 0.8723249137401581 \n",
            "\tTest Accuracy =  0.7716049551963806 || Test Loss = 0.005291646277462995 \n",
            "\tTraining time =  4.636025428771973\n",
            "--- Epoch 74 ---\n",
            "\tTrain Accuracy = 0.9041730761528015 || Train Loss  = 1.0028660893440247 \n",
            "\tTest Accuracy =  0.7777777910232544 || Test Loss = 0.005132778191272123 \n",
            "\tTraining time =  4.643747806549072\n",
            "--- Epoch 75 ---\n",
            "\tTrain Accuracy = 0.9010818600654602 || Train Loss  = 1.0727485418319702 \n",
            "\tTest Accuracy =  0.7716049551963806 || Test Loss = 0.0051475667659147285 \n",
            "\tTraining time =  4.843878507614136\n",
            "--- Epoch 76 ---\n",
            "\tTrain Accuracy = 0.9010818600654602 || Train Loss  = 0.994161993265152 \n",
            "\tTest Accuracy =  0.7654321193695068 || Test Loss = 0.005241092340445813 \n",
            "\tTraining time =  4.633481025695801\n",
            "--- Epoch 77 ---\n",
            "\tTrain Accuracy = 0.9242658019065857 || Train Loss  = 0.8971540033817291 \n",
            "\tTest Accuracy =  0.7530864477157593 || Test Loss = 0.005313012702965442 \n",
            "\tTraining time =  4.599871397018433\n",
            "--- Epoch 78 ---\n",
            "\tTrain Accuracy = 0.9165378212928772 || Train Loss  = 0.9425312578678131 \n",
            "\tTest Accuracy =  0.7592592835426331 || Test Loss = 0.005459058431931484 \n",
            "\tTraining time =  4.576786994934082\n",
            "--- Epoch 79 ---\n",
            "\tTrain Accuracy = 0.9180834293365479 || Train Loss  = 0.9036605656147003 \n",
            "\tTest Accuracy =  0.7592592835426331 || Test Loss = 0.005295934132587762 \n",
            "\tTraining time =  4.665978193283081\n",
            "--- Epoch 80 ---\n",
            "\tTrain Accuracy = 0.9088098406791687 || Train Loss  = 0.9484943449497223 \n",
            "\tTest Accuracy =  0.7716049551963806 || Test Loss = 0.005179057518641154 \n",
            "\tTraining time =  4.635644197463989\n",
            "--- Epoch 81 ---\n",
            "\tTrain Accuracy = 0.9057186841964722 || Train Loss  = 0.9245120286941528 \n",
            "\tTest Accuracy =  0.7654321193695068 || Test Loss = 0.004998661485719092 \n",
            "\tTraining time =  4.62164044380188\n",
            "--- Epoch 82 ---\n",
            "\tTrain Accuracy = 0.9041730761528015 || Train Loss  = 0.9955582618713379 \n",
            "\tTest Accuracy =  0.7716049551963806 || Test Loss = 0.005025115645961997 \n",
            "\tTraining time =  4.579845190048218\n",
            "--- Epoch 83 ---\n",
            "\tTrain Accuracy = 0.9103554487228394 || Train Loss  = 0.857745572924614 \n",
            "\tTest Accuracy =  0.7654321193695068 || Test Loss = 0.005180611654564187 \n",
            "\tTraining time =  4.622943639755249\n",
            "--- Epoch 84 ---\n",
            "\tTrain Accuracy = 0.9165378212928772 || Train Loss  = 0.9672549962997437 \n",
            "\tTest Accuracy =  0.7716049551963806 || Test Loss = 0.005130213719827158 \n",
            "\tTraining time =  4.627372741699219\n",
            "--- Epoch 85 ---\n",
            "\tTrain Accuracy = 0.9242658019065857 || Train Loss  = 0.8740969300270081 \n",
            "\tTest Accuracy =  0.7716049551963806 || Test Loss = 0.004950497989301328 \n",
            "\tTraining time =  4.65012001991272\n",
            "--- Epoch 86 ---\n",
            "\tTrain Accuracy = 0.9057186841964722 || Train Loss  = 0.9431883990764618 \n",
            "\tTest Accuracy =  0.7654321193695068 || Test Loss = 0.004863123834869008 \n",
            "\tTraining time =  4.665490627288818\n",
            "--- Epoch 87 ---\n",
            "\tTrain Accuracy = 0.9057186841964722 || Train Loss  = 0.9388961791992188 \n",
            "\tTest Accuracy =  0.7592592835426331 || Test Loss = 0.005031291349434558 \n",
            "\tTraining time =  4.63643741607666\n",
            "--- Epoch 88 ---\n",
            "\tTrain Accuracy = 0.9134466648101807 || Train Loss  = 0.9678805470466614 \n",
            "\tTest Accuracy =  0.7654321193695068 || Test Loss = 0.004900421257372256 \n",
            "\tTraining time =  4.8542726039886475\n",
            "--- Epoch 89 ---\n",
            "\tTrain Accuracy = 0.9196290373802185 || Train Loss  = 0.802297830581665 \n",
            "\tTest Accuracy =  0.7654321193695068 || Test Loss = 0.004947611211258688 \n",
            "\tTraining time =  4.590360403060913\n",
            "--- Epoch 90 ---\n",
            "\tTrain Accuracy = 0.9134466648101807 || Train Loss  = 0.9206002354621887 \n",
            "\tTest Accuracy =  0.7839506268501282 || Test Loss = 0.004905473302911829 \n",
            "\tTraining time =  4.581487655639648\n",
            "--- Epoch 91 ---\n",
            "\tTrain Accuracy = 0.9088098406791687 || Train Loss  = 1.0078538358211517 \n",
            "\tTest Accuracy =  0.7777777910232544 || Test Loss = 0.0050667667830431905 \n",
            "\tTraining time =  4.5972747802734375\n",
            "--- Epoch 92 ---\n",
            "\tTrain Accuracy = 0.9010818600654602 || Train Loss  = 0.9731336385011673 \n",
            "\tTest Accuracy =  0.7839506268501282 || Test Loss = 0.0052470693617691225 \n",
            "\tTraining time =  4.633666038513184\n",
            "--- Epoch 93 ---\n",
            "\tTrain Accuracy = 0.9149922132492065 || Train Loss  = 0.8605822920799255 \n",
            "\tTest Accuracy =  0.7592592835426331 || Test Loss = 0.005149044740347214 \n",
            "\tTraining time =  4.64180588722229\n",
            "--- Epoch 94 ---\n",
            "\tTrain Accuracy = 0.9319937825202942 || Train Loss  = 0.770007535815239 \n",
            "\tTest Accuracy =  0.7469136118888855 || Test Loss = 0.005130001056341477 \n",
            "\tTraining time =  4.620945453643799\n",
            "--- Epoch 95 ---\n",
            "\tTrain Accuracy = 0.9211746454238892 || Train Loss  = 0.8624790012836456 \n",
            "\tTest Accuracy =  0.7716049551963806 || Test Loss = 0.005104009751920347 \n",
            "\tTraining time =  4.610100507736206\n",
            "--- Epoch 96 ---\n",
            "\tTrain Accuracy = 0.922720193862915 || Train Loss  = 0.8631636202335358 \n",
            "\tTest Accuracy =  0.7777777910232544 || Test Loss = 0.005108527195306472 \n",
            "\tTraining time =  4.616876840591431\n",
            "--- Epoch 97 ---\n",
            "\tTrain Accuracy = 0.927357017993927 || Train Loss  = 0.8861666917800903 \n",
            "\tTest Accuracy =  0.790123462677002 || Test Loss = 0.004982631147643666 \n",
            "\tTraining time =  4.639329195022583\n",
            "--- Epoch 98 ---\n",
            "\tTrain Accuracy = 0.9211746454238892 || Train Loss  = 0.8380474001169205 \n",
            "\tTest Accuracy =  0.7654321193695068 || Test Loss = 0.0049809004053657435 \n",
            "\tTraining time =  4.669656753540039\n",
            "--- Epoch 99 ---\n",
            "\tTrain Accuracy = 0.9304481744766235 || Train Loss  = 0.826970562338829 \n",
            "\tTest Accuracy =  0.7407407760620117 || Test Loss = 0.005174658548684768 \n",
            "\tTraining time =  4.655885696411133\n",
            "--- Epoch 100 ---\n",
            "\tTrain Accuracy = 0.9211746454238892 || Train Loss  = 0.8307665884494781 \n",
            "\tTest Accuracy =  0.7469136118888855 || Test Loss = 0.005277632195272564 \n",
            "\tTraining time =  4.766407251358032\n",
            "--- Epoch 101 ---\n",
            "\tTrain Accuracy = 0.9289026260375977 || Train Loss  = 0.8109650015830994 \n",
            "\tTest Accuracy =  0.7530864477157593 || Test Loss = 0.005259344239293793 \n",
            "\tTraining time =  4.6485583782196045\n",
            "--- Epoch 102 ---\n",
            "\tTrain Accuracy = 0.9242658019065857 || Train Loss  = 0.8598840683698654 \n",
            "\tTest Accuracy =  0.7716049551963806 || Test Loss = 0.00518612324455638 \n",
            "\tTraining time =  4.606542348861694\n",
            "--- Epoch 103 ---\n",
            "\tTrain Accuracy = 0.938176155090332 || Train Loss  = 0.8200818300247192 \n",
            "\tTest Accuracy =  0.7777777910232544 || Test Loss = 0.005094427753377844 \n",
            "\tTraining time =  4.591869592666626\n",
            "--- Epoch 104 ---\n",
            "\tTrain Accuracy = 0.9350849986076355 || Train Loss  = 0.7743929475545883 \n",
            "\tTest Accuracy =  0.7839506268501282 || Test Loss = 0.005056051928320049 \n",
            "\tTraining time =  4.564742803573608\n",
            "--- Epoch 105 ---\n",
            "\tTrain Accuracy = 0.9134466648101807 || Train Loss  = 0.8190043121576309 \n",
            "\tTest Accuracy =  0.7716049551963806 || Test Loss = 0.00502074353488875 \n",
            "\tTraining time =  4.6654064655303955\n",
            "--- Epoch 106 ---\n",
            "\tTrain Accuracy = 0.9041730761528015 || Train Loss  = 0.9284616708755493 \n",
            "\tTest Accuracy =  0.7654321193695068 || Test Loss = 0.004896957933166881 \n",
            "\tTraining time =  4.645176887512207\n",
            "--- Epoch 107 ---\n",
            "\tTrain Accuracy = 0.9180834293365479 || Train Loss  = 0.8054525852203369 \n",
            "\tTest Accuracy =  0.7530864477157593 || Test Loss = 0.004889413898373827 \n",
            "\tTraining time =  4.595998764038086\n",
            "--- Epoch 108 ---\n",
            "\tTrain Accuracy = 0.9319937825202942 || Train Loss  = 0.7231953144073486 \n",
            "\tTest Accuracy =  0.7777777910232544 || Test Loss = 0.004816482832402359 \n",
            "\tTraining time =  4.5969789028167725\n",
            "--- Epoch 109 ---\n",
            "\tTrain Accuracy = 0.9165378212928772 || Train Loss  = 0.8879804909229279 \n",
            "\tTest Accuracy =  0.7777777910232544 || Test Loss = 0.004829775404047083 \n",
            "\tTraining time =  4.6357035636901855\n",
            "--- Epoch 110 ---\n",
            "\tTrain Accuracy = 0.9397217631340027 || Train Loss  = 0.6970023512840271 \n",
            "\tTest Accuracy =  0.790123462677002 || Test Loss = 0.00479709623772421 \n",
            "\tTraining time =  4.660120964050293\n",
            "--- Epoch 111 ---\n",
            "\tTrain Accuracy = 0.922720193862915 || Train Loss  = 0.733971044421196 \n",
            "\tTest Accuracy =  0.7962962985038757 || Test Loss = 0.004765570163726807 \n",
            "\tTraining time =  4.656546354293823\n",
            "--- Epoch 112 ---\n",
            "\tTrain Accuracy = 0.9304481744766235 || Train Loss  = 0.7189708203077316 \n",
            "\tTest Accuracy =  0.7777777910232544 || Test Loss = 0.0048552162853288065 \n",
            "\tTraining time =  4.665851593017578\n",
            "--- Epoch 113 ---\n",
            "\tTrain Accuracy = 0.9289026260375977 || Train Loss  = 0.8497296124696732 \n",
            "\tTest Accuracy =  0.7839506268501282 || Test Loss = 0.005040074940080996 \n",
            "\tTraining time =  4.718125581741333\n",
            "--- Epoch 114 ---\n",
            "\tTrain Accuracy = 0.9088098406791687 || Train Loss  = 0.9120761454105377 \n",
            "\tTest Accuracy =  0.7654321193695068 || Test Loss = 0.004969259103139241 \n",
            "\tTraining time =  4.5962536334991455\n",
            "--- Epoch 115 ---\n",
            "\tTrain Accuracy = 0.9180834293365479 || Train Loss  = 0.7833453565835953 \n",
            "\tTest Accuracy =  0.7716049551963806 || Test Loss = 0.00482075928170004 \n",
            "\tTraining time =  4.603052854537964\n",
            "--- Epoch 116 ---\n",
            "\tTrain Accuracy = 0.938176155090332 || Train Loss  = 0.6921350508928299 \n",
            "\tTest Accuracy =  0.7962962985038757 || Test Loss = 0.004802289936277602 \n",
            "\tTraining time =  4.592445135116577\n",
            "--- Epoch 117 ---\n",
            "\tTrain Accuracy = 0.9412673711776733 || Train Loss  = 0.600455030798912 \n",
            "\tTest Accuracy =  0.790123462677002 || Test Loss = 0.0050047095175142645 \n",
            "\tTraining time =  4.6126673221588135\n",
            "--- Epoch 118 ---\n",
            "\tTrain Accuracy = 0.9289026260375977 || Train Loss  = 0.6901072114706039 \n",
            "\tTest Accuracy =  0.7716049551963806 || Test Loss = 0.004927367339899511 \n",
            "\tTraining time =  4.645134925842285\n",
            "--- Epoch 119 ---\n",
            "\tTrain Accuracy = 0.9304481744766235 || Train Loss  = 0.6473596394062042 \n",
            "\tTest Accuracy =  0.7962962985038757 || Test Loss = 0.0048468749464294055 \n",
            "\tTraining time =  4.590676546096802\n",
            "--- Epoch 120 ---\n",
            "\tTrain Accuracy = 0.9319937825202942 || Train Loss  = 0.7774450927972794 \n",
            "\tTest Accuracy =  0.7654321193695068 || Test Loss = 0.004908042557445573 \n",
            "\tTraining time =  4.589946508407593\n",
            "--- Epoch 121 ---\n",
            "\tTrain Accuracy = 0.9366305470466614 || Train Loss  = 0.6687970012426376 \n",
            "\tTest Accuracy =  0.7469136118888855 || Test Loss = 0.005040278037389119 \n",
            "\tTraining time =  4.613025903701782\n",
            "--- Epoch 122 ---\n",
            "\tTrain Accuracy = 0.9366305470466614 || Train Loss  = 0.6812982857227325 \n",
            "\tTest Accuracy =  0.7654321193695068 || Test Loss = 0.005160775081610974 \n",
            "\tTraining time =  4.6417670249938965\n",
            "--- Epoch 123 ---\n",
            "\tTrain Accuracy = 0.9196290373802185 || Train Loss  = 0.823026105761528 \n",
            "\tTest Accuracy =  0.7777777910232544 || Test Loss = 0.005142807960510254 \n",
            "\tTraining time =  4.637584686279297\n",
            "--- Epoch 124 ---\n",
            "\tTrain Accuracy = 0.9551777243614197 || Train Loss  = 0.6684006154537201 \n",
            "\tTest Accuracy =  0.7777777910232544 || Test Loss = 0.005018499530391928 \n",
            "\tTraining time =  4.639114141464233\n",
            "--- Epoch 125 ---\n",
            "\tTrain Accuracy = 0.9211746454238892 || Train Loss  = 0.7021467983722687 \n",
            "\tTest Accuracy =  0.790123462677002 || Test Loss = 0.004912550802584048 \n",
            "\tTraining time =  4.665172815322876\n",
            "--- Epoch 126 ---\n",
            "\tTrain Accuracy = 0.9505409002304077 || Train Loss  = 0.6062342524528503 \n",
            "\tTest Accuracy =  0.7839506268501282 || Test Loss = 0.004862463768617606 \n",
            "\tTraining time =  4.718407869338989\n",
            "--- Epoch 127 ---\n",
            "\tTrain Accuracy = 0.938176155090332 || Train Loss  = 0.6363761574029922 \n",
            "\tTest Accuracy =  0.790123462677002 || Test Loss = 0.004893682621143482 \n",
            "\tTraining time =  4.5969932079315186\n",
            "--- Epoch 128 ---\n",
            "\tTrain Accuracy = 0.9412673711776733 || Train Loss  = 0.6332710385322571 \n",
            "\tTest Accuracy =  0.7716049551963806 || Test Loss = 0.005055656403671076 \n",
            "\tTraining time =  4.572180509567261\n",
            "--- Epoch 129 ---\n",
            "\tTrain Accuracy = 0.9211746454238892 || Train Loss  = 0.7920580506324768 \n",
            "\tTest Accuracy =  0.7592592835426331 || Test Loss = 0.005092941684487425 \n",
            "\tTraining time =  4.64506721496582\n",
            "--- Epoch 130 ---\n",
            "\tTrain Accuracy = 0.9335393905639648 || Train Loss  = 0.7196865081787109 \n",
            "\tTest Accuracy =  0.7654321193695068 || Test Loss = 0.005012998978296916 \n",
            "\tTraining time =  4.67008638381958\n",
            "--- Epoch 131 ---\n",
            "\tTrain Accuracy = 0.9443585276603699 || Train Loss  = 0.5842397809028625 \n",
            "\tTest Accuracy =  0.7654321193695068 || Test Loss = 0.004984977804584268 \n",
            "\tTraining time =  4.667450904846191\n",
            "--- Epoch 132 ---\n",
            "\tTrain Accuracy = 0.9474497437477112 || Train Loss  = 0.5730363577604294 \n",
            "\tTest Accuracy =  0.7592592835426331 || Test Loss = 0.0050132028114648515 \n",
            "\tTraining time =  4.582645654678345\n",
            "--- Epoch 133 ---\n",
            "\tTrain Accuracy = 0.9335393905639648 || Train Loss  = 0.6949807107448578 \n",
            "\tTest Accuracy =  0.7716049551963806 || Test Loss = 0.005018124241887787 \n",
            "\tTraining time =  4.639232873916626\n",
            "--- Epoch 134 ---\n",
            "\tTrain Accuracy = 0.9258114099502563 || Train Loss  = 0.8691040724515915 \n",
            "\tTest Accuracy =  0.7716049551963806 || Test Loss = 0.004966622517432695 \n",
            "\tTraining time =  4.663267374038696\n",
            "--- Epoch 135 ---\n",
            "\tTrain Accuracy = 0.9289026260375977 || Train Loss  = 0.7517326474189758 \n",
            "\tTest Accuracy =  0.7839506268501282 || Test Loss = 0.005009723666273517 \n",
            "\tTraining time =  4.666832208633423\n",
            "--- Epoch 136 ---\n",
            "\tTrain Accuracy = 0.927357017993927 || Train Loss  = 0.7237626165151596 \n",
            "\tTest Accuracy =  0.8024691343307495 || Test Loss = 0.004946707207479595 \n",
            "\tTraining time =  4.65076470375061\n",
            "--- Epoch 137 ---\n",
            "\tTrain Accuracy = 0.9350849986076355 || Train Loss  = 0.6635802239179611 \n",
            "\tTest Accuracy =  0.7962962985038757 || Test Loss = 0.004913213076414885 \n",
            "\tTraining time =  4.666898488998413\n",
            "--- Epoch 138 ---\n",
            "\tTrain Accuracy = 0.9412673711776733 || Train Loss  = 0.5914757698774338 \n",
            "\tTest Accuracy =  0.8024691343307495 || Test Loss = 0.004856850262041445 \n",
            "\tTraining time =  4.827608585357666\n",
            "--- Epoch 139 ---\n",
            "\tTrain Accuracy = 0.9319937825202942 || Train Loss  = 0.6561717092990875 \n",
            "\tTest Accuracy =  0.8086419701576233 || Test Loss = 0.004816668269074994 \n",
            "\tTraining time =  4.676147222518921\n",
            "--- Epoch 140 ---\n",
            "\tTrain Accuracy = 0.91190105676651 || Train Loss  = 0.7962235808372498 \n",
            "\tTest Accuracy =  0.7962962985038757 || Test Loss = 0.004723749410958938 \n",
            "\tTraining time =  4.624358177185059\n",
            "--- Epoch 141 ---\n",
            "\tTrain Accuracy = 0.9350849986076355 || Train Loss  = 0.7693396657705307 \n",
            "\tTest Accuracy =  0.7839506268501282 || Test Loss = 0.004849543542037775 \n",
            "\tTraining time =  4.616605520248413\n",
            "--- Epoch 142 ---\n",
            "\tTrain Accuracy = 0.9335393905639648 || Train Loss  = 0.6856016516685486 \n",
            "\tTest Accuracy =  0.7777777910232544 || Test Loss = 0.0049392025411864856 \n",
            "\tTraining time =  4.62399959564209\n",
            "--- Epoch 143 ---\n",
            "\tTrain Accuracy = 0.9397217631340027 || Train Loss  = 0.7058733999729156 \n",
            "\tTest Accuracy =  0.7716049551963806 || Test Loss = 0.004930682388352759 \n",
            "\tTraining time =  4.672950506210327\n",
            "--- Epoch 144 ---\n",
            "\tTrain Accuracy = 0.9350849986076355 || Train Loss  = 0.7356261610984802 \n",
            "\tTest Accuracy =  0.7654321193695068 || Test Loss = 0.004952910873625014 \n",
            "\tTraining time =  4.659902334213257\n",
            "--- Epoch 145 ---\n",
            "\tTrain Accuracy = 0.9366305470466614 || Train Loss  = 0.7096132636070251 \n",
            "\tTest Accuracy =  0.7654321193695068 || Test Loss = 0.004929087044280253 \n",
            "\tTraining time =  4.587393522262573\n",
            "--- Epoch 146 ---\n",
            "\tTrain Accuracy = 0.9397217631340027 || Train Loss  = 0.6619484126567841 \n",
            "\tTest Accuracy =  0.7592592835426331 || Test Loss = 0.004884536251609708 \n",
            "\tTraining time =  4.605442523956299\n",
            "--- Epoch 147 ---\n",
            "\tTrain Accuracy = 0.922720193862915 || Train Loss  = 0.7515202760696411 \n",
            "\tTest Accuracy =  0.7716049551963806 || Test Loss = 0.004844003621442819 \n",
            "\tTraining time =  4.652135848999023\n",
            "--- Epoch 148 ---\n",
            "\tTrain Accuracy = 0.938176155090332 || Train Loss  = 0.5624581426382065 \n",
            "\tTest Accuracy =  0.7839506268501282 || Test Loss = 0.005007634192337225 \n",
            "\tTraining time =  4.665266990661621\n",
            "--- Epoch 149 ---\n",
            "\tTrain Accuracy = 0.9180834293365479 || Train Loss  = 0.6870061308145523 \n",
            "\tTest Accuracy =  0.7839506268501282 || Test Loss = 0.00506402791282277 \n",
            "\tTraining time =  4.669449806213379\n",
            "--- Epoch 150 ---\n",
            "\tTrain Accuracy = 0.9258114099502563 || Train Loss  = 0.6644212603569031 \n",
            "\tTest Accuracy =  0.7777777910232544 || Test Loss = 0.005136433942818347 \n",
            "\tTraining time =  4.653818607330322\n",
            "--- Epoch 151 ---\n",
            "\tTrain Accuracy = 0.9304481744766235 || Train Loss  = 0.776413232088089 \n",
            "\tTest Accuracy =  0.7469136118888855 || Test Loss = 0.005185692398636429 \n",
            "\tTraining time =  4.71964955329895\n",
            "--- Epoch 152 ---\n",
            "\tTrain Accuracy = 0.9474497437477112 || Train Loss  = 0.5996060371398926 \n",
            "\tTest Accuracy =  0.7469136118888855 || Test Loss = 0.005162289481104156 \n",
            "\tTraining time =  4.591534376144409\n",
            "--- Epoch 153 ---\n",
            "\tTrain Accuracy = 0.9304481744766235 || Train Loss  = 0.7414888292551041 \n",
            "\tTest Accuracy =  0.7530864477157593 || Test Loss = 0.005007176487534134 \n",
            "\tTraining time =  4.60825252532959\n",
            "--- Epoch 154 ---\n",
            "\tTrain Accuracy = 0.9149922132492065 || Train Loss  = 0.789090171456337 \n",
            "\tTest Accuracy =  0.7839506268501282 || Test Loss = 0.00490370061662462 \n",
            "\tTraining time =  4.609286069869995\n",
            "--- Epoch 155 ---\n",
            "\tTrain Accuracy = 0.9335393905639648 || Train Loss  = 0.6297812759876251 \n",
            "\tTest Accuracy =  0.7962962985038757 || Test Loss = 0.004881919902047993 \n",
            "\tTraining time =  4.667313098907471\n",
            "--- Epoch 156 ---\n",
            "\tTrain Accuracy = 0.9443585276603699 || Train Loss  = 0.6267415285110474 \n",
            "\tTest Accuracy =  0.7777777910232544 || Test Loss = 0.004932679879812546 \n",
            "\tTraining time =  4.670029401779175\n",
            "--- Epoch 157 ---\n",
            "\tTrain Accuracy = 0.9459041357040405 || Train Loss  = 0.6658904999494553 \n",
            "\tTest Accuracy =  0.7962962985038757 || Test Loss = 0.0049669091348294855 \n",
            "\tTraining time =  4.6421959400177\n",
            "--- Epoch 158 ---\n",
            "\tTrain Accuracy = 0.942812979221344 || Train Loss  = 0.6048721671104431 \n",
            "\tTest Accuracy =  0.7962962985038757 || Test Loss = 0.004878600070505966 \n",
            "\tTraining time =  4.605464935302734\n",
            "--- Epoch 159 ---\n",
            "\tTrain Accuracy = 0.953632116317749 || Train Loss  = 0.5530735701322556 \n",
            "\tTest Accuracy =  0.7592592835426331 || Test Loss = 0.00481566161285212 \n",
            "\tTraining time =  4.6184241771698\n",
            "--- Epoch 160 ---\n",
            "\tTrain Accuracy = 0.942812979221344 || Train Loss  = 0.6521085053682327 \n",
            "\tTest Accuracy =  0.7654321193695068 || Test Loss = 0.004823178788762034 \n",
            "\tTraining time =  4.676502466201782\n",
            "--- Epoch 161 ---\n",
            "\tTrain Accuracy = 0.9319937825202942 || Train Loss  = 0.5914702266454697 \n",
            "\tTest Accuracy =  0.7777777910232544 || Test Loss = 0.004722376296549667 \n",
            "\tTraining time =  4.694110631942749\n",
            "--- Epoch 162 ---\n",
            "\tTrain Accuracy = 0.9505409002304077 || Train Loss  = 0.47722648084163666 \n",
            "\tTest Accuracy =  0.7777777910232544 || Test Loss = 0.004770214542930509 \n",
            "\tTraining time =  4.696586847305298\n",
            "--- Epoch 163 ---\n",
            "\tTrain Accuracy = 0.938176155090332 || Train Loss  = 0.6597753614187241 \n",
            "\tTest Accuracy =  0.790123462677002 || Test Loss = 0.004856847686532103 \n",
            "\tTraining time =  4.819158315658569\n",
            "--- Epoch 164 ---\n",
            "\tTrain Accuracy = 0.922720193862915 || Train Loss  = 0.672386422753334 \n",
            "\tTest Accuracy =  0.7777777910232544 || Test Loss = 0.0049231729389708715 \n",
            "\tTraining time =  4.6155383586883545\n",
            "--- Epoch 165 ---\n",
            "\tTrain Accuracy = 0.9443585276603699 || Train Loss  = 0.5993099361658096 \n",
            "\tTest Accuracy =  0.7654321193695068 || Test Loss = 0.005003524047357065 \n",
            "\tTraining time =  4.601038217544556\n",
            "--- Epoch 166 ---\n",
            "\tTrain Accuracy = 0.9474497437477112 || Train Loss  = 0.6235679239034653 \n",
            "\tTest Accuracy =  0.7654321193695068 || Test Loss = 0.00508617177421664 \n",
            "\tTraining time =  4.632975339889526\n",
            "--- Epoch 167 ---\n",
            "\tTrain Accuracy = 0.9443585276603699 || Train Loss  = 0.6028072834014893 \n",
            "\tTest Accuracy =  0.790123462677002 || Test Loss = 0.004985344630700571 \n",
            "\tTraining time =  4.622238397598267\n",
            "--- Epoch 168 ---\n",
            "\tTrain Accuracy = 0.9489953517913818 || Train Loss  = 0.5913882404565811 \n",
            "\tTest Accuracy =  0.790123462677002 || Test Loss = 0.004956659343507554 \n",
            "\tTraining time =  4.660860300064087\n",
            "--- Epoch 169 ---\n",
            "\tTrain Accuracy = 0.942812979221344 || Train Loss  = 0.6039535850286484 \n",
            "\tTest Accuracy =  0.790123462677002 || Test Loss = 0.004913890067441964 \n",
            "\tTraining time =  4.6632301807403564\n",
            "--- Epoch 170 ---\n",
            "\tTrain Accuracy = 0.9459041357040405 || Train Loss  = 0.5787230283021927 \n",
            "\tTest Accuracy =  0.7962962985038757 || Test Loss = 0.005006964927838173 \n",
            "\tTraining time =  4.61686635017395\n",
            "--- Epoch 171 ---\n",
            "\tTrain Accuracy = 0.9551777243614197 || Train Loss  = 0.5831096470355988 \n",
            "\tTest Accuracy =  0.7839506268501282 || Test Loss = 0.004920485578937295 \n",
            "\tTraining time =  4.635940074920654\n",
            "--- Epoch 172 ---\n",
            "\tTrain Accuracy = 0.938176155090332 || Train Loss  = 0.5679564774036407 \n",
            "\tTest Accuracy =  0.7962962985038757 || Test Loss = 0.004915340447131498 \n",
            "\tTraining time =  4.625651597976685\n",
            "--- Epoch 173 ---\n",
            "\tTrain Accuracy = 0.953632116317749 || Train Loss  = 0.5389992743730545 \n",
            "\tTest Accuracy =  0.7962962985038757 || Test Loss = 0.00483059036878892 \n",
            "\tTraining time =  4.67976713180542\n",
            "--- Epoch 174 ---\n",
            "\tTrain Accuracy = 0.9551777243614197 || Train Loss  = 0.5039454996585846 \n",
            "\tTest Accuracy =  0.7962962985038757 || Test Loss = 0.004710729107444669 \n",
            "\tTraining time =  4.663340091705322\n",
            "--- Epoch 175 ---\n",
            "\tTrain Accuracy = 0.9474497437477112 || Train Loss  = 0.5708880573511124 \n",
            "\tTest Accuracy =  0.8148148059844971 || Test Loss = 0.004778818583782808 \n",
            "\tTraining time =  4.693831205368042\n",
            "--- Epoch 176 ---\n",
            "\tTrain Accuracy = 0.9459041357040405 || Train Loss  = 0.6071005463600159 \n",
            "\tTest Accuracy =  0.790123462677002 || Test Loss = 0.004880672987596488 \n",
            "\tTraining time =  4.7351744174957275\n",
            "--- Epoch 177 ---\n",
            "\tTrain Accuracy = 0.942812979221344 || Train Loss  = 0.49473026394844055 \n",
            "\tTest Accuracy =  0.790123462677002 || Test Loss = 0.004956098618330779 \n",
            "\tTraining time =  4.6212780475616455\n",
            "--- Epoch 178 ---\n",
            "\tTrain Accuracy = 0.9397217631340027 || Train Loss  = 0.6530168354511261 \n",
            "\tTest Accuracy =  0.790123462677002 || Test Loss = 0.00489831265108085 \n",
            "\tTraining time =  4.636788368225098\n",
            "--- Epoch 179 ---\n",
            "\tTrain Accuracy = 0.922720193862915 || Train Loss  = 0.6998928785324097 \n",
            "\tTest Accuracy =  0.7777777910232544 || Test Loss = 0.0050515687024151835 \n",
            "\tTraining time =  4.597846269607544\n",
            "--- Epoch 180 ---\n",
            "\tTrain Accuracy = 0.938176155090332 || Train Loss  = 0.615493044257164 \n",
            "\tTest Accuracy =  0.7530864477157593 || Test Loss = 0.005162072034529698 \n",
            "\tTraining time =  4.673139810562134\n",
            "--- Epoch 181 ---\n",
            "\tTrain Accuracy = 0.9459041357040405 || Train Loss  = 0.5693919062614441 \n",
            "\tTest Accuracy =  0.7716049551963806 || Test Loss = 0.0050515120412096565 \n",
            "\tTraining time =  4.671966552734375\n",
            "--- Epoch 182 ---\n",
            "\tTrain Accuracy = 0.938176155090332 || Train Loss  = 0.6695900410413742 \n",
            "\tTest Accuracy =  0.7839506268501282 || Test Loss = 0.004952879967512908 \n",
            "\tTraining time =  4.5889317989349365\n",
            "--- Epoch 183 ---\n",
            "\tTrain Accuracy = 0.9551777243614197 || Train Loss  = 0.5253710597753525 \n",
            "\tTest Accuracy =  0.7962962985038757 || Test Loss = 0.004758800989315834 \n",
            "\tTraining time =  4.59656286239624\n",
            "--- Epoch 184 ---\n",
            "\tTrain Accuracy = 0.9412673711776733 || Train Loss  = 0.5707786977291107 \n",
            "\tTest Accuracy =  0.8024691343307495 || Test Loss = 0.004707977727607444 \n",
            "\tTraining time =  4.6253132820129395\n",
            "--- Epoch 185 ---\n",
            "\tTrain Accuracy = 0.9366305470466614 || Train Loss  = 0.6033926159143448 \n",
            "\tTest Accuracy =  0.8086419701576233 || Test Loss = 0.004728608661227756 \n",
            "\tTraining time =  4.671895980834961\n",
            "--- Epoch 186 ---\n",
            "\tTrain Accuracy = 0.9319937825202942 || Train Loss  = 0.661279171705246 \n",
            "\tTest Accuracy =  0.7962962985038757 || Test Loss = 0.00481826913209609 \n",
            "\tTraining time =  4.649922132492065\n",
            "--- Epoch 187 ---\n",
            "\tTrain Accuracy = 0.9551777243614197 || Train Loss  = 0.4876379072666168 \n",
            "\tTest Accuracy =  0.8024691343307495 || Test Loss = 0.004945663022406307 \n",
            "\tTraining time =  4.693970441818237\n",
            "--- Epoch 188 ---\n",
            "\tTrain Accuracy = 0.9412673711776733 || Train Loss  = 0.5958296805620193 \n",
            "\tTest Accuracy =  0.790123462677002 || Test Loss = 0.005083386912757968 \n",
            "\tTraining time =  4.922648906707764\n",
            "--- Epoch 189 ---\n",
            "\tTrain Accuracy = 0.9613600969314575 || Train Loss  = 0.4925001263618469 \n",
            "\tTest Accuracy =  0.790123462677002 || Test Loss = 0.005063209268781874 \n",
            "\tTraining time =  4.632819890975952\n",
            "--- Epoch 190 ---\n",
            "\tTrain Accuracy = 0.9582688808441162 || Train Loss  = 0.5176755487918854 \n",
            "\tTest Accuracy =  0.8024691343307495 || Test Loss = 0.004992860702820766 \n",
            "\tTraining time =  4.618365287780762\n",
            "--- Epoch 191 ---\n",
            "\tTrain Accuracy = 0.9474497437477112 || Train Loss  = 0.5672838389873505 \n",
            "\tTest Accuracy =  0.7962962985038757 || Test Loss = 0.004987946630995951 \n",
            "\tTraining time =  4.59614896774292\n",
            "--- Epoch 192 ---\n",
            "\tTrain Accuracy = 0.9567233324050903 || Train Loss  = 0.5277509689331055 \n",
            "\tTest Accuracy =  0.790123462677002 || Test Loss = 0.00510391887323356 \n",
            "\tTraining time =  4.616313457489014\n",
            "--- Epoch 193 ---\n",
            "\tTrain Accuracy = 0.942812979221344 || Train Loss  = 0.4991065412759781 \n",
            "\tTest Accuracy =  0.7839506268501282 || Test Loss = 0.005149131571805036 \n",
            "\tTraining time =  4.651017189025879\n",
            "--- Epoch 194 ---\n",
            "\tTrain Accuracy = 0.942812979221344 || Train Loss  = 0.5698942691087723 \n",
            "\tTest Accuracy =  0.7777777910232544 || Test Loss = 0.005213694072064058 \n",
            "\tTraining time =  4.656630277633667\n",
            "--- Epoch 195 ---\n",
            "\tTrain Accuracy = 0.9582688808441162 || Train Loss  = 0.49734364449977875 \n",
            "\tTest Accuracy =  0.7716049551963806 || Test Loss = 0.005162348349889119 \n",
            "\tTraining time =  4.598734617233276\n",
            "--- Epoch 196 ---\n",
            "\tTrain Accuracy = 0.9505409002304077 || Train Loss  = 0.4857502281665802 \n",
            "\tTest Accuracy =  0.7716049551963806 || Test Loss = 0.005056193581333867 \n",
            "\tTraining time =  4.598127365112305\n",
            "--- Epoch 197 ---\n",
            "\tTrain Accuracy = 0.9459041357040405 || Train Loss  = 0.5158332735300064 \n",
            "\tTest Accuracy =  0.7839506268501282 || Test Loss = 0.004912099720519266 \n",
            "\tTraining time =  4.616230249404907\n",
            "--- Epoch 198 ---\n",
            "\tTrain Accuracy = 0.9211746454238892 || Train Loss  = 0.6821670085191727 \n",
            "\tTest Accuracy =  0.7839506268501282 || Test Loss = 0.004926508591498857 \n",
            "\tTraining time =  4.631166458129883\n",
            "--- Epoch 199 ---\n",
            "\tTrain Accuracy = 0.9366305470466614 || Train Loss  = 0.5958874523639679 \n",
            "\tTest Accuracy =  0.7839506268501282 || Test Loss = 0.004955393664630843 \n",
            "\tTraining time =  4.644447565078735\n",
            "--- Epoch 200 ---\n",
            "\tTrain Accuracy = 0.9598144888877869 || Train Loss  = 0.40291329473257065 \n",
            "\tTest Accuracy =  0.7777777910232544 || Test Loss = 0.00502995318836636 \n",
            "\tTraining time =  4.649605989456177\n"
          ]
        }
      ]
    },
    {
      "cell_type": "markdown",
      "source": [
        "## Accuracy - Loss Plot"
      ],
      "metadata": {
        "id": "5YABF67ANbsc"
      }
    },
    {
      "cell_type": "code",
      "source": [
        "xx = np.arange(n_epochs)\n",
        "plt.style.use(\"ggplot\")\n",
        "acc = torch.Tensor(ACC).detach().cpu().numpy()\n",
        "lss = torch.Tensor(LOSS).detach().cpu().numpy()\n",
        "fig, (ax1, ax2) = plt.subplots(1, 2,figsize=(12,6))\n",
        "fig.suptitle('ACC vs LOSS')\n",
        "ax1.plot(xx, acc, c='g')\n",
        "ax2.plot(xx, lss, c='red')\n",
        "plt.show()"
      ],
      "metadata": {
        "execution": {
          "iopub.status.busy": "2022-05-16T08:26:48.931349Z",
          "iopub.execute_input": "2022-05-16T08:26:48.931774Z",
          "iopub.status.idle": "2022-05-16T08:26:49.199597Z",
          "shell.execute_reply.started": "2022-05-16T08:26:48.931735Z",
          "shell.execute_reply": "2022-05-16T08:26:49.19896Z"
        },
        "trusted": true,
        "id": "YUlMOG-CNbsd",
        "colab": {
          "base_uri": "https://localhost:8080/",
          "height": 417
        },
        "outputId": "2ac9b279-6763-4d8b-a05a-dfdee5344439"
      },
      "execution_count": 85,
      "outputs": [
        {
          "output_type": "display_data",
          "data": {
            "text/plain": [
              "<Figure size 864x432 with 2 Axes>"
            ],
            "image/png": "[encoded data removed]"
          },
          "metadata": {}
        }
      ]
    },
    {
      "cell_type": "markdown",
      "source": [
        "## Prediction On Test Images"
      ],
      "metadata": {
        "id": "U7tQXeXFNbsd"
      }
    },
    {
      "cell_type": "code",
      "source": [
        "testimage = list(paths.list_images('./flickr_logos_27_dataset_images'))"
      ],
      "metadata": {
        "execution": {
          "iopub.status.busy": "2022-05-16T08:26:49.200944Z",
          "iopub.execute_input": "2022-05-16T08:26:49.201404Z",
          "iopub.status.idle": "2022-05-16T08:26:49.210215Z",
          "shell.execute_reply.started": "2022-05-16T08:26:49.201367Z",
          "shell.execute_reply": "2022-05-16T08:26:49.209561Z"
        },
        "trusted": true,
        "id": "Y2xhXJ3dNbsd"
      },
      "execution_count": 86,
      "outputs": []
    },
    {
      "cell_type": "code",
      "source": [
        "def predimg(path):\n",
        "    from PIL import Image\n",
        "    image = Image.open(path)\n",
        "    plt.imshow(image)\n",
        "    plt.axis(\"off\")\n",
        "    plt.show() \n",
        "    model.eval()\n",
        "    with torch.no_grad():\n",
        "      img =  load_img(path,target_size=(WIDTH,HEIGHT))\n",
        "      img = torch.from_numpy(np.asarray(img)).permute(2, 0, 1)\n",
        "      img = img[None].to(device)\n",
        "      output = model(img.float())\n",
        "      output = torch.exp(output)\n",
        "      print(output)\n",
        "      index = output.data.cpu().numpy().argmax()\n",
        "      print(\"PREDICTED CLASS = \",trainDataset.classes[index])"
      ],
      "metadata": {
        "execution": {
          "iopub.status.busy": "2022-05-16T08:26:49.212084Z",
          "iopub.execute_input": "2022-05-16T08:26:49.212746Z",
          "iopub.status.idle": "2022-05-16T08:26:49.222742Z",
          "shell.execute_reply.started": "2022-05-16T08:26:49.21271Z",
          "shell.execute_reply": "2022-05-16T08:26:49.221921Z"
        },
        "trusted": true,
        "id": "SdbhYJ71Nbsd"
      },
      "execution_count": 87,
      "outputs": []
    },
    {
      "cell_type": "code",
      "source": [
        "predimg(testimage[300])"
      ],
      "metadata": {
        "execution": {
          "iopub.status.busy": "2022-05-16T08:26:49.223784Z",
          "iopub.execute_input": "2022-05-16T08:26:49.224083Z",
          "iopub.status.idle": "2022-05-16T08:26:49.416393Z",
          "shell.execute_reply.started": "2022-05-16T08:26:49.224047Z",
          "shell.execute_reply": "2022-05-16T08:26:49.414886Z"
        },
        "trusted": true,
        "id": "dP5x3KRiNbsd"
      },
      "execution_count": null,
      "outputs": []
    },
    {
      "cell_type": "code",
      "source": [
        ""
      ],
      "metadata": {
        "id": "qgqDve-wpE_U"
      },
      "execution_count": 88,
      "outputs": []
    }
  ]
}